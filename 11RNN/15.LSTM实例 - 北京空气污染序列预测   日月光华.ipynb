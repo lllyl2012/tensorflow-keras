{
 "cells": [
  {
   "cell_type": "code",
   "execution_count": 42,
   "metadata": {},
   "outputs": [],
   "source": [
    "from tensorflow import keras\n",
    "from tensorflow.keras import layers"
   ]
  },
  {
   "cell_type": "code",
   "execution_count": 43,
   "metadata": {},
   "outputs": [],
   "source": [
    "import pandas as pd\n",
    "import numpy as np\n",
    "import matplotlib.pyplot as plt\n",
    "%matplotlib inline"
   ]
  },
  {
   "cell_type": "code",
   "execution_count": 44,
   "metadata": {},
   "outputs": [],
   "source": [
    "data = pd.read_csv('E:\\\\study\\\\tensorflow\\\\data\\\\PRSA_data_2010.1.1-2014.12.31.csv')"
   ]
  },
  {
   "cell_type": "code",
   "execution_count": 45,
   "metadata": {},
   "outputs": [
    {
     "name": "stdout",
     "output_type": "stream",
     "text": [
      "<class 'pandas.core.frame.DataFrame'>\n",
      "RangeIndex: 43824 entries, 0 to 43823\n",
      "Data columns (total 13 columns):\n",
      "No       43824 non-null int64\n",
      "year     43824 non-null int64\n",
      "month    43824 non-null int64\n",
      "day      43824 non-null int64\n",
      "hour     43824 non-null int64\n",
      "pm2.5    41757 non-null float64\n",
      "DEWP     43824 non-null int64\n",
      "TEMP     43824 non-null float64\n",
      "PRES     43824 non-null float64\n",
      "cbwd     43824 non-null object\n",
      "Iws      43824 non-null float64\n",
      "Is       43824 non-null int64\n",
      "Ir       43824 non-null int64\n",
      "dtypes: float64(4), int64(8), object(1)\n",
      "memory usage: 4.3+ MB\n"
     ]
    }
   ],
   "source": [
    "data.info()"
   ]
  },
  {
   "cell_type": "code",
   "execution_count": 46,
   "metadata": {},
   "outputs": [
    {
     "data": {
      "text/html": [
       "<div>\n",
       "<style scoped>\n",
       "    .dataframe tbody tr th:only-of-type {\n",
       "        vertical-align: middle;\n",
       "    }\n",
       "\n",
       "    .dataframe tbody tr th {\n",
       "        vertical-align: top;\n",
       "    }\n",
       "\n",
       "    .dataframe thead th {\n",
       "        text-align: right;\n",
       "    }\n",
       "</style>\n",
       "<table border=\"1\" class=\"dataframe\">\n",
       "  <thead>\n",
       "    <tr style=\"text-align: right;\">\n",
       "      <th></th>\n",
       "      <th>No</th>\n",
       "      <th>year</th>\n",
       "      <th>month</th>\n",
       "      <th>day</th>\n",
       "      <th>hour</th>\n",
       "      <th>pm2.5</th>\n",
       "      <th>DEWP</th>\n",
       "      <th>TEMP</th>\n",
       "      <th>PRES</th>\n",
       "      <th>cbwd</th>\n",
       "      <th>Iws</th>\n",
       "      <th>Is</th>\n",
       "      <th>Ir</th>\n",
       "    </tr>\n",
       "  </thead>\n",
       "  <tbody>\n",
       "    <tr>\n",
       "      <td>0</td>\n",
       "      <td>1</td>\n",
       "      <td>2010</td>\n",
       "      <td>1</td>\n",
       "      <td>1</td>\n",
       "      <td>0</td>\n",
       "      <td>NaN</td>\n",
       "      <td>-21</td>\n",
       "      <td>-11.0</td>\n",
       "      <td>1021.0</td>\n",
       "      <td>NW</td>\n",
       "      <td>1.79</td>\n",
       "      <td>0</td>\n",
       "      <td>0</td>\n",
       "    </tr>\n",
       "    <tr>\n",
       "      <td>1</td>\n",
       "      <td>2</td>\n",
       "      <td>2010</td>\n",
       "      <td>1</td>\n",
       "      <td>1</td>\n",
       "      <td>1</td>\n",
       "      <td>NaN</td>\n",
       "      <td>-21</td>\n",
       "      <td>-12.0</td>\n",
       "      <td>1020.0</td>\n",
       "      <td>NW</td>\n",
       "      <td>4.92</td>\n",
       "      <td>0</td>\n",
       "      <td>0</td>\n",
       "    </tr>\n",
       "    <tr>\n",
       "      <td>2</td>\n",
       "      <td>3</td>\n",
       "      <td>2010</td>\n",
       "      <td>1</td>\n",
       "      <td>1</td>\n",
       "      <td>2</td>\n",
       "      <td>NaN</td>\n",
       "      <td>-21</td>\n",
       "      <td>-11.0</td>\n",
       "      <td>1019.0</td>\n",
       "      <td>NW</td>\n",
       "      <td>6.71</td>\n",
       "      <td>0</td>\n",
       "      <td>0</td>\n",
       "    </tr>\n",
       "    <tr>\n",
       "      <td>3</td>\n",
       "      <td>4</td>\n",
       "      <td>2010</td>\n",
       "      <td>1</td>\n",
       "      <td>1</td>\n",
       "      <td>3</td>\n",
       "      <td>NaN</td>\n",
       "      <td>-21</td>\n",
       "      <td>-14.0</td>\n",
       "      <td>1019.0</td>\n",
       "      <td>NW</td>\n",
       "      <td>9.84</td>\n",
       "      <td>0</td>\n",
       "      <td>0</td>\n",
       "    </tr>\n",
       "    <tr>\n",
       "      <td>4</td>\n",
       "      <td>5</td>\n",
       "      <td>2010</td>\n",
       "      <td>1</td>\n",
       "      <td>1</td>\n",
       "      <td>4</td>\n",
       "      <td>NaN</td>\n",
       "      <td>-20</td>\n",
       "      <td>-12.0</td>\n",
       "      <td>1018.0</td>\n",
       "      <td>NW</td>\n",
       "      <td>12.97</td>\n",
       "      <td>0</td>\n",
       "      <td>0</td>\n",
       "    </tr>\n",
       "    <tr>\n",
       "      <td>...</td>\n",
       "      <td>...</td>\n",
       "      <td>...</td>\n",
       "      <td>...</td>\n",
       "      <td>...</td>\n",
       "      <td>...</td>\n",
       "      <td>...</td>\n",
       "      <td>...</td>\n",
       "      <td>...</td>\n",
       "      <td>...</td>\n",
       "      <td>...</td>\n",
       "      <td>...</td>\n",
       "      <td>...</td>\n",
       "      <td>...</td>\n",
       "    </tr>\n",
       "    <tr>\n",
       "      <td>43548</td>\n",
       "      <td>43549</td>\n",
       "      <td>2014</td>\n",
       "      <td>12</td>\n",
       "      <td>20</td>\n",
       "      <td>12</td>\n",
       "      <td>NaN</td>\n",
       "      <td>-18</td>\n",
       "      <td>0.0</td>\n",
       "      <td>1030.0</td>\n",
       "      <td>NW</td>\n",
       "      <td>244.97</td>\n",
       "      <td>0</td>\n",
       "      <td>0</td>\n",
       "    </tr>\n",
       "    <tr>\n",
       "      <td>43549</td>\n",
       "      <td>43550</td>\n",
       "      <td>2014</td>\n",
       "      <td>12</td>\n",
       "      <td>20</td>\n",
       "      <td>13</td>\n",
       "      <td>NaN</td>\n",
       "      <td>-19</td>\n",
       "      <td>1.0</td>\n",
       "      <td>1029.0</td>\n",
       "      <td>NW</td>\n",
       "      <td>249.89</td>\n",
       "      <td>0</td>\n",
       "      <td>0</td>\n",
       "    </tr>\n",
       "    <tr>\n",
       "      <td>43550</td>\n",
       "      <td>43551</td>\n",
       "      <td>2014</td>\n",
       "      <td>12</td>\n",
       "      <td>20</td>\n",
       "      <td>14</td>\n",
       "      <td>NaN</td>\n",
       "      <td>-20</td>\n",
       "      <td>1.0</td>\n",
       "      <td>1029.0</td>\n",
       "      <td>NW</td>\n",
       "      <td>257.04</td>\n",
       "      <td>0</td>\n",
       "      <td>0</td>\n",
       "    </tr>\n",
       "    <tr>\n",
       "      <td>43551</td>\n",
       "      <td>43552</td>\n",
       "      <td>2014</td>\n",
       "      <td>12</td>\n",
       "      <td>20</td>\n",
       "      <td>15</td>\n",
       "      <td>NaN</td>\n",
       "      <td>-20</td>\n",
       "      <td>2.0</td>\n",
       "      <td>1028.0</td>\n",
       "      <td>NW</td>\n",
       "      <td>262.85</td>\n",
       "      <td>0</td>\n",
       "      <td>0</td>\n",
       "    </tr>\n",
       "    <tr>\n",
       "      <td>43552</td>\n",
       "      <td>43553</td>\n",
       "      <td>2014</td>\n",
       "      <td>12</td>\n",
       "      <td>20</td>\n",
       "      <td>16</td>\n",
       "      <td>NaN</td>\n",
       "      <td>-21</td>\n",
       "      <td>1.0</td>\n",
       "      <td>1028.0</td>\n",
       "      <td>NW</td>\n",
       "      <td>270.00</td>\n",
       "      <td>0</td>\n",
       "      <td>0</td>\n",
       "    </tr>\n",
       "  </tbody>\n",
       "</table>\n",
       "<p>2067 rows × 13 columns</p>\n",
       "</div>"
      ],
      "text/plain": [
       "          No  year  month  day  hour  pm2.5  DEWP  TEMP    PRES cbwd     Iws  \\\n",
       "0          1  2010      1    1     0    NaN   -21 -11.0  1021.0   NW    1.79   \n",
       "1          2  2010      1    1     1    NaN   -21 -12.0  1020.0   NW    4.92   \n",
       "2          3  2010      1    1     2    NaN   -21 -11.0  1019.0   NW    6.71   \n",
       "3          4  2010      1    1     3    NaN   -21 -14.0  1019.0   NW    9.84   \n",
       "4          5  2010      1    1     4    NaN   -20 -12.0  1018.0   NW   12.97   \n",
       "...      ...   ...    ...  ...   ...    ...   ...   ...     ...  ...     ...   \n",
       "43548  43549  2014     12   20    12    NaN   -18   0.0  1030.0   NW  244.97   \n",
       "43549  43550  2014     12   20    13    NaN   -19   1.0  1029.0   NW  249.89   \n",
       "43550  43551  2014     12   20    14    NaN   -20   1.0  1029.0   NW  257.04   \n",
       "43551  43552  2014     12   20    15    NaN   -20   2.0  1028.0   NW  262.85   \n",
       "43552  43553  2014     12   20    16    NaN   -21   1.0  1028.0   NW  270.00   \n",
       "\n",
       "       Is  Ir  \n",
       "0       0   0  \n",
       "1       0   0  \n",
       "2       0   0  \n",
       "3       0   0  \n",
       "4       0   0  \n",
       "...    ..  ..  \n",
       "43548   0   0  \n",
       "43549   0   0  \n",
       "43550   0   0  \n",
       "43551   0   0  \n",
       "43552   0   0  \n",
       "\n",
       "[2067 rows x 13 columns]"
      ]
     },
     "execution_count": 46,
     "metadata": {},
     "output_type": "execute_result"
    }
   ],
   "source": [
    "data[data['pm2.5'].isna()]"
   ]
  },
  {
   "cell_type": "code",
   "execution_count": 47,
   "metadata": {},
   "outputs": [],
   "source": [
    "data = data.iloc[24:].copy()"
   ]
  },
  {
   "cell_type": "code",
   "execution_count": 48,
   "metadata": {},
   "outputs": [],
   "source": [
    "data.fillna(method='ffill', inplace=True)"
   ]
  },
  {
   "cell_type": "code",
   "execution_count": 49,
   "metadata": {},
   "outputs": [
    {
     "name": "stdout",
     "output_type": "stream",
     "text": [
      "<class 'pandas.core.frame.DataFrame'>\n",
      "RangeIndex: 43800 entries, 24 to 43823\n",
      "Data columns (total 13 columns):\n",
      "No       43800 non-null int64\n",
      "year     43800 non-null int64\n",
      "month    43800 non-null int64\n",
      "day      43800 non-null int64\n",
      "hour     43800 non-null int64\n",
      "pm2.5    43800 non-null float64\n",
      "DEWP     43800 non-null int64\n",
      "TEMP     43800 non-null float64\n",
      "PRES     43800 non-null float64\n",
      "cbwd     43800 non-null object\n",
      "Iws      43800 non-null float64\n",
      "Is       43800 non-null int64\n",
      "Ir       43800 non-null int64\n",
      "dtypes: float64(4), int64(8), object(1)\n",
      "memory usage: 4.3+ MB\n"
     ]
    }
   ],
   "source": [
    "data.info()"
   ]
  },
  {
   "cell_type": "code",
   "execution_count": 50,
   "metadata": {},
   "outputs": [],
   "source": [
    "data.drop('No', axis=1, inplace=True)"
   ]
  },
  {
   "cell_type": "code",
   "execution_count": 51,
   "metadata": {},
   "outputs": [],
   "source": [
    "import datetime"
   ]
  },
  {
   "cell_type": "code",
   "execution_count": 52,
   "metadata": {},
   "outputs": [],
   "source": [
    "data['time'] = data.apply(lambda x: datetime.datetime(year=x['year'],\n",
    "                                       month=x['month'],\n",
    "                                       day=x['day'], \n",
    "                                       hour=x['hour']), \n",
    "                          axis=1)"
   ]
  },
  {
   "cell_type": "code",
   "execution_count": 53,
   "metadata": {},
   "outputs": [],
   "source": [
    "data.set_index('time', inplace=True)"
   ]
  },
  {
   "cell_type": "code",
   "execution_count": 54,
   "metadata": {},
   "outputs": [],
   "source": [
    "data.drop(columns=['year', 'month', 'day', 'hour'], inplace=True)"
   ]
  },
  {
   "cell_type": "code",
   "execution_count": 55,
   "metadata": {},
   "outputs": [
    {
     "data": {
      "text/html": [
       "<div>\n",
       "<style scoped>\n",
       "    .dataframe tbody tr th:only-of-type {\n",
       "        vertical-align: middle;\n",
       "    }\n",
       "\n",
       "    .dataframe tbody tr th {\n",
       "        vertical-align: top;\n",
       "    }\n",
       "\n",
       "    .dataframe thead th {\n",
       "        text-align: right;\n",
       "    }\n",
       "</style>\n",
       "<table border=\"1\" class=\"dataframe\">\n",
       "  <thead>\n",
       "    <tr style=\"text-align: right;\">\n",
       "      <th></th>\n",
       "      <th>pm2.5</th>\n",
       "      <th>DEWP</th>\n",
       "      <th>TEMP</th>\n",
       "      <th>PRES</th>\n",
       "      <th>cbwd</th>\n",
       "      <th>Iws</th>\n",
       "      <th>Is</th>\n",
       "      <th>Ir</th>\n",
       "    </tr>\n",
       "    <tr>\n",
       "      <th>time</th>\n",
       "      <th></th>\n",
       "      <th></th>\n",
       "      <th></th>\n",
       "      <th></th>\n",
       "      <th></th>\n",
       "      <th></th>\n",
       "      <th></th>\n",
       "      <th></th>\n",
       "    </tr>\n",
       "  </thead>\n",
       "  <tbody>\n",
       "    <tr>\n",
       "      <td>2010-01-02 00:00:00</td>\n",
       "      <td>129.0</td>\n",
       "      <td>-16</td>\n",
       "      <td>-4.0</td>\n",
       "      <td>1020.0</td>\n",
       "      <td>SE</td>\n",
       "      <td>1.79</td>\n",
       "      <td>0</td>\n",
       "      <td>0</td>\n",
       "    </tr>\n",
       "    <tr>\n",
       "      <td>2010-01-02 01:00:00</td>\n",
       "      <td>148.0</td>\n",
       "      <td>-15</td>\n",
       "      <td>-4.0</td>\n",
       "      <td>1020.0</td>\n",
       "      <td>SE</td>\n",
       "      <td>2.68</td>\n",
       "      <td>0</td>\n",
       "      <td>0</td>\n",
       "    </tr>\n",
       "    <tr>\n",
       "      <td>2010-01-02 02:00:00</td>\n",
       "      <td>159.0</td>\n",
       "      <td>-11</td>\n",
       "      <td>-5.0</td>\n",
       "      <td>1021.0</td>\n",
       "      <td>SE</td>\n",
       "      <td>3.57</td>\n",
       "      <td>0</td>\n",
       "      <td>0</td>\n",
       "    </tr>\n",
       "    <tr>\n",
       "      <td>2010-01-02 03:00:00</td>\n",
       "      <td>181.0</td>\n",
       "      <td>-7</td>\n",
       "      <td>-5.0</td>\n",
       "      <td>1022.0</td>\n",
       "      <td>SE</td>\n",
       "      <td>5.36</td>\n",
       "      <td>1</td>\n",
       "      <td>0</td>\n",
       "    </tr>\n",
       "    <tr>\n",
       "      <td>2010-01-02 04:00:00</td>\n",
       "      <td>138.0</td>\n",
       "      <td>-7</td>\n",
       "      <td>-5.0</td>\n",
       "      <td>1022.0</td>\n",
       "      <td>SE</td>\n",
       "      <td>6.25</td>\n",
       "      <td>2</td>\n",
       "      <td>0</td>\n",
       "    </tr>\n",
       "  </tbody>\n",
       "</table>\n",
       "</div>"
      ],
      "text/plain": [
       "                     pm2.5  DEWP  TEMP    PRES cbwd   Iws  Is  Ir\n",
       "time                                                             \n",
       "2010-01-02 00:00:00  129.0   -16  -4.0  1020.0   SE  1.79   0   0\n",
       "2010-01-02 01:00:00  148.0   -15  -4.0  1020.0   SE  2.68   0   0\n",
       "2010-01-02 02:00:00  159.0   -11  -5.0  1021.0   SE  3.57   0   0\n",
       "2010-01-02 03:00:00  181.0    -7  -5.0  1022.0   SE  5.36   1   0\n",
       "2010-01-02 04:00:00  138.0    -7  -5.0  1022.0   SE  6.25   2   0"
      ]
     },
     "execution_count": 55,
     "metadata": {},
     "output_type": "execute_result"
    }
   ],
   "source": [
    "data.head()"
   ]
  },
  {
   "cell_type": "code",
   "execution_count": 56,
   "metadata": {},
   "outputs": [],
   "source": [
    "data.columns = ['pm2.5', 'dew', 'temp', 'press', 'cbwd', 'iws', 'snow', 'rain']"
   ]
  },
  {
   "cell_type": "code",
   "execution_count": 57,
   "metadata": {},
   "outputs": [
    {
     "data": {
      "text/plain": [
       "array(['SE', 'cv', 'NW', 'NE'], dtype=object)"
      ]
     },
     "execution_count": 57,
     "metadata": {},
     "output_type": "execute_result"
    }
   ],
   "source": [
    "data.cbwd.unique()"
   ]
  },
  {
   "cell_type": "code",
   "execution_count": 58,
   "metadata": {},
   "outputs": [],
   "source": [
    "data = data.join(pd.get_dummies(data.cbwd))"
   ]
  },
  {
   "cell_type": "code",
   "execution_count": 59,
   "metadata": {},
   "outputs": [],
   "source": [
    "del data['cbwd']"
   ]
  },
  {
   "cell_type": "code",
   "execution_count": 60,
   "metadata": {},
   "outputs": [
    {
     "name": "stdout",
     "output_type": "stream",
     "text": [
      "<class 'pandas.core.frame.DataFrame'>\n",
      "DatetimeIndex: 43800 entries, 2010-01-02 00:00:00 to 2014-12-31 23:00:00\n",
      "Data columns (total 11 columns):\n",
      "pm2.5    43800 non-null float64\n",
      "dew      43800 non-null int64\n",
      "temp     43800 non-null float64\n",
      "press    43800 non-null float64\n",
      "iws      43800 non-null float64\n",
      "snow     43800 non-null int64\n",
      "rain     43800 non-null int64\n",
      "NE       43800 non-null uint8\n",
      "NW       43800 non-null uint8\n",
      "SE       43800 non-null uint8\n",
      "cv       43800 non-null uint8\n",
      "dtypes: float64(4), int64(3), uint8(4)\n",
      "memory usage: 4.1 MB\n"
     ]
    }
   ],
   "source": [
    "data.info()"
   ]
  },
  {
   "cell_type": "code",
   "execution_count": 61,
   "metadata": {},
   "outputs": [
    {
     "data": {
      "text/plain": [
       "<matplotlib.axes._subplots.AxesSubplot at 0x2b538624d88>"
      ]
     },
     "execution_count": 61,
     "metadata": {},
     "output_type": "execute_result"
    },
    {
     "data": {
      "image/png": "[encoded data removed]",
      "text/plain": [
       "<Figure size 432x288 with 1 Axes>"
      ]
     },
     "metadata": {
      "needs_background": "light"
     },
     "output_type": "display_data"
    }
   ],
   "source": [
    "data['pm2.5'][-1000:].plot()"
   ]
  },
  {
   "cell_type": "code",
   "execution_count": 62,
   "metadata": {},
   "outputs": [
    {
     "data": {
      "text/plain": [
       "<matplotlib.axes._subplots.AxesSubplot at 0x2b53a8003c8>"
      ]
     },
     "execution_count": 62,
     "metadata": {},
     "output_type": "execute_result"
    },
    {
     "data": {
      "image/png": "[encoded data removed]",
      "text/plain": [
       "<Figure size 432x288 with 1 Axes>"
      ]
     },
     "metadata": {
      "needs_background": "light"
     },
     "output_type": "display_data"
    }
   ],
   "source": [
    "data['temp'][-1000:].plot()"
   ]
  },
  {
   "cell_type": "code",
   "execution_count": 63,
   "metadata": {},
   "outputs": [
    {
     "data": {
      "text/html": [
       "<div>\n",
       "<style scoped>\n",
       "    .dataframe tbody tr th:only-of-type {\n",
       "        vertical-align: middle;\n",
       "    }\n",
       "\n",
       "    .dataframe tbody tr th {\n",
       "        vertical-align: top;\n",
       "    }\n",
       "\n",
       "    .dataframe thead th {\n",
       "        text-align: right;\n",
       "    }\n",
       "</style>\n",
       "<table border=\"1\" class=\"dataframe\">\n",
       "  <thead>\n",
       "    <tr style=\"text-align: right;\">\n",
       "      <th></th>\n",
       "      <th>pm2.5</th>\n",
       "      <th>dew</th>\n",
       "      <th>temp</th>\n",
       "      <th>press</th>\n",
       "      <th>iws</th>\n",
       "      <th>snow</th>\n",
       "      <th>rain</th>\n",
       "      <th>NE</th>\n",
       "      <th>NW</th>\n",
       "      <th>SE</th>\n",
       "      <th>cv</th>\n",
       "    </tr>\n",
       "    <tr>\n",
       "      <th>time</th>\n",
       "      <th></th>\n",
       "      <th></th>\n",
       "      <th></th>\n",
       "      <th></th>\n",
       "      <th></th>\n",
       "      <th></th>\n",
       "      <th></th>\n",
       "      <th></th>\n",
       "      <th></th>\n",
       "      <th></th>\n",
       "      <th></th>\n",
       "    </tr>\n",
       "  </thead>\n",
       "  <tbody>\n",
       "    <tr>\n",
       "      <td>2010-01-02 00:00:00</td>\n",
       "      <td>129.0</td>\n",
       "      <td>-16</td>\n",
       "      <td>-4.0</td>\n",
       "      <td>1020.0</td>\n",
       "      <td>1.79</td>\n",
       "      <td>0</td>\n",
       "      <td>0</td>\n",
       "      <td>0</td>\n",
       "      <td>0</td>\n",
       "      <td>1</td>\n",
       "      <td>0</td>\n",
       "    </tr>\n",
       "    <tr>\n",
       "      <td>2010-01-02 01:00:00</td>\n",
       "      <td>148.0</td>\n",
       "      <td>-15</td>\n",
       "      <td>-4.0</td>\n",
       "      <td>1020.0</td>\n",
       "      <td>2.68</td>\n",
       "      <td>0</td>\n",
       "      <td>0</td>\n",
       "      <td>0</td>\n",
       "      <td>0</td>\n",
       "      <td>1</td>\n",
       "      <td>0</td>\n",
       "    </tr>\n",
       "    <tr>\n",
       "      <td>2010-01-02 02:00:00</td>\n",
       "      <td>159.0</td>\n",
       "      <td>-11</td>\n",
       "      <td>-5.0</td>\n",
       "      <td>1021.0</td>\n",
       "      <td>3.57</td>\n",
       "      <td>0</td>\n",
       "      <td>0</td>\n",
       "      <td>0</td>\n",
       "      <td>0</td>\n",
       "      <td>1</td>\n",
       "      <td>0</td>\n",
       "    </tr>\n",
       "  </tbody>\n",
       "</table>\n",
       "</div>"
      ],
      "text/plain": [
       "                     pm2.5  dew  temp   press   iws  snow  rain  NE  NW  SE  \\\n",
       "time                                                                          \n",
       "2010-01-02 00:00:00  129.0  -16  -4.0  1020.0  1.79     0     0   0   0   1   \n",
       "2010-01-02 01:00:00  148.0  -15  -4.0  1020.0  2.68     0     0   0   0   1   \n",
       "2010-01-02 02:00:00  159.0  -11  -5.0  1021.0  3.57     0     0   0   0   1   \n",
       "\n",
       "                     cv  \n",
       "time                     \n",
       "2010-01-02 00:00:00   0  \n",
       "2010-01-02 01:00:00   0  \n",
       "2010-01-02 02:00:00   0  "
      ]
     },
     "execution_count": 63,
     "metadata": {},
     "output_type": "execute_result"
    }
   ],
   "source": [
    "data.head(3)"
   ]
  },
  {
   "cell_type": "code",
   "execution_count": 64,
   "metadata": {},
   "outputs": [],
   "source": [
    "sequence_length = 5*24\n",
    "delay = 24"
   ]
  },
  {
   "cell_type": "code",
   "execution_count": 65,
   "metadata": {},
   "outputs": [],
   "source": [
    "data_ = []\n",
    "for i in range(len(data) - sequence_length - delay):\n",
    "    data_.append(data.iloc[i: i + sequence_length + delay])"
   ]
  },
  {
   "cell_type": "code",
   "execution_count": 66,
   "metadata": {},
   "outputs": [],
   "source": [
    "data_ = np.array([df.values for df in data_])"
   ]
  },
  {
   "cell_type": "code",
   "execution_count": 67,
   "metadata": {},
   "outputs": [
    {
     "data": {
      "text/plain": [
       "(43656, 144, 11)"
      ]
     },
     "execution_count": 67,
     "metadata": {},
     "output_type": "execute_result"
    }
   ],
   "source": [
    "data_.shape"
   ]
  },
  {
   "cell_type": "code",
   "execution_count": 68,
   "metadata": {},
   "outputs": [],
   "source": [
    "np.random.shuffle(data_)"
   ]
  },
  {
   "cell_type": "code",
   "execution_count": 69,
   "metadata": {},
   "outputs": [],
   "source": [
    "x = data_[:, :-delay, :]\n",
    "y = data_[:, -1, 0]"
   ]
  },
  {
   "cell_type": "code",
   "execution_count": 70,
   "metadata": {},
   "outputs": [],
   "source": [
    "split_boundary = int(data_.shape[0] * 0.8)"
   ]
  },
  {
   "cell_type": "code",
   "execution_count": 71,
   "metadata": {},
   "outputs": [],
   "source": [
    "train_x = x[: split_boundary]\n",
    "test_x = x[split_boundary:]\n",
    "\n",
    "train_y = y[: split_boundary]\n",
    "test_y = y[split_boundary:]"
   ]
  },
  {
   "cell_type": "code",
   "execution_count": 72,
   "metadata": {},
   "outputs": [
    {
     "data": {
      "text/plain": [
       "((34924, 120, 11), (8732, 120, 11), (34924,), (8732,))"
      ]
     },
     "execution_count": 72,
     "metadata": {},
     "output_type": "execute_result"
    }
   ],
   "source": [
    "train_x.shape, test_x.shape, train_y.shape, test_y.shape"
   ]
  },
  {
   "cell_type": "code",
   "execution_count": 73,
   "metadata": {},
   "outputs": [],
   "source": [
    "mean = train_x.mean(axis=0)\n",
    "std = train_x.std(axis=0)"
   ]
  },
  {
   "cell_type": "code",
   "execution_count": 74,
   "metadata": {},
   "outputs": [
    {
     "data": {
      "text/plain": [
       "(120, 11)"
      ]
     },
     "execution_count": 74,
     "metadata": {},
     "output_type": "execute_result"
    }
   ],
   "source": [
    "mean.shape"
   ]
  },
  {
   "cell_type": "code",
   "execution_count": 75,
   "metadata": {},
   "outputs": [],
   "source": [
    "train_x = (train_x - mean)/std"
   ]
  },
  {
   "cell_type": "code",
   "execution_count": 76,
   "metadata": {},
   "outputs": [],
   "source": [
    "test_x = (test_x - mean)/std"
   ]
  },
  {
   "cell_type": "code",
   "execution_count": 77,
   "metadata": {},
   "outputs": [],
   "source": [
    "batch_size = 128"
   ]
  },
  {
   "cell_type": "code",
   "execution_count": 78,
   "metadata": {},
   "outputs": [],
   "source": [
    "model = keras.Sequential()\n",
    "model.add(layers.Flatten(input_shape=(train_x.shape[1:])))\n",
    "model.add(layers.Dense(32, activation='relu'))\n",
    "model.add(layers.Dense(1))"
   ]
  },
  {
   "cell_type": "code",
   "execution_count": 80,
   "metadata": {},
   "outputs": [
    {
     "data": {
      "text/plain": [
       "(120, 11)"
      ]
     },
     "execution_count": 80,
     "metadata": {},
     "output_type": "execute_result"
    }
   ],
   "source": [
    "train_x.shape[1:]"
   ]
  },
  {
   "cell_type": "code",
   "execution_count": 79,
   "metadata": {},
   "outputs": [
    {
     "name": "stdout",
     "output_type": "stream",
     "text": [
      "Train on 34924 samples, validate on 8732 samples\n",
      "Epoch 1/50\n",
      "34924/34924 [==============================] - 1s 22us/sample - loss: 70.8201 - val_loss: 67.0566\n",
      "Epoch 2/50\n",
      "34924/34924 [==============================] - 1s 14us/sample - loss: 62.1168 - val_loss: 61.8182\n",
      "Epoch 3/50\n",
      "34924/34924 [==============================] - 1s 15us/sample - loss: 58.7480 - val_loss: 60.1835\n",
      "Epoch 4/50\n",
      "34924/34924 [==============================] - 1s 15us/sample - loss: 57.2299 - val_loss: 59.0990\n",
      "Epoch 5/50\n",
      "34924/34924 [==============================] - 1s 14us/sample - loss: 56.1923 - val_loss: 58.3855\n",
      "Epoch 6/50\n",
      "34924/34924 [==============================] - 0s 14us/sample - loss: 55.3055 - val_loss: 57.8804\n",
      "Epoch 7/50\n",
      "34924/34924 [==============================] - 0s 14us/sample - loss: 54.6420 - val_loss: 57.3820\n",
      "Epoch 8/50\n",
      "34924/34924 [==============================] - 1s 15us/sample - loss: 54.0590 - val_loss: 56.9675\n",
      "Epoch 9/50\n",
      "34924/34924 [==============================] - 0s 14us/sample - loss: 53.4850 - val_loss: 56.6398\n",
      "Epoch 10/50\n",
      "34924/34924 [==============================] - 0s 14us/sample - loss: 52.9453 - val_loss: 56.1442\n",
      "Epoch 11/50\n",
      "34924/34924 [==============================] - 0s 14us/sample - loss: 52.4644 - val_loss: 55.6964\n",
      "Epoch 12/50\n",
      "34924/34924 [==============================] - 0s 14us/sample - loss: 51.9880 - val_loss: 55.5204\n",
      "Epoch 13/50\n",
      "  128/34924 [..............................] - ETA: 0s - loss: 45.4294"
     ]
    },
    {
     "ename": "KeyboardInterrupt",
     "evalue": "",
     "output_type": "error",
     "traceback": [
      "\u001b[1;31m---------------------------------------------------------------------------\u001b[0m",
      "\u001b[1;31mKeyboardInterrupt\u001b[0m                         Traceback (most recent call last)",
      "\u001b[1;32m<ipython-input-79-e9ac0d44ecf6>\u001b[0m in \u001b[0;36m<module>\u001b[1;34m\u001b[0m\n\u001b[0;32m      3\u001b[0m                     \u001b[0mbatch_size\u001b[0m \u001b[1;33m=\u001b[0m \u001b[1;36m128\u001b[0m\u001b[1;33m,\u001b[0m\u001b[1;33m\u001b[0m\u001b[1;33m\u001b[0m\u001b[0m\n\u001b[0;32m      4\u001b[0m                     \u001b[0mepochs\u001b[0m\u001b[1;33m=\u001b[0m\u001b[1;36m50\u001b[0m\u001b[1;33m,\u001b[0m\u001b[1;33m\u001b[0m\u001b[1;33m\u001b[0m\u001b[0m\n\u001b[1;32m----> 5\u001b[1;33m                     \u001b[0mvalidation_data\u001b[0m\u001b[1;33m=\u001b[0m\u001b[1;33m(\u001b[0m\u001b[0mtest_x\u001b[0m\u001b[1;33m,\u001b[0m \u001b[0mtest_y\u001b[0m\u001b[1;33m)\u001b[0m\u001b[1;33m\u001b[0m\u001b[1;33m\u001b[0m\u001b[0m\n\u001b[0m\u001b[0;32m      6\u001b[0m                     )\n",
      "\u001b[1;32md:\\develop\\python\\lib\\site-packages\\tensorflow_core\\python\\keras\\engine\\training.py\u001b[0m in \u001b[0;36mfit\u001b[1;34m(self, x, y, batch_size, epochs, verbose, callbacks, validation_split, validation_data, shuffle, class_weight, sample_weight, initial_epoch, steps_per_epoch, validation_steps, validation_freq, max_queue_size, workers, use_multiprocessing, **kwargs)\u001b[0m\n\u001b[0;32m    726\u001b[0m         \u001b[0mmax_queue_size\u001b[0m\u001b[1;33m=\u001b[0m\u001b[0mmax_queue_size\u001b[0m\u001b[1;33m,\u001b[0m\u001b[1;33m\u001b[0m\u001b[1;33m\u001b[0m\u001b[0m\n\u001b[0;32m    727\u001b[0m         \u001b[0mworkers\u001b[0m\u001b[1;33m=\u001b[0m\u001b[0mworkers\u001b[0m\u001b[1;33m,\u001b[0m\u001b[1;33m\u001b[0m\u001b[1;33m\u001b[0m\u001b[0m\n\u001b[1;32m--> 728\u001b[1;33m         use_multiprocessing=use_multiprocessing)\n\u001b[0m\u001b[0;32m    729\u001b[0m \u001b[1;33m\u001b[0m\u001b[0m\n\u001b[0;32m    730\u001b[0m   def evaluate(self,\n",
      "\u001b[1;32md:\\develop\\python\\lib\\site-packages\\tensorflow_core\\python\\keras\\engine\\training_v2.py\u001b[0m in \u001b[0;36mfit\u001b[1;34m(self, model, x, y, batch_size, epochs, verbose, callbacks, validation_split, validation_data, shuffle, class_weight, sample_weight, initial_epoch, steps_per_epoch, validation_steps, validation_freq, **kwargs)\u001b[0m\n\u001b[0;32m    322\u001b[0m                 \u001b[0mmode\u001b[0m\u001b[1;33m=\u001b[0m\u001b[0mModeKeys\u001b[0m\u001b[1;33m.\u001b[0m\u001b[0mTRAIN\u001b[0m\u001b[1;33m,\u001b[0m\u001b[1;33m\u001b[0m\u001b[1;33m\u001b[0m\u001b[0m\n\u001b[0;32m    323\u001b[0m                 \u001b[0mtraining_context\u001b[0m\u001b[1;33m=\u001b[0m\u001b[0mtraining_context\u001b[0m\u001b[1;33m,\u001b[0m\u001b[1;33m\u001b[0m\u001b[1;33m\u001b[0m\u001b[0m\n\u001b[1;32m--> 324\u001b[1;33m                 total_epochs=epochs)\n\u001b[0m\u001b[0;32m    325\u001b[0m             \u001b[0mcbks\u001b[0m\u001b[1;33m.\u001b[0m\u001b[0mmake_logs\u001b[0m\u001b[1;33m(\u001b[0m\u001b[0mmodel\u001b[0m\u001b[1;33m,\u001b[0m \u001b[0mepoch_logs\u001b[0m\u001b[1;33m,\u001b[0m \u001b[0mtraining_result\u001b[0m\u001b[1;33m,\u001b[0m \u001b[0mModeKeys\u001b[0m\u001b[1;33m.\u001b[0m\u001b[0mTRAIN\u001b[0m\u001b[1;33m)\u001b[0m\u001b[1;33m\u001b[0m\u001b[1;33m\u001b[0m\u001b[0m\n\u001b[0;32m    326\u001b[0m \u001b[1;33m\u001b[0m\u001b[0m\n",
      "\u001b[1;32md:\\develop\\python\\lib\\site-packages\\tensorflow_core\\python\\keras\\engine\\training_v2.py\u001b[0m in \u001b[0;36mrun_one_epoch\u001b[1;34m(model, iterator, execution_function, dataset_size, batch_size, strategy, steps_per_epoch, num_samples, mode, training_context, total_epochs)\u001b[0m\n\u001b[0;32m    172\u001b[0m             batch_end=step * batch_size + current_batch_size)\n\u001b[0;32m    173\u001b[0m       \u001b[0mcbks\u001b[0m\u001b[1;33m.\u001b[0m\u001b[0mmake_logs\u001b[0m\u001b[1;33m(\u001b[0m\u001b[0mmodel\u001b[0m\u001b[1;33m,\u001b[0m \u001b[0mbatch_logs\u001b[0m\u001b[1;33m,\u001b[0m \u001b[0mbatch_outs\u001b[0m\u001b[1;33m,\u001b[0m \u001b[0mmode\u001b[0m\u001b[1;33m)\u001b[0m\u001b[1;33m\u001b[0m\u001b[1;33m\u001b[0m\u001b[0m\n\u001b[1;32m--> 174\u001b[1;33m       \u001b[0mstep\u001b[0m \u001b[1;33m+=\u001b[0m \u001b[1;36m1\u001b[0m\u001b[1;33m\u001b[0m\u001b[1;33m\u001b[0m\u001b[0m\n\u001b[0m\u001b[0;32m    175\u001b[0m \u001b[1;33m\u001b[0m\u001b[0m\n\u001b[0;32m    176\u001b[0m     \u001b[1;32mif\u001b[0m \u001b[0mcallbacks\u001b[0m\u001b[1;33m.\u001b[0m\u001b[0mmodel\u001b[0m\u001b[1;33m.\u001b[0m\u001b[0mstop_training\u001b[0m\u001b[1;33m:\u001b[0m\u001b[1;33m\u001b[0m\u001b[1;33m\u001b[0m\u001b[0m\n",
      "\u001b[1;32md:\\develop\\python\\lib\\contextlib.py\u001b[0m in \u001b[0;36m__exit__\u001b[1;34m(self, type, value, traceback)\u001b[0m\n\u001b[0;32m    117\u001b[0m         \u001b[1;32mif\u001b[0m \u001b[0mtype\u001b[0m \u001b[1;32mis\u001b[0m \u001b[1;32mNone\u001b[0m\u001b[1;33m:\u001b[0m\u001b[1;33m\u001b[0m\u001b[1;33m\u001b[0m\u001b[0m\n\u001b[0;32m    118\u001b[0m             \u001b[1;32mtry\u001b[0m\u001b[1;33m:\u001b[0m\u001b[1;33m\u001b[0m\u001b[1;33m\u001b[0m\u001b[0m\n\u001b[1;32m--> 119\u001b[1;33m                 \u001b[0mnext\u001b[0m\u001b[1;33m(\u001b[0m\u001b[0mself\u001b[0m\u001b[1;33m.\u001b[0m\u001b[0mgen\u001b[0m\u001b[1;33m)\u001b[0m\u001b[1;33m\u001b[0m\u001b[1;33m\u001b[0m\u001b[0m\n\u001b[0m\u001b[0;32m    120\u001b[0m             \u001b[1;32mexcept\u001b[0m \u001b[0mStopIteration\u001b[0m\u001b[1;33m:\u001b[0m\u001b[1;33m\u001b[0m\u001b[1;33m\u001b[0m\u001b[0m\n\u001b[0;32m    121\u001b[0m                 \u001b[1;32mreturn\u001b[0m \u001b[1;32mFalse\u001b[0m\u001b[1;33m\u001b[0m\u001b[1;33m\u001b[0m\u001b[0m\n",
      "\u001b[1;32md:\\develop\\python\\lib\\site-packages\\tensorflow_core\\python\\keras\\engine\\training_v2.py\u001b[0m in \u001b[0;36mon_batch\u001b[1;34m(self, step, mode, size)\u001b[0m\n\u001b[0;32m    699\u001b[0m         self.callbacks._call_batch_hook(\n\u001b[0;32m    700\u001b[0m             mode, 'end', step, batch_logs)\n\u001b[1;32m--> 701\u001b[1;33m         \u001b[0mself\u001b[0m\u001b[1;33m.\u001b[0m\u001b[0mprogbar\u001b[0m\u001b[1;33m.\u001b[0m\u001b[0mon_batch_end\u001b[0m\u001b[1;33m(\u001b[0m\u001b[0mstep\u001b[0m\u001b[1;33m,\u001b[0m \u001b[0mbatch_logs\u001b[0m\u001b[1;33m)\u001b[0m\u001b[1;33m\u001b[0m\u001b[1;33m\u001b[0m\u001b[0m\n\u001b[0m",
      "\u001b[1;32md:\\develop\\python\\lib\\site-packages\\tensorflow_core\\python\\keras\\callbacks.py\u001b[0m in \u001b[0;36mon_batch_end\u001b[1;34m(self, batch, logs)\u001b[0m\n\u001b[0;32m    758\u001b[0m     \u001b[1;31m# will be handled by on_epoch_end.\u001b[0m\u001b[1;33m\u001b[0m\u001b[1;33m\u001b[0m\u001b[1;33m\u001b[0m\u001b[0m\n\u001b[0;32m    759\u001b[0m     \u001b[1;32mif\u001b[0m \u001b[0mself\u001b[0m\u001b[1;33m.\u001b[0m\u001b[0mverbose\u001b[0m \u001b[1;32mand\u001b[0m \u001b[1;33m(\u001b[0m\u001b[0mself\u001b[0m\u001b[1;33m.\u001b[0m\u001b[0mtarget\u001b[0m \u001b[1;32mis\u001b[0m \u001b[1;32mNone\u001b[0m \u001b[1;32mor\u001b[0m \u001b[0mself\u001b[0m\u001b[1;33m.\u001b[0m\u001b[0mseen\u001b[0m \u001b[1;33m<\u001b[0m \u001b[0mself\u001b[0m\u001b[1;33m.\u001b[0m\u001b[0mtarget\u001b[0m\u001b[1;33m)\u001b[0m\u001b[1;33m:\u001b[0m\u001b[1;33m\u001b[0m\u001b[1;33m\u001b[0m\u001b[0m\n\u001b[1;32m--> 760\u001b[1;33m       \u001b[0mself\u001b[0m\u001b[1;33m.\u001b[0m\u001b[0mprogbar\u001b[0m\u001b[1;33m.\u001b[0m\u001b[0mupdate\u001b[0m\u001b[1;33m(\u001b[0m\u001b[0mself\u001b[0m\u001b[1;33m.\u001b[0m\u001b[0mseen\u001b[0m\u001b[1;33m,\u001b[0m \u001b[0mself\u001b[0m\u001b[1;33m.\u001b[0m\u001b[0mlog_values\u001b[0m\u001b[1;33m)\u001b[0m\u001b[1;33m\u001b[0m\u001b[1;33m\u001b[0m\u001b[0m\n\u001b[0m\u001b[0;32m    761\u001b[0m \u001b[1;33m\u001b[0m\u001b[0m\n\u001b[0;32m    762\u001b[0m   \u001b[1;32mdef\u001b[0m \u001b[0mon_epoch_end\u001b[0m\u001b[1;33m(\u001b[0m\u001b[0mself\u001b[0m\u001b[1;33m,\u001b[0m \u001b[0mepoch\u001b[0m\u001b[1;33m,\u001b[0m \u001b[0mlogs\u001b[0m\u001b[1;33m=\u001b[0m\u001b[1;32mNone\u001b[0m\u001b[1;33m)\u001b[0m\u001b[1;33m:\u001b[0m\u001b[1;33m\u001b[0m\u001b[1;33m\u001b[0m\u001b[0m\n",
      "\u001b[1;32md:\\develop\\python\\lib\\site-packages\\tensorflow_core\\python\\keras\\utils\\generic_utils.py\u001b[0m in \u001b[0;36mupdate\u001b[1;34m(self, current, values)\u001b[0m\n\u001b[0;32m    454\u001b[0m \u001b[1;33m\u001b[0m\u001b[0m\n\u001b[0;32m    455\u001b[0m       \u001b[0msys\u001b[0m\u001b[1;33m.\u001b[0m\u001b[0mstdout\u001b[0m\u001b[1;33m.\u001b[0m\u001b[0mwrite\u001b[0m\u001b[1;33m(\u001b[0m\u001b[0minfo\u001b[0m\u001b[1;33m)\u001b[0m\u001b[1;33m\u001b[0m\u001b[1;33m\u001b[0m\u001b[0m\n\u001b[1;32m--> 456\u001b[1;33m       \u001b[0msys\u001b[0m\u001b[1;33m.\u001b[0m\u001b[0mstdout\u001b[0m\u001b[1;33m.\u001b[0m\u001b[0mflush\u001b[0m\u001b[1;33m(\u001b[0m\u001b[1;33m)\u001b[0m\u001b[1;33m\u001b[0m\u001b[1;33m\u001b[0m\u001b[0m\n\u001b[0m\u001b[0;32m    457\u001b[0m \u001b[1;33m\u001b[0m\u001b[0m\n\u001b[0;32m    458\u001b[0m     \u001b[1;32melif\u001b[0m \u001b[0mself\u001b[0m\u001b[1;33m.\u001b[0m\u001b[0mverbose\u001b[0m \u001b[1;33m==\u001b[0m \u001b[1;36m2\u001b[0m\u001b[1;33m:\u001b[0m\u001b[1;33m\u001b[0m\u001b[1;33m\u001b[0m\u001b[0m\n",
      "\u001b[1;32md:\\develop\\python\\lib\\site-packages\\ipykernel\\iostream.py\u001b[0m in \u001b[0;36mflush\u001b[1;34m(self)\u001b[0m\n\u001b[0;32m    349\u001b[0m                 \u001b[0mself\u001b[0m\u001b[1;33m.\u001b[0m\u001b[0mpub_thread\u001b[0m\u001b[1;33m.\u001b[0m\u001b[0mschedule\u001b[0m\u001b[1;33m(\u001b[0m\u001b[0mevt\u001b[0m\u001b[1;33m.\u001b[0m\u001b[0mset\u001b[0m\u001b[1;33m)\u001b[0m\u001b[1;33m\u001b[0m\u001b[1;33m\u001b[0m\u001b[0m\n\u001b[0;32m    350\u001b[0m                 \u001b[1;31m# and give a timeout to avoid\u001b[0m\u001b[1;33m\u001b[0m\u001b[1;33m\u001b[0m\u001b[1;33m\u001b[0m\u001b[0m\n\u001b[1;32m--> 351\u001b[1;33m                 \u001b[1;32mif\u001b[0m \u001b[1;32mnot\u001b[0m \u001b[0mevt\u001b[0m\u001b[1;33m.\u001b[0m\u001b[0mwait\u001b[0m\u001b[1;33m(\u001b[0m\u001b[0mself\u001b[0m\u001b[1;33m.\u001b[0m\u001b[0mflush_timeout\u001b[0m\u001b[1;33m)\u001b[0m\u001b[1;33m:\u001b[0m\u001b[1;33m\u001b[0m\u001b[1;33m\u001b[0m\u001b[0m\n\u001b[0m\u001b[0;32m    352\u001b[0m                     \u001b[1;31m# write directly to __stderr__ instead of warning because\u001b[0m\u001b[1;33m\u001b[0m\u001b[1;33m\u001b[0m\u001b[1;33m\u001b[0m\u001b[0m\n\u001b[0;32m    353\u001b[0m                     \u001b[1;31m# if this is happening sys.stderr may be the problem.\u001b[0m\u001b[1;33m\u001b[0m\u001b[1;33m\u001b[0m\u001b[1;33m\u001b[0m\u001b[0m\n",
      "\u001b[1;32md:\\develop\\python\\lib\\threading.py\u001b[0m in \u001b[0;36mwait\u001b[1;34m(self, timeout)\u001b[0m\n\u001b[0;32m    550\u001b[0m             \u001b[0msignaled\u001b[0m \u001b[1;33m=\u001b[0m \u001b[0mself\u001b[0m\u001b[1;33m.\u001b[0m\u001b[0m_flag\u001b[0m\u001b[1;33m\u001b[0m\u001b[1;33m\u001b[0m\u001b[0m\n\u001b[0;32m    551\u001b[0m             \u001b[1;32mif\u001b[0m \u001b[1;32mnot\u001b[0m \u001b[0msignaled\u001b[0m\u001b[1;33m:\u001b[0m\u001b[1;33m\u001b[0m\u001b[1;33m\u001b[0m\u001b[0m\n\u001b[1;32m--> 552\u001b[1;33m                 \u001b[0msignaled\u001b[0m \u001b[1;33m=\u001b[0m \u001b[0mself\u001b[0m\u001b[1;33m.\u001b[0m\u001b[0m_cond\u001b[0m\u001b[1;33m.\u001b[0m\u001b[0mwait\u001b[0m\u001b[1;33m(\u001b[0m\u001b[0mtimeout\u001b[0m\u001b[1;33m)\u001b[0m\u001b[1;33m\u001b[0m\u001b[1;33m\u001b[0m\u001b[0m\n\u001b[0m\u001b[0;32m    553\u001b[0m             \u001b[1;32mreturn\u001b[0m \u001b[0msignaled\u001b[0m\u001b[1;33m\u001b[0m\u001b[1;33m\u001b[0m\u001b[0m\n\u001b[0;32m    554\u001b[0m \u001b[1;33m\u001b[0m\u001b[0m\n",
      "\u001b[1;32md:\\develop\\python\\lib\\threading.py\u001b[0m in \u001b[0;36mwait\u001b[1;34m(self, timeout)\u001b[0m\n\u001b[0;32m    298\u001b[0m             \u001b[1;32melse\u001b[0m\u001b[1;33m:\u001b[0m\u001b[1;33m\u001b[0m\u001b[1;33m\u001b[0m\u001b[0m\n\u001b[0;32m    299\u001b[0m                 \u001b[1;32mif\u001b[0m \u001b[0mtimeout\u001b[0m \u001b[1;33m>\u001b[0m \u001b[1;36m0\u001b[0m\u001b[1;33m:\u001b[0m\u001b[1;33m\u001b[0m\u001b[1;33m\u001b[0m\u001b[0m\n\u001b[1;32m--> 300\u001b[1;33m                     \u001b[0mgotit\u001b[0m \u001b[1;33m=\u001b[0m \u001b[0mwaiter\u001b[0m\u001b[1;33m.\u001b[0m\u001b[0macquire\u001b[0m\u001b[1;33m(\u001b[0m\u001b[1;32mTrue\u001b[0m\u001b[1;33m,\u001b[0m \u001b[0mtimeout\u001b[0m\u001b[1;33m)\u001b[0m\u001b[1;33m\u001b[0m\u001b[1;33m\u001b[0m\u001b[0m\n\u001b[0m\u001b[0;32m    301\u001b[0m                 \u001b[1;32melse\u001b[0m\u001b[1;33m:\u001b[0m\u001b[1;33m\u001b[0m\u001b[1;33m\u001b[0m\u001b[0m\n\u001b[0;32m    302\u001b[0m                     \u001b[0mgotit\u001b[0m \u001b[1;33m=\u001b[0m \u001b[0mwaiter\u001b[0m\u001b[1;33m.\u001b[0m\u001b[0macquire\u001b[0m\u001b[1;33m(\u001b[0m\u001b[1;32mFalse\u001b[0m\u001b[1;33m)\u001b[0m\u001b[1;33m\u001b[0m\u001b[1;33m\u001b[0m\u001b[0m\n",
      "\u001b[1;31mKeyboardInterrupt\u001b[0m: "
     ]
    }
   ],
   "source": [
    "model.compile(optimizer=keras.optimizers.Adam(), loss='mae')\n",
    "history = model.fit(train_x, train_y,\n",
    "                    batch_size = 128,\n",
    "                    epochs=50,\n",
    "                    validation_data=(test_x, test_y)\n",
    "                    )"
   ]
  },
  {
   "cell_type": "code",
   "execution_count": 39,
   "metadata": {},
   "outputs": [
    {
     "data": {
      "text/plain": [
       "<matplotlib.legend.Legend at 0x3c5c0d64e0>"
      ]
     },
     "execution_count": 39,
     "metadata": {},
     "output_type": "execute_result"
    },
    {
     "data": {
      "image/png": "[encoded data removed]",
      "text/plain": [
       "<matplotlib.figure.Figure at 0x3c5c0a99b0>"
      ]
     },
     "metadata": {},
     "output_type": "display_data"
    }
   ],
   "source": [
    "plt.plot(history.epoch, history.history.get('loss'), 'y', label='Training loss')\n",
    "plt.plot(history.epoch, history.history.get('val_loss'), 'b', label='Test loss')\n",
    "plt.legend()"
   ]
  },
  {
   "cell_type": "code",
   "execution_count": 46,
   "metadata": {},
   "outputs": [],
   "source": [
    "model = keras.Sequential()\n",
    "model.add(layers.LSTM(32, input_shape=(train_x.shape[1:])))\n",
    "model.add(layers.Dense(1))"
   ]
  },
  {
   "cell_type": "code",
   "execution_count": 47,
   "metadata": {},
   "outputs": [],
   "source": [
    "model.compile(optimizer=keras.optimizers.Adam(), loss='mae')"
   ]
  },
  {
   "cell_type": "code",
   "execution_count": 48,
   "metadata": {},
   "outputs": [
    {
     "name": "stdout",
     "output_type": "stream",
     "text": [
      "Train on 34924 samples, validate on 8732 samples\n",
      "Epoch 1/200\n",
      "34924/34924 [==============================] - 56s 2ms/step - loss: 88.4082 - val_loss: 82.0198\n",
      "Epoch 2/200\n",
      "34924/34924 [==============================] - 56s 2ms/step - loss: 80.1085 - val_loss: 76.9022\n",
      "Epoch 3/200\n",
      "34924/34924 [==============================] - 55s 2ms/step - loss: 75.8771 - val_loss: 73.2824\n",
      "Epoch 4/200\n",
      "34924/34924 [==============================] - 53s 2ms/step - loss: 72.7580 - val_loss: 70.5160\n",
      "Epoch 5/200\n",
      "34924/34924 [==============================] - 53s 2ms/step - loss: 70.4230 - val_loss: 68.4795\n",
      "Epoch 6/200\n",
      "34924/34924 [==============================] - 53s 2ms/step - loss: 68.6456 - val_loss: 66.8473\n",
      "Epoch 7/200\n",
      "34924/34924 [==============================] - 53s 2ms/step - loss: 66.9879 - val_loss: 65.1626\n",
      "Epoch 8/200\n",
      "34924/34924 [==============================] - 53s 2ms/step - loss: 65.4807 - val_loss: 63.8404\n",
      "Epoch 9/200\n",
      "34924/34924 [==============================] - 53s 2ms/step - loss: 64.2429 - val_loss: 62.7605\n",
      "Epoch 10/200\n",
      "34924/34924 [==============================] - 53s 2ms/step - loss: 63.2045 - val_loss: 61.8243\n",
      "Epoch 11/200\n",
      "34924/34924 [==============================] - 53s 2ms/step - loss: 62.3464 - val_loss: 61.1196\n",
      "Epoch 12/200\n",
      "34924/34924 [==============================] - 53s 2ms/step - loss: 61.6600 - val_loss: 60.5011\n",
      "Epoch 13/200\n",
      "34924/34924 [==============================] - 53s 2ms/step - loss: 61.0490 - val_loss: 60.1403\n",
      "Epoch 14/200\n",
      "34924/34924 [==============================] - 53s 2ms/step - loss: 60.5899 - val_loss: 59.6954\n",
      "Epoch 15/200\n",
      "34924/34924 [==============================] - 53s 2ms/step - loss: 60.1664 - val_loss: 59.2896\n",
      "Epoch 16/200\n",
      "34924/34924 [==============================] - 53s 2ms/step - loss: 59.8112 - val_loss: 59.0759\n",
      "Epoch 17/200\n",
      "34924/34924 [==============================] - 53s 2ms/step - loss: 59.4370 - val_loss: 58.6002\n",
      "Epoch 18/200\n",
      "34924/34924 [==============================] - 53s 2ms/step - loss: 59.1313 - val_loss: 58.3882\n",
      "Epoch 19/200\n",
      "34924/34924 [==============================] - 53s 2ms/step - loss: 58.7555 - val_loss: 58.1178\n",
      "Epoch 20/200\n",
      "34924/34924 [==============================] - 55s 2ms/step - loss: 58.6206 - val_loss: 61.6982\n",
      "Epoch 21/200\n",
      "34924/34924 [==============================] - 54s 2ms/step - loss: 59.1605 - val_loss: 58.1357\n",
      "Epoch 22/200\n",
      "34924/34924 [==============================] - 54s 2ms/step - loss: 58.5323 - val_loss: 58.1251\n",
      "Epoch 23/200\n",
      "34924/34924 [==============================] - 54s 2ms/step - loss: 58.3359 - val_loss: 57.6792\n",
      "Epoch 24/200\n",
      "34924/34924 [==============================] - 54s 2ms/step - loss: 57.8960 - val_loss: 57.2341\n",
      "Epoch 25/200\n",
      "34924/34924 [==============================] - 54s 2ms/step - loss: 57.8130 - val_loss: 57.3571\n",
      "Epoch 26/200\n",
      "34924/34924 [==============================] - 54s 2ms/step - loss: 57.6060 - val_loss: 57.2525\n",
      "Epoch 27/200\n",
      "34924/34924 [==============================] - 55s 2ms/step - loss: 58.0734 - val_loss: 57.4762\n",
      "Epoch 28/200\n",
      "34924/34924 [==============================] - 55s 2ms/step - loss: 57.3353 - val_loss: 56.8936\n",
      "Epoch 29/200\n",
      "34924/34924 [==============================] - 54s 2ms/step - loss: 56.9491 - val_loss: 56.3890\n",
      "Epoch 30/200\n",
      "34924/34924 [==============================] - 54s 2ms/step - loss: 56.9155 - val_loss: 56.5406\n",
      "Epoch 31/200\n",
      "34924/34924 [==============================] - 56s 2ms/step - loss: 58.4503 - val_loss: 57.6162\n",
      "Epoch 32/200\n",
      "34924/34924 [==============================] - 55s 2ms/step - loss: 57.5602 - val_loss: 56.9147\n",
      "Epoch 33/200\n",
      "34924/34924 [==============================] - 55s 2ms/step - loss: 57.1482 - val_loss: 56.7239\n",
      "Epoch 34/200\n",
      "34924/34924 [==============================] - 54s 2ms/step - loss: 57.0121 - val_loss: 56.5631\n",
      "Epoch 35/200\n",
      "34924/34924 [==============================] - 54s 2ms/step - loss: 56.4651 - val_loss: 56.4394\n",
      "Epoch 36/200\n",
      "34924/34924 [==============================] - 54s 2ms/step - loss: 56.1943 - val_loss: 55.8624\n",
      "Epoch 37/200\n",
      "34924/34924 [==============================] - 54s 2ms/step - loss: 55.7673 - val_loss: 55.7189\n",
      "Epoch 38/200\n",
      "34924/34924 [==============================] - 55s 2ms/step - loss: 55.8813 - val_loss: 56.5730\n",
      "Epoch 39/200\n",
      "34924/34924 [==============================] - 55s 2ms/step - loss: 56.3637 - val_loss: 55.4954\n",
      "Epoch 40/200\n",
      "34924/34924 [==============================] - 54s 2ms/step - loss: 56.3497 - val_loss: 56.1470\n",
      "Epoch 41/200\n",
      "34924/34924 [==============================] - 54s 2ms/step - loss: 55.7836 - val_loss: 55.7932\n",
      "Epoch 42/200\n",
      "34924/34924 [==============================] - 54s 2ms/step - loss: 55.3279 - val_loss: 55.2385\n",
      "Epoch 43/200\n",
      "34924/34924 [==============================] - 54s 2ms/step - loss: 55.4182 - val_loss: 55.1957\n",
      "Epoch 44/200\n",
      "34924/34924 [==============================] - 54s 2ms/step - loss: 55.2093 - val_loss: 55.3018\n",
      "Epoch 45/200\n",
      "34924/34924 [==============================] - 54s 2ms/step - loss: 55.6507 - val_loss: 55.6327\n",
      "Epoch 46/200\n",
      "34924/34924 [==============================] - 55s 2ms/step - loss: 55.7982 - val_loss: 55.8936\n",
      "Epoch 47/200\n",
      "34924/34924 [==============================] - 55s 2ms/step - loss: 55.2686 - val_loss: 55.0244\n",
      "Epoch 48/200\n",
      "34924/34924 [==============================] - 55s 2ms/step - loss: 55.0766 - val_loss: 55.6669\n",
      "Epoch 49/200\n",
      "34924/34924 [==============================] - 54s 2ms/step - loss: 56.2079 - val_loss: 63.1820\n",
      "Epoch 50/200\n",
      "34924/34924 [==============================] - 54s 2ms/step - loss: 57.1285 - val_loss: 55.3025\n",
      "Epoch 51/200\n",
      "34924/34924 [==============================] - 55s 2ms/step - loss: 55.2167 - val_loss: 55.5794\n",
      "Epoch 52/200\n",
      "34924/34924 [==============================] - 55s 2ms/step - loss: 55.1570 - val_loss: 55.0615\n",
      "Epoch 53/200\n",
      "34924/34924 [==============================] - 55s 2ms/step - loss: 54.5690 - val_loss: 54.2406\n",
      "Epoch 54/200\n",
      "34924/34924 [==============================] - 53s 2ms/step - loss: 54.2337 - val_loss: 54.1200\n",
      "Epoch 55/200\n",
      "34924/34924 [==============================] - 53s 2ms/step - loss: 54.0018 - val_loss: 54.0887\n",
      "Epoch 56/200\n",
      "34924/34924 [==============================] - 53s 2ms/step - loss: 55.1140 - val_loss: 55.8283\n",
      "Epoch 57/200\n",
      "34924/34924 [==============================] - 53s 2ms/step - loss: 54.6735 - val_loss: 54.4679\n",
      "Epoch 58/200\n",
      "34924/34924 [==============================] - 53s 2ms/step - loss: 54.1294 - val_loss: 54.2874\n",
      "Epoch 59/200\n",
      "34924/34924 [==============================] - 53s 2ms/step - loss: 53.7326 - val_loss: 54.6134\n",
      "Epoch 60/200\n",
      "34924/34924 [==============================] - 53s 2ms/step - loss: 54.1140 - val_loss: 53.3964\n",
      "Epoch 61/200\n",
      "34924/34924 [==============================] - 53s 2ms/step - loss: 53.1951 - val_loss: 53.0503\n",
      "Epoch 62/200\n",
      "34924/34924 [==============================] - 54s 2ms/step - loss: 52.7983 - val_loss: 52.5595\n",
      "Epoch 63/200\n",
      "34924/34924 [==============================] - 54s 2ms/step - loss: 53.8901 - val_loss: 53.4657\n",
      "Epoch 64/200\n",
      "34924/34924 [==============================] - 55s 2ms/step - loss: 53.8611 - val_loss: 54.1512\n",
      "Epoch 65/200\n",
      "34924/34924 [==============================] - 55s 2ms/step - loss: 52.9194 - val_loss: 52.3144\n",
      "Epoch 66/200\n",
      "34924/34924 [==============================] - 55s 2ms/step - loss: 52.0191 - val_loss: 51.7674\n",
      "Epoch 67/200\n",
      "34924/34924 [==============================] - 55s 2ms/step - loss: 51.8991 - val_loss: 52.8697\n",
      "Epoch 68/200\n",
      "34924/34924 [==============================] - 54s 2ms/step - loss: 53.6219 - val_loss: 52.8773\n",
      "Epoch 69/200\n",
      "34924/34924 [==============================] - 55s 2ms/step - loss: 53.0537 - val_loss: 52.4983\n",
      "Epoch 70/200\n",
      "34924/34924 [==============================] - 55s 2ms/step - loss: 53.2674 - val_loss: 52.9440\n",
      "Epoch 71/200\n",
      "34924/34924 [==============================] - 55s 2ms/step - loss: 52.7338 - val_loss: 52.3368\n",
      "Epoch 72/200\n",
      "34924/34924 [==============================] - 54s 2ms/step - loss: 52.1569 - val_loss: 53.3196\n",
      "Epoch 73/200\n",
      "34924/34924 [==============================] - 54s 2ms/step - loss: 52.0449 - val_loss: 52.7319\n",
      "Epoch 74/200\n",
      "34924/34924 [==============================] - 54s 2ms/step - loss: 51.9700 - val_loss: 52.2091\n",
      "Epoch 75/200\n",
      "34924/34924 [==============================] - 54s 2ms/step - loss: 51.7492 - val_loss: 52.1502\n"
     ]
    },
    {
     "name": "stdout",
     "output_type": "stream",
     "text": [
      "Epoch 76/200\n",
      "34924/34924 [==============================] - 55s 2ms/step - loss: 51.8363 - val_loss: 50.9280\n",
      "Epoch 77/200\n",
      "34924/34924 [==============================] - 54s 2ms/step - loss: 50.8700 - val_loss: 51.3143\n",
      "Epoch 78/200\n",
      "34924/34924 [==============================] - 55s 2ms/step - loss: 51.0949 - val_loss: 51.7703\n",
      "Epoch 79/200\n",
      "34924/34924 [==============================] - 57s 2ms/step - loss: 51.5899 - val_loss: 51.8728\n",
      "Epoch 80/200\n",
      "34924/34924 [==============================] - 55s 2ms/step - loss: 51.3048 - val_loss: 51.4568\n",
      "Epoch 81/200\n",
      "34924/34924 [==============================] - 57s 2ms/step - loss: 52.1924 - val_loss: 52.1008\n",
      "Epoch 82/200\n",
      "34924/34924 [==============================] - 57s 2ms/step - loss: 51.4649 - val_loss: 52.4641\n",
      "Epoch 83/200\n",
      "34924/34924 [==============================] - 54s 2ms/step - loss: 52.0121 - val_loss: 51.6527\n",
      "Epoch 84/200\n",
      "34924/34924 [==============================] - 54s 2ms/step - loss: 53.9491 - val_loss: 52.9618\n",
      "Epoch 85/200\n",
      "34924/34924 [==============================] - 53s 2ms/step - loss: 52.7579 - val_loss: 52.7749\n",
      "Epoch 86/200\n",
      "34924/34924 [==============================] - 53s 2ms/step - loss: 52.7191 - val_loss: 52.4491\n",
      "Epoch 87/200\n",
      "34924/34924 [==============================] - 53s 2ms/step - loss: 51.7233 - val_loss: 51.5921\n",
      "Epoch 88/200\n",
      "34924/34924 [==============================] - 53s 2ms/step - loss: 50.8344 - val_loss: 50.4074\n",
      "Epoch 89/200\n",
      "34924/34924 [==============================] - 53s 2ms/step - loss: 50.5834 - val_loss: 50.2454\n",
      "Epoch 90/200\n",
      "34924/34924 [==============================] - 53s 2ms/step - loss: 50.6511 - val_loss: 50.1521\n",
      "Epoch 91/200\n",
      "34924/34924 [==============================] - 54s 2ms/step - loss: 49.9516 - val_loss: 50.8633\n",
      "Epoch 92/200\n",
      "34924/34924 [==============================] - 53s 2ms/step - loss: 51.0975 - val_loss: 51.8929\n",
      "Epoch 93/200\n",
      "34924/34924 [==============================] - 53s 2ms/step - loss: 49.9233 - val_loss: 50.1185\n",
      "Epoch 94/200\n",
      "34924/34924 [==============================] - 53s 2ms/step - loss: 49.2348 - val_loss: 49.3496\n",
      "Epoch 95/200\n",
      "34924/34924 [==============================] - 53s 2ms/step - loss: 50.7862 - val_loss: 50.8256\n",
      "Epoch 96/200\n",
      "34924/34924 [==============================] - 53s 2ms/step - loss: 49.7896 - val_loss: 49.7706\n",
      "Epoch 97/200\n",
      "34924/34924 [==============================] - 53s 2ms/step - loss: 50.0088 - val_loss: 49.3273\n",
      "Epoch 98/200\n",
      "34924/34924 [==============================] - 53s 2ms/step - loss: 49.5632 - val_loss: 50.0979\n",
      "Epoch 99/200\n",
      "34924/34924 [==============================] - 53s 2ms/step - loss: 52.6005 - val_loss: 56.4061\n",
      "Epoch 100/200\n",
      "34924/34924 [==============================] - 53s 2ms/step - loss: 53.5481 - val_loss: 53.8178\n",
      "Epoch 101/200\n",
      "34924/34924 [==============================] - 53s 2ms/step - loss: 52.9958 - val_loss: 52.3151\n",
      "Epoch 102/200\n",
      "34924/34924 [==============================] - 53s 2ms/step - loss: 51.3708 - val_loss: 51.9736\n",
      "Epoch 103/200\n",
      "34924/34924 [==============================] - 53s 2ms/step - loss: 50.5265 - val_loss: 50.7143\n",
      "Epoch 104/200\n",
      "34924/34924 [==============================] - 53s 2ms/step - loss: 49.9651 - val_loss: 50.1910\n",
      "Epoch 105/200\n",
      "34924/34924 [==============================] - 54s 2ms/step - loss: 49.6806 - val_loss: 49.9072\n",
      "Epoch 106/200\n",
      "34924/34924 [==============================] - 56s 2ms/step - loss: 48.8444 - val_loss: 49.0962\n",
      "Epoch 107/200\n",
      "34924/34924 [==============================] - 53s 2ms/step - loss: 49.6935 - val_loss: 50.0960\n",
      "Epoch 108/200\n",
      "34924/34924 [==============================] - 54s 2ms/step - loss: 48.9511 - val_loss: 49.0599\n",
      "Epoch 109/200\n",
      "34924/34924 [==============================] - 53s 2ms/step - loss: 48.0598 - val_loss: 48.7062\n",
      "Epoch 110/200\n",
      "34924/34924 [==============================] - 53s 2ms/step - loss: 48.3259 - val_loss: 48.3815\n",
      "Epoch 111/200\n",
      "34924/34924 [==============================] - 53s 2ms/step - loss: 49.1312 - val_loss: 49.0100\n",
      "Epoch 112/200\n",
      "34924/34924 [==============================] - 53s 2ms/step - loss: 49.0052 - val_loss: 51.0795\n",
      "Epoch 113/200\n",
      "34924/34924 [==============================] - 53s 2ms/step - loss: 49.9319 - val_loss: 50.7838\n",
      "Epoch 114/200\n",
      "34924/34924 [==============================] - 55s 2ms/step - loss: 49.0712 - val_loss: 48.5583\n",
      "Epoch 115/200\n",
      "34924/34924 [==============================] - 54s 2ms/step - loss: 48.8658 - val_loss: 49.8801\n",
      "Epoch 116/200\n",
      "34924/34924 [==============================] - 53s 2ms/step - loss: 48.7256 - val_loss: 49.0605\n",
      "Epoch 117/200\n",
      "34924/34924 [==============================] - 54s 2ms/step - loss: 49.4584 - val_loss: 49.4188\n",
      "Epoch 118/200\n",
      "34924/34924 [==============================] - 54s 2ms/step - loss: 48.2966 - val_loss: 48.3680\n",
      "Epoch 119/200\n",
      "34924/34924 [==============================] - 54s 2ms/step - loss: 49.2331 - val_loss: 49.7347\n",
      "Epoch 120/200\n",
      "34924/34924 [==============================] - 53s 2ms/step - loss: 48.5029 - val_loss: 48.5952\n",
      "Epoch 121/200\n",
      "34924/34924 [==============================] - 54s 2ms/step - loss: 47.9926 - val_loss: 48.7235\n",
      "Epoch 122/200\n",
      "34924/34924 [==============================] - 53s 2ms/step - loss: 47.6585 - val_loss: 48.4303\n",
      "Epoch 123/200\n",
      "34924/34924 [==============================] - 53s 2ms/step - loss: 51.8161 - val_loss: 50.5084\n",
      "Epoch 124/200\n",
      "34924/34924 [==============================] - 53s 2ms/step - loss: 48.0934 - val_loss: 48.0021\n",
      "Epoch 125/200\n",
      "34924/34924 [==============================] - 54s 2ms/step - loss: 47.0279 - val_loss: 47.5610\n",
      "Epoch 126/200\n",
      "34924/34924 [==============================] - 53s 2ms/step - loss: 47.3533 - val_loss: 48.5746\n",
      "Epoch 127/200\n",
      "34924/34924 [==============================] - 53s 2ms/step - loss: 46.8049 - val_loss: 48.3629\n",
      "Epoch 128/200\n",
      "34924/34924 [==============================] - 53s 2ms/step - loss: 46.5691 - val_loss: 47.0678\n",
      "Epoch 129/200\n",
      "34924/34924 [==============================] - 53s 2ms/step - loss: 47.4471 - val_loss: 48.5064\n",
      "Epoch 130/200\n",
      "34924/34924 [==============================] - 53s 2ms/step - loss: 46.2063 - val_loss: 47.1902\n",
      "Epoch 131/200\n",
      "34924/34924 [==============================] - 53s 2ms/step - loss: 45.7984 - val_loss: 46.8069\n",
      "Epoch 132/200\n",
      "34924/34924 [==============================] - 53s 2ms/step - loss: 47.7317 - val_loss: 48.3083\n",
      "Epoch 133/200\n",
      "34924/34924 [==============================] - 54s 2ms/step - loss: 47.3570 - val_loss: 51.4924\n",
      "Epoch 134/200\n",
      "34924/34924 [==============================] - 53s 2ms/step - loss: 49.5828 - val_loss: 51.4315\n",
      "Epoch 135/200\n",
      "34924/34924 [==============================] - 53s 2ms/step - loss: 48.9211 - val_loss: 53.2028\n",
      "Epoch 136/200\n",
      "34924/34924 [==============================] - 53s 2ms/step - loss: 49.9046 - val_loss: 49.2895\n",
      "Epoch 137/200\n",
      "34924/34924 [==============================] - 53s 2ms/step - loss: 47.9023 - val_loss: 49.3463\n",
      "Epoch 138/200\n",
      "34924/34924 [==============================] - 53s 2ms/step - loss: 47.8667 - val_loss: 48.9765\n",
      "Epoch 139/200\n",
      "34924/34924 [==============================] - 53s 2ms/step - loss: 47.2575 - val_loss: 47.3283\n",
      "Epoch 140/200\n",
      "34924/34924 [==============================] - 53s 2ms/step - loss: 46.2308 - val_loss: 48.5222\n",
      "Epoch 141/200\n",
      "34924/34924 [==============================] - 53s 2ms/step - loss: 48.6884 - val_loss: 49.5869\n",
      "Epoch 142/200\n",
      "34924/34924 [==============================] - 53s 2ms/step - loss: 47.7051 - val_loss: 47.9006\n",
      "Epoch 143/200\n",
      "34924/34924 [==============================] - 53s 2ms/step - loss: 49.0447 - val_loss: 49.6022\n",
      "Epoch 144/200\n",
      "34924/34924 [==============================] - 54s 2ms/step - loss: 47.4302 - val_loss: 47.3396\n",
      "Epoch 145/200\n",
      "34924/34924 [==============================] - 53s 2ms/step - loss: 49.3632 - val_loss: 52.6760\n",
      "Epoch 146/200\n",
      "34924/34924 [==============================] - 53s 2ms/step - loss: 49.4791 - val_loss: 48.7676\n",
      "Epoch 147/200\n",
      "34924/34924 [==============================] - 54s 2ms/step - loss: 47.1778 - val_loss: 47.5155\n",
      "Epoch 148/200\n",
      "34924/34924 [==============================] - 53s 2ms/step - loss: 48.1328 - val_loss: 49.7078\n",
      "Epoch 149/200\n",
      "34924/34924 [==============================] - 54s 2ms/step - loss: 49.2449 - val_loss: 48.4865\n",
      "Epoch 150/200\n",
      "34924/34924 [==============================] - 53s 2ms/step - loss: 47.5867 - val_loss: 47.8243\n",
      "Epoch 151/200\n",
      "34924/34924 [==============================] - 53s 2ms/step - loss: 46.8069 - val_loss: 47.8505\n",
      "Epoch 152/200\n",
      "34924/34924 [==============================] - 53s 2ms/step - loss: 48.5747 - val_loss: 49.6984\n",
      "Epoch 153/200\n",
      "34924/34924 [==============================] - 53s 2ms/step - loss: 47.2866 - val_loss: 48.7315\n",
      "Epoch 154/200\n",
      "34924/34924 [==============================] - 53s 2ms/step - loss: 46.4384 - val_loss: 47.2333\n",
      "Epoch 155/200\n",
      "34924/34924 [==============================] - 54s 2ms/step - loss: 45.9163 - val_loss: 46.6560\n",
      "Epoch 156/200\n",
      "34924/34924 [==============================] - 53s 2ms/step - loss: 45.3299 - val_loss: 46.4539\n",
      "Epoch 157/200\n",
      "34924/34924 [==============================] - 53s 2ms/step - loss: 45.7755 - val_loss: 47.4117\n",
      "Epoch 158/200\n",
      "34924/34924 [==============================] - 53s 2ms/step - loss: 46.1791 - val_loss: 47.1459\n",
      "Epoch 159/200\n",
      "34924/34924 [==============================] - 53s 2ms/step - loss: 45.4941 - val_loss: 47.3652\n",
      "Epoch 160/200\n",
      "34924/34924 [==============================] - 53s 2ms/step - loss: 47.6277 - val_loss: 47.0274\n",
      "Epoch 161/200\n",
      "34924/34924 [==============================] - 53s 2ms/step - loss: 46.6614 - val_loss: 47.3931\n",
      "Epoch 162/200\n",
      "34924/34924 [==============================] - 53s 2ms/step - loss: 45.9637 - val_loss: 46.4302\n",
      "Epoch 163/200\n",
      "34924/34924 [==============================] - 53s 2ms/step - loss: 45.3320 - val_loss: 46.3438\n",
      "Epoch 164/200\n",
      "34924/34924 [==============================] - 53s 2ms/step - loss: 45.0464 - val_loss: 46.4620\n",
      "Epoch 165/200\n",
      "34924/34924 [==============================] - 53s 2ms/step - loss: 46.3176 - val_loss: 47.8499\n",
      "Epoch 166/200\n",
      "34924/34924 [==============================] - 53s 2ms/step - loss: 48.5920 - val_loss: 47.8111\n",
      "Epoch 167/200\n",
      "34924/34924 [==============================] - 53s 2ms/step - loss: 46.2494 - val_loss: 46.6575\n",
      "Epoch 168/200\n",
      "34924/34924 [==============================] - 53s 2ms/step - loss: 47.1185 - val_loss: 47.1223\n",
      "Epoch 169/200\n",
      "34924/34924 [==============================] - 53s 2ms/step - loss: 45.9335 - val_loss: 48.7085\n",
      "Epoch 170/200\n",
      "34924/34924 [==============================] - 53s 2ms/step - loss: 46.5654 - val_loss: 46.0887\n",
      "Epoch 171/200\n",
      "34924/34924 [==============================] - 53s 2ms/step - loss: 44.3743 - val_loss: 45.6323\n",
      "Epoch 172/200\n",
      "34924/34924 [==============================] - 53s 2ms/step - loss: 44.5531 - val_loss: 46.3817\n",
      "Epoch 173/200\n",
      "34924/34924 [==============================] - 53s 2ms/step - loss: 44.9477 - val_loss: 47.6625\n",
      "Epoch 174/200\n",
      "34924/34924 [==============================] - 53s 2ms/step - loss: 44.8704 - val_loss: 46.0287\n",
      "Epoch 175/200\n",
      "34924/34924 [==============================] - 53s 2ms/step - loss: 45.2884 - val_loss: 45.1533\n",
      "Epoch 176/200\n",
      "34924/34924 [==============================] - 53s 2ms/step - loss: 50.4733 - val_loss: 48.9759\n",
      "Epoch 177/200\n",
      "34924/34924 [==============================] - 53s 2ms/step - loss: 46.8703 - val_loss: 47.1045\n",
      "Epoch 178/200\n",
      "34924/34924 [==============================] - 53s 2ms/step - loss: 45.6535 - val_loss: 51.1492\n",
      "Epoch 179/200\n",
      "34924/34924 [==============================] - 53s 2ms/step - loss: 45.9259 - val_loss: 46.0352\n",
      "Epoch 180/200\n",
      "34924/34924 [==============================] - 53s 2ms/step - loss: 44.5334 - val_loss: 45.7231\n",
      "Epoch 181/200\n",
      "34924/34924 [==============================] - 53s 2ms/step - loss: 46.2400 - val_loss: 51.2578\n",
      "Epoch 182/200\n",
      "34924/34924 [==============================] - 54s 2ms/step - loss: 47.2176 - val_loss: 47.1061\n",
      "Epoch 183/200\n",
      "34924/34924 [==============================] - 53s 2ms/step - loss: 48.3756 - val_loss: 50.1997\n",
      "Epoch 184/200\n",
      "34924/34924 [==============================] - 54s 2ms/step - loss: 47.8413 - val_loss: 47.6417\n",
      "Epoch 185/200\n",
      "34924/34924 [==============================] - 53s 2ms/step - loss: 47.6899 - val_loss: 48.2818\n",
      "Epoch 186/200\n",
      "34924/34924 [==============================] - 53s 2ms/step - loss: 47.1699 - val_loss: 49.2285\n",
      "Epoch 187/200\n",
      "34924/34924 [==============================] - 53s 2ms/step - loss: 46.1684 - val_loss: 47.8670\n",
      "Epoch 188/200\n",
      "34924/34924 [==============================] - 53s 2ms/step - loss: 45.9221 - val_loss: 46.4206\n",
      "Epoch 189/200\n",
      "34924/34924 [==============================] - 53s 2ms/step - loss: 45.5333 - val_loss: 46.6891\n",
      "Epoch 190/200\n",
      "34924/34924 [==============================] - 53s 2ms/step - loss: 44.4934 - val_loss: 45.0369\n",
      "Epoch 191/200\n",
      "34924/34924 [==============================] - 53s 2ms/step - loss: 44.1723 - val_loss: 44.9971\n",
      "Epoch 192/200\n",
      "34924/34924 [==============================] - 53s 2ms/step - loss: 44.4473 - val_loss: 46.4908\n",
      "Epoch 193/200\n",
      "34924/34924 [==============================] - 53s 2ms/step - loss: 45.5872 - val_loss: 47.4453\n",
      "Epoch 194/200\n",
      "34924/34924 [==============================] - 53s 2ms/step - loss: 45.3412 - val_loss: 45.6148\n",
      "Epoch 195/200\n",
      "34924/34924 [==============================] - 53s 2ms/step - loss: 44.3142 - val_loss: 44.4903\n",
      "Epoch 196/200\n",
      "34924/34924 [==============================] - 53s 2ms/step - loss: 44.2237 - val_loss: 45.1111\n",
      "Epoch 197/200\n",
      "34924/34924 [==============================] - 53s 2ms/step - loss: 43.9672 - val_loss: 44.7893\n",
      "Epoch 198/200\n",
      "34924/34924 [==============================] - 53s 2ms/step - loss: 44.2791 - val_loss: 44.6544\n",
      "Epoch 199/200\n",
      "34924/34924 [==============================] - 54s 2ms/step - loss: 44.4196 - val_loss: 46.4740\n",
      "Epoch 200/200\n",
      "34924/34924 [==============================] - 53s 2ms/step - loss: 46.6317 - val_loss: 47.6735\n"
     ]
    }
   ],
   "source": [
    "history = model.fit(train_x, train_y,\n",
    "                    batch_size = 128,\n",
    "                    epochs=200,\n",
    "                    validation_data=(test_x, test_y))"
   ]
  },
  {
   "cell_type": "code",
   "execution_count": 49,
   "metadata": {},
   "outputs": [
    {
     "data": {
      "text/plain": [
       "<matplotlib.legend.Legend at 0x3c27c1d240>"
      ]
     },
     "execution_count": 49,
     "metadata": {},
     "output_type": "execute_result"
    },
    {
     "data": {
      "image/png": "[encoded data removed]",
      "text/plain": [
       "<matplotlib.figure.Figure at 0x3c27c0fe10>"
      ]
     },
     "metadata": {},
     "output_type": "display_data"
    }
   ],
   "source": [
    "plt.plot(history.epoch, history.history.get('loss'), 'y', label='Training loss')\n",
    "plt.plot(history.epoch, history.history.get('val_loss'), 'b', label='Test loss')\n",
    "plt.legend()"
   ]
  },
  {
   "cell_type": "code",
   "execution_count": 37,
   "metadata": {},
   "outputs": [],
   "source": [
    "model = keras.Sequential()\n",
    "model.add(layers.LSTM(32, input_shape=(train_x.shape[1:]), return_sequences=True))\n",
    "model.add(layers.LSTM(32, return_sequences=True))\n",
    "model.add(layers.LSTM(32))\n",
    "model.add(layers.Dense(1))"
   ]
  },
  {
   "cell_type": "code",
   "execution_count": 38,
   "metadata": {},
   "outputs": [],
   "source": [
    "model.compile(optimizer=keras.optimizers.Adam(), loss='mae')"
   ]
  },
  {
   "cell_type": "code",
   "execution_count": 39,
   "metadata": {},
   "outputs": [],
   "source": [
    "learning_rate_reduction = keras.callbacks.ReduceLROnPlateau(monitor='val_loss', patience=3, factor=0.5, min_lr=0.00001)"
   ]
  },
  {
   "cell_type": "code",
   "execution_count": 41,
   "metadata": {},
   "outputs": [
    {
     "name": "stdout",
     "output_type": "stream",
     "text": [
      "Train on 34924 samples, validate on 8732 samples\n",
      "Epoch 1/200\n",
      " 3840/34924 [==>...........................] - ETA: 26s - loss: 82.1072WARNING:tensorflow:Reduce LR on plateau conditioned on metric `val_loss` which is not available. Available metrics are: loss,lr\n"
     ]
    },
    {
     "ename": "KeyboardInterrupt",
     "evalue": "",
     "output_type": "error",
     "traceback": [
      "\u001b[1;31m---------------------------------------------------------------------------\u001b[0m",
      "\u001b[1;31mKeyboardInterrupt\u001b[0m                         Traceback (most recent call last)",
      "\u001b[1;32m<ipython-input-41-fe15f8a4a5b7>\u001b[0m in \u001b[0;36m<module>\u001b[1;34m\u001b[0m\n\u001b[0;32m      3\u001b[0m                     \u001b[0mepochs\u001b[0m\u001b[1;33m=\u001b[0m\u001b[1;36m200\u001b[0m\u001b[1;33m,\u001b[0m\u001b[1;33m\u001b[0m\u001b[1;33m\u001b[0m\u001b[0m\n\u001b[0;32m      4\u001b[0m                     \u001b[0mvalidation_data\u001b[0m\u001b[1;33m=\u001b[0m\u001b[1;33m(\u001b[0m\u001b[0mtest_x\u001b[0m\u001b[1;33m,\u001b[0m \u001b[0mtest_y\u001b[0m\u001b[1;33m)\u001b[0m\u001b[1;33m,\u001b[0m\u001b[1;33m\u001b[0m\u001b[1;33m\u001b[0m\u001b[0m\n\u001b[1;32m----> 5\u001b[1;33m                     callbacks=[learning_rate_reduction])\n\u001b[0m",
      "\u001b[1;32md:\\develop\\python\\lib\\site-packages\\tensorflow_core\\python\\keras\\engine\\training.py\u001b[0m in \u001b[0;36mfit\u001b[1;34m(self, x, y, batch_size, epochs, verbose, callbacks, validation_split, validation_data, shuffle, class_weight, sample_weight, initial_epoch, steps_per_epoch, validation_steps, validation_freq, max_queue_size, workers, use_multiprocessing, **kwargs)\u001b[0m\n\u001b[0;32m    726\u001b[0m         \u001b[0mmax_queue_size\u001b[0m\u001b[1;33m=\u001b[0m\u001b[0mmax_queue_size\u001b[0m\u001b[1;33m,\u001b[0m\u001b[1;33m\u001b[0m\u001b[1;33m\u001b[0m\u001b[0m\n\u001b[0;32m    727\u001b[0m         \u001b[0mworkers\u001b[0m\u001b[1;33m=\u001b[0m\u001b[0mworkers\u001b[0m\u001b[1;33m,\u001b[0m\u001b[1;33m\u001b[0m\u001b[1;33m\u001b[0m\u001b[0m\n\u001b[1;32m--> 728\u001b[1;33m         use_multiprocessing=use_multiprocessing)\n\u001b[0m\u001b[0;32m    729\u001b[0m \u001b[1;33m\u001b[0m\u001b[0m\n\u001b[0;32m    730\u001b[0m   def evaluate(self,\n",
      "\u001b[1;32md:\\develop\\python\\lib\\site-packages\\tensorflow_core\\python\\keras\\engine\\training_v2.py\u001b[0m in \u001b[0;36mfit\u001b[1;34m(self, model, x, y, batch_size, epochs, verbose, callbacks, validation_split, validation_data, shuffle, class_weight, sample_weight, initial_epoch, steps_per_epoch, validation_steps, validation_freq, **kwargs)\u001b[0m\n\u001b[0;32m    322\u001b[0m                 \u001b[0mmode\u001b[0m\u001b[1;33m=\u001b[0m\u001b[0mModeKeys\u001b[0m\u001b[1;33m.\u001b[0m\u001b[0mTRAIN\u001b[0m\u001b[1;33m,\u001b[0m\u001b[1;33m\u001b[0m\u001b[1;33m\u001b[0m\u001b[0m\n\u001b[0;32m    323\u001b[0m                 \u001b[0mtraining_context\u001b[0m\u001b[1;33m=\u001b[0m\u001b[0mtraining_context\u001b[0m\u001b[1;33m,\u001b[0m\u001b[1;33m\u001b[0m\u001b[1;33m\u001b[0m\u001b[0m\n\u001b[1;32m--> 324\u001b[1;33m                 total_epochs=epochs)\n\u001b[0m\u001b[0;32m    325\u001b[0m             \u001b[0mcbks\u001b[0m\u001b[1;33m.\u001b[0m\u001b[0mmake_logs\u001b[0m\u001b[1;33m(\u001b[0m\u001b[0mmodel\u001b[0m\u001b[1;33m,\u001b[0m \u001b[0mepoch_logs\u001b[0m\u001b[1;33m,\u001b[0m \u001b[0mtraining_result\u001b[0m\u001b[1;33m,\u001b[0m \u001b[0mModeKeys\u001b[0m\u001b[1;33m.\u001b[0m\u001b[0mTRAIN\u001b[0m\u001b[1;33m)\u001b[0m\u001b[1;33m\u001b[0m\u001b[1;33m\u001b[0m\u001b[0m\n\u001b[0;32m    326\u001b[0m \u001b[1;33m\u001b[0m\u001b[0m\n",
      "\u001b[1;32md:\\develop\\python\\lib\\site-packages\\tensorflow_core\\python\\keras\\engine\\training_v2.py\u001b[0m in \u001b[0;36mrun_one_epoch\u001b[1;34m(model, iterator, execution_function, dataset_size, batch_size, strategy, steps_per_epoch, num_samples, mode, training_context, total_epochs)\u001b[0m\n\u001b[0;32m    121\u001b[0m         step=step, mode=mode, size=current_batch_size) as batch_logs:\n\u001b[0;32m    122\u001b[0m       \u001b[1;32mtry\u001b[0m\u001b[1;33m:\u001b[0m\u001b[1;33m\u001b[0m\u001b[1;33m\u001b[0m\u001b[0m\n\u001b[1;32m--> 123\u001b[1;33m         \u001b[0mbatch_outs\u001b[0m \u001b[1;33m=\u001b[0m \u001b[0mexecution_function\u001b[0m\u001b[1;33m(\u001b[0m\u001b[0miterator\u001b[0m\u001b[1;33m)\u001b[0m\u001b[1;33m\u001b[0m\u001b[1;33m\u001b[0m\u001b[0m\n\u001b[0m\u001b[0;32m    124\u001b[0m       \u001b[1;32mexcept\u001b[0m \u001b[1;33m(\u001b[0m\u001b[0mStopIteration\u001b[0m\u001b[1;33m,\u001b[0m \u001b[0merrors\u001b[0m\u001b[1;33m.\u001b[0m\u001b[0mOutOfRangeError\u001b[0m\u001b[1;33m)\u001b[0m\u001b[1;33m:\u001b[0m\u001b[1;33m\u001b[0m\u001b[1;33m\u001b[0m\u001b[0m\n\u001b[0;32m    125\u001b[0m         \u001b[1;31m# TODO(kaftan): File bug about tf function and errors.OutOfRangeError?\u001b[0m\u001b[1;33m\u001b[0m\u001b[1;33m\u001b[0m\u001b[1;33m\u001b[0m\u001b[0m\n",
      "\u001b[1;32md:\\develop\\python\\lib\\site-packages\\tensorflow_core\\python\\keras\\engine\\training_v2_utils.py\u001b[0m in \u001b[0;36mexecution_function\u001b[1;34m(input_fn)\u001b[0m\n\u001b[0;32m     84\u001b[0m     \u001b[1;31m# `numpy` translates Tensors to values in Eager mode.\u001b[0m\u001b[1;33m\u001b[0m\u001b[1;33m\u001b[0m\u001b[1;33m\u001b[0m\u001b[0m\n\u001b[0;32m     85\u001b[0m     return nest.map_structure(_non_none_constant_value,\n\u001b[1;32m---> 86\u001b[1;33m                               distributed_function(input_fn))\n\u001b[0m\u001b[0;32m     87\u001b[0m \u001b[1;33m\u001b[0m\u001b[0m\n\u001b[0;32m     88\u001b[0m   \u001b[1;32mreturn\u001b[0m \u001b[0mexecution_function\u001b[0m\u001b[1;33m\u001b[0m\u001b[1;33m\u001b[0m\u001b[0m\n",
      "\u001b[1;32md:\\develop\\python\\lib\\site-packages\\tensorflow_core\\python\\eager\\def_function.py\u001b[0m in \u001b[0;36m__call__\u001b[1;34m(self, *args, **kwds)\u001b[0m\n\u001b[0;32m    455\u001b[0m \u001b[1;33m\u001b[0m\u001b[0m\n\u001b[0;32m    456\u001b[0m     \u001b[0mtracing_count\u001b[0m \u001b[1;33m=\u001b[0m \u001b[0mself\u001b[0m\u001b[1;33m.\u001b[0m\u001b[0m_get_tracing_count\u001b[0m\u001b[1;33m(\u001b[0m\u001b[1;33m)\u001b[0m\u001b[1;33m\u001b[0m\u001b[1;33m\u001b[0m\u001b[0m\n\u001b[1;32m--> 457\u001b[1;33m     \u001b[0mresult\u001b[0m \u001b[1;33m=\u001b[0m \u001b[0mself\u001b[0m\u001b[1;33m.\u001b[0m\u001b[0m_call\u001b[0m\u001b[1;33m(\u001b[0m\u001b[1;33m*\u001b[0m\u001b[0margs\u001b[0m\u001b[1;33m,\u001b[0m \u001b[1;33m**\u001b[0m\u001b[0mkwds\u001b[0m\u001b[1;33m)\u001b[0m\u001b[1;33m\u001b[0m\u001b[1;33m\u001b[0m\u001b[0m\n\u001b[0m\u001b[0;32m    458\u001b[0m     \u001b[1;32mif\u001b[0m \u001b[0mtracing_count\u001b[0m \u001b[1;33m==\u001b[0m \u001b[0mself\u001b[0m\u001b[1;33m.\u001b[0m\u001b[0m_get_tracing_count\u001b[0m\u001b[1;33m(\u001b[0m\u001b[1;33m)\u001b[0m\u001b[1;33m:\u001b[0m\u001b[1;33m\u001b[0m\u001b[1;33m\u001b[0m\u001b[0m\n\u001b[0;32m    459\u001b[0m       \u001b[0mself\u001b[0m\u001b[1;33m.\u001b[0m\u001b[0m_call_counter\u001b[0m\u001b[1;33m.\u001b[0m\u001b[0mcalled_without_tracing\u001b[0m\u001b[1;33m(\u001b[0m\u001b[1;33m)\u001b[0m\u001b[1;33m\u001b[0m\u001b[1;33m\u001b[0m\u001b[0m\n",
      "\u001b[1;32md:\\develop\\python\\lib\\site-packages\\tensorflow_core\\python\\eager\\def_function.py\u001b[0m in \u001b[0;36m_call\u001b[1;34m(self, *args, **kwds)\u001b[0m\n\u001b[0;32m    485\u001b[0m       \u001b[1;31m# In this case we have created variables on the first call, so we run the\u001b[0m\u001b[1;33m\u001b[0m\u001b[1;33m\u001b[0m\u001b[1;33m\u001b[0m\u001b[0m\n\u001b[0;32m    486\u001b[0m       \u001b[1;31m# defunned version which is guaranteed to never create variables.\u001b[0m\u001b[1;33m\u001b[0m\u001b[1;33m\u001b[0m\u001b[1;33m\u001b[0m\u001b[0m\n\u001b[1;32m--> 487\u001b[1;33m       \u001b[1;32mreturn\u001b[0m \u001b[0mself\u001b[0m\u001b[1;33m.\u001b[0m\u001b[0m_stateless_fn\u001b[0m\u001b[1;33m(\u001b[0m\u001b[1;33m*\u001b[0m\u001b[0margs\u001b[0m\u001b[1;33m,\u001b[0m \u001b[1;33m**\u001b[0m\u001b[0mkwds\u001b[0m\u001b[1;33m)\u001b[0m  \u001b[1;31m# pylint: disable=not-callable\u001b[0m\u001b[1;33m\u001b[0m\u001b[1;33m\u001b[0m\u001b[0m\n\u001b[0m\u001b[0;32m    488\u001b[0m     \u001b[1;32melif\u001b[0m \u001b[0mself\u001b[0m\u001b[1;33m.\u001b[0m\u001b[0m_stateful_fn\u001b[0m \u001b[1;32mis\u001b[0m \u001b[1;32mnot\u001b[0m \u001b[1;32mNone\u001b[0m\u001b[1;33m:\u001b[0m\u001b[1;33m\u001b[0m\u001b[1;33m\u001b[0m\u001b[0m\n\u001b[0;32m    489\u001b[0m       \u001b[1;31m# Release the lock early so that multiple threads can perform the call\u001b[0m\u001b[1;33m\u001b[0m\u001b[1;33m\u001b[0m\u001b[1;33m\u001b[0m\u001b[0m\n",
      "\u001b[1;32md:\\develop\\python\\lib\\site-packages\\tensorflow_core\\python\\eager\\function.py\u001b[0m in \u001b[0;36m__call__\u001b[1;34m(self, *args, **kwargs)\u001b[0m\n\u001b[0;32m   1821\u001b[0m     \u001b[1;34m\"\"\"Calls a graph function specialized to the inputs.\"\"\"\u001b[0m\u001b[1;33m\u001b[0m\u001b[1;33m\u001b[0m\u001b[0m\n\u001b[0;32m   1822\u001b[0m     \u001b[0mgraph_function\u001b[0m\u001b[1;33m,\u001b[0m \u001b[0margs\u001b[0m\u001b[1;33m,\u001b[0m \u001b[0mkwargs\u001b[0m \u001b[1;33m=\u001b[0m \u001b[0mself\u001b[0m\u001b[1;33m.\u001b[0m\u001b[0m_maybe_define_function\u001b[0m\u001b[1;33m(\u001b[0m\u001b[0margs\u001b[0m\u001b[1;33m,\u001b[0m \u001b[0mkwargs\u001b[0m\u001b[1;33m)\u001b[0m\u001b[1;33m\u001b[0m\u001b[1;33m\u001b[0m\u001b[0m\n\u001b[1;32m-> 1823\u001b[1;33m     \u001b[1;32mreturn\u001b[0m \u001b[0mgraph_function\u001b[0m\u001b[1;33m.\u001b[0m\u001b[0m_filtered_call\u001b[0m\u001b[1;33m(\u001b[0m\u001b[0margs\u001b[0m\u001b[1;33m,\u001b[0m \u001b[0mkwargs\u001b[0m\u001b[1;33m)\u001b[0m  \u001b[1;31m# pylint: disable=protected-access\u001b[0m\u001b[1;33m\u001b[0m\u001b[1;33m\u001b[0m\u001b[0m\n\u001b[0m\u001b[0;32m   1824\u001b[0m \u001b[1;33m\u001b[0m\u001b[0m\n\u001b[0;32m   1825\u001b[0m   \u001b[1;33m@\u001b[0m\u001b[0mproperty\u001b[0m\u001b[1;33m\u001b[0m\u001b[1;33m\u001b[0m\u001b[0m\n",
      "\u001b[1;32md:\\develop\\python\\lib\\site-packages\\tensorflow_core\\python\\eager\\function.py\u001b[0m in \u001b[0;36m_filtered_call\u001b[1;34m(self, args, kwargs)\u001b[0m\n\u001b[0;32m   1139\u001b[0m          if isinstance(t, (ops.Tensor,\n\u001b[0;32m   1140\u001b[0m                            resource_variable_ops.BaseResourceVariable))),\n\u001b[1;32m-> 1141\u001b[1;33m         self.captured_inputs)\n\u001b[0m\u001b[0;32m   1142\u001b[0m \u001b[1;33m\u001b[0m\u001b[0m\n\u001b[0;32m   1143\u001b[0m   \u001b[1;32mdef\u001b[0m \u001b[0m_call_flat\u001b[0m\u001b[1;33m(\u001b[0m\u001b[0mself\u001b[0m\u001b[1;33m,\u001b[0m \u001b[0margs\u001b[0m\u001b[1;33m,\u001b[0m \u001b[0mcaptured_inputs\u001b[0m\u001b[1;33m,\u001b[0m \u001b[0mcancellation_manager\u001b[0m\u001b[1;33m=\u001b[0m\u001b[1;32mNone\u001b[0m\u001b[1;33m)\u001b[0m\u001b[1;33m:\u001b[0m\u001b[1;33m\u001b[0m\u001b[1;33m\u001b[0m\u001b[0m\n",
      "\u001b[1;32md:\\develop\\python\\lib\\site-packages\\tensorflow_core\\python\\eager\\function.py\u001b[0m in \u001b[0;36m_call_flat\u001b[1;34m(self, args, captured_inputs, cancellation_manager)\u001b[0m\n\u001b[0;32m   1222\u001b[0m     \u001b[1;32mif\u001b[0m \u001b[0mexecuting_eagerly\u001b[0m\u001b[1;33m:\u001b[0m\u001b[1;33m\u001b[0m\u001b[1;33m\u001b[0m\u001b[0m\n\u001b[0;32m   1223\u001b[0m       flat_outputs = forward_function.call(\n\u001b[1;32m-> 1224\u001b[1;33m           ctx, args, cancellation_manager=cancellation_manager)\n\u001b[0m\u001b[0;32m   1225\u001b[0m     \u001b[1;32melse\u001b[0m\u001b[1;33m:\u001b[0m\u001b[1;33m\u001b[0m\u001b[1;33m\u001b[0m\u001b[0m\n\u001b[0;32m   1226\u001b[0m       \u001b[0mgradient_name\u001b[0m \u001b[1;33m=\u001b[0m \u001b[0mself\u001b[0m\u001b[1;33m.\u001b[0m\u001b[0m_delayed_rewrite_functions\u001b[0m\u001b[1;33m.\u001b[0m\u001b[0mregister\u001b[0m\u001b[1;33m(\u001b[0m\u001b[1;33m)\u001b[0m\u001b[1;33m\u001b[0m\u001b[1;33m\u001b[0m\u001b[0m\n",
      "\u001b[1;32md:\\develop\\python\\lib\\site-packages\\tensorflow_core\\python\\eager\\function.py\u001b[0m in \u001b[0;36mcall\u001b[1;34m(self, ctx, args, cancellation_manager)\u001b[0m\n\u001b[0;32m    509\u001b[0m               \u001b[0minputs\u001b[0m\u001b[1;33m=\u001b[0m\u001b[0margs\u001b[0m\u001b[1;33m,\u001b[0m\u001b[1;33m\u001b[0m\u001b[1;33m\u001b[0m\u001b[0m\n\u001b[0;32m    510\u001b[0m               \u001b[0mattrs\u001b[0m\u001b[1;33m=\u001b[0m\u001b[1;33m(\u001b[0m\u001b[1;34m\"executor_type\"\u001b[0m\u001b[1;33m,\u001b[0m \u001b[0mexecutor_type\u001b[0m\u001b[1;33m,\u001b[0m \u001b[1;34m\"config_proto\"\u001b[0m\u001b[1;33m,\u001b[0m \u001b[0mconfig\u001b[0m\u001b[1;33m)\u001b[0m\u001b[1;33m,\u001b[0m\u001b[1;33m\u001b[0m\u001b[1;33m\u001b[0m\u001b[0m\n\u001b[1;32m--> 511\u001b[1;33m               ctx=ctx)\n\u001b[0m\u001b[0;32m    512\u001b[0m         \u001b[1;32melse\u001b[0m\u001b[1;33m:\u001b[0m\u001b[1;33m\u001b[0m\u001b[1;33m\u001b[0m\u001b[0m\n\u001b[0;32m    513\u001b[0m           outputs = execute.execute_with_cancellation(\n",
      "\u001b[1;32md:\\develop\\python\\lib\\site-packages\\tensorflow_core\\python\\eager\\execute.py\u001b[0m in \u001b[0;36mquick_execute\u001b[1;34m(op_name, num_outputs, inputs, attrs, ctx, name)\u001b[0m\n\u001b[0;32m     59\u001b[0m     tensors = pywrap_tensorflow.TFE_Py_Execute(ctx._handle, device_name,\n\u001b[0;32m     60\u001b[0m                                                \u001b[0mop_name\u001b[0m\u001b[1;33m,\u001b[0m \u001b[0minputs\u001b[0m\u001b[1;33m,\u001b[0m \u001b[0mattrs\u001b[0m\u001b[1;33m,\u001b[0m\u001b[1;33m\u001b[0m\u001b[1;33m\u001b[0m\u001b[0m\n\u001b[1;32m---> 61\u001b[1;33m                                                num_outputs)\n\u001b[0m\u001b[0;32m     62\u001b[0m   \u001b[1;32mexcept\u001b[0m \u001b[0mcore\u001b[0m\u001b[1;33m.\u001b[0m\u001b[0m_NotOkStatusException\u001b[0m \u001b[1;32mas\u001b[0m \u001b[0me\u001b[0m\u001b[1;33m:\u001b[0m\u001b[1;33m\u001b[0m\u001b[1;33m\u001b[0m\u001b[0m\n\u001b[0;32m     63\u001b[0m     \u001b[1;32mif\u001b[0m \u001b[0mname\u001b[0m \u001b[1;32mis\u001b[0m \u001b[1;32mnot\u001b[0m \u001b[1;32mNone\u001b[0m\u001b[1;33m:\u001b[0m\u001b[1;33m\u001b[0m\u001b[1;33m\u001b[0m\u001b[0m\n",
      "\u001b[1;31mKeyboardInterrupt\u001b[0m: "
     ]
    }
   ],
   "source": [
    "history = model.fit(train_x, train_y,\n",
    "                    batch_size = 128,\n",
    "                    epochs=200,\n",
    "                    validation_data=(test_x, test_y),\n",
    "                    callbacks=[learning_rate_reduction])"
   ]
  },
  {
   "cell_type": "code",
   "execution_count": null,
   "metadata": {},
   "outputs": [],
   "source": []
  }
 ],
 "metadata": {
  "kernelspec": {
   "display_name": "Python 3",
   "language": "python",
   "name": "python3"
  },
  "language_info": {
   "codemirror_mode": {
    "name": "ipython",
    "version": 3
   },
   "file_extension": ".py",
   "mimetype": "text/x-python",
   "name": "python",
   "nbconvert_exporter": "python",
   "pygments_lexer": "ipython3",
   "version": "3.7.4"
  }
 },
 "nbformat": 4,
 "nbformat_minor": 2
}
