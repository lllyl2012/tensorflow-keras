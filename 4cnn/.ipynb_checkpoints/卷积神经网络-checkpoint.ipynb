{
 "cells": [
  {
   "cell_type": "code",
   "execution_count": 23,
   "metadata": {
    "scrolled": true
   },
   "outputs": [],
   "source": [
    "import tensorflow as tf\n",
    "import tensorflow.keras as keras\n",
    "from tensorflow.keras import layers\n",
    "import numpy as np\n",
    "import matplotlib.pyplot as plt\n",
    "%matplotlib inline"
   ]
  },
  {
   "cell_type": "code",
   "execution_count": 3,
   "metadata": {},
   "outputs": [],
   "source": [
    "fashion_mnist = keras.datasets.fashion_mnist\n",
    "\n",
    "(train_images,train_labels),(test_images,test_labels) = fashion_mnist.load_data()"
   ]
  },
  {
   "cell_type": "code",
   "execution_count": 4,
   "metadata": {},
   "outputs": [
    {
     "data": {
      "text/plain": [
       "(60000, 28, 28)"
      ]
     },
     "execution_count": 4,
     "metadata": {},
     "output_type": "execute_result"
    }
   ],
   "source": [
    "train_images.shape"
   ]
  },
  {
   "cell_type": "code",
   "execution_count": 6,
   "metadata": {},
   "outputs": [],
   "source": [
    "train_images = np.expand_dims(train_images,-1)"
   ]
  },
  {
   "cell_type": "code",
   "execution_count": 7,
   "metadata": {},
   "outputs": [
    {
     "data": {
      "text/plain": [
       "(60000, 28, 28, 1)"
      ]
     },
     "execution_count": 7,
     "metadata": {},
     "output_type": "execute_result"
    }
   ],
   "source": [
    "train_images.shape"
   ]
  },
  {
   "cell_type": "code",
   "execution_count": 8,
   "metadata": {},
   "outputs": [],
   "source": [
    "test_images = np.expand_dims(test_images,-1)"
   ]
  },
  {
   "cell_type": "code",
   "execution_count": 11,
   "metadata": {},
   "outputs": [],
   "source": [
    "model = tf.keras.Sequential()\n",
    "model.add(tf.keras.layers.Conv2D(32,#filter个数,拟合度不够要增加，减少信息丢失\n",
    "                                 (3,3),#卷积核\n",
    "                                 input_shape=(28,28,1),\n",
    "                                 activation='relu',\n",
    "                                padding='same'))\n"
   ]
  },
  {
   "cell_type": "code",
   "execution_count": 12,
   "metadata": {},
   "outputs": [
    {
     "data": {
      "text/plain": [
       "(None, 28, 28, 32)"
      ]
     },
     "execution_count": 12,
     "metadata": {},
     "output_type": "execute_result"
    }
   ],
   "source": [
    "model.output_shape#padding=same的时候是28，28，32，如果是默认的valid，就是26，26，32,填充和不填充的区别"
   ]
  },
  {
   "cell_type": "code",
   "execution_count": 13,
   "metadata": {},
   "outputs": [],
   "source": [
    "model.add(tf.keras.layers.MaxPool2D())#默认池化大小2*2\n",
    "model.add(tf.keras.layers.Conv2D(64,(3,3),activation='relu'))\n",
    "model.add(tf.keras.layers.GlobalAveragePooling2D())\n",
    "#为了添加拟合度，可以增加池化层数和Conv层数与filter数量\n",
    "#过拟合的话加dropout"
   ]
  },
  {
   "cell_type": "code",
   "execution_count": 14,
   "metadata": {},
   "outputs": [
    {
     "data": {
      "text/plain": [
       "(None, 64)"
      ]
     },
     "execution_count": 14,
     "metadata": {},
     "output_type": "execute_result"
    }
   ],
   "source": [
    "model.output_shape"
   ]
  },
  {
   "cell_type": "code",
   "execution_count": 15,
   "metadata": {},
   "outputs": [],
   "source": [
    "model.add(tf.keras.layers.Dense(10,activation='softmax'))"
   ]
  },
  {
   "cell_type": "code",
   "execution_count": 16,
   "metadata": {},
   "outputs": [
    {
     "name": "stdout",
     "output_type": "stream",
     "text": [
      "Model: \"sequential_1\"\n",
      "_________________________________________________________________\n",
      "Layer (type)                 Output Shape              Param #   \n",
      "=================================================================\n",
      "conv2d_1 (Conv2D)            (None, 28, 28, 32)        320       \n",
      "_________________________________________________________________\n",
      "max_pooling2d (MaxPooling2D) (None, 14, 14, 32)        0         \n",
      "_________________________________________________________________\n",
      "conv2d_2 (Conv2D)            (None, 12, 12, 64)        18496     \n",
      "_________________________________________________________________\n",
      "global_average_pooling2d (Gl (None, 64)                0         \n",
      "_________________________________________________________________\n",
      "dense (Dense)                (None, 10)                650       \n",
      "=================================================================\n",
      "Total params: 19,466\n",
      "Trainable params: 19,466\n",
      "Non-trainable params: 0\n",
      "_________________________________________________________________\n"
     ]
    }
   ],
   "source": [
    "model.summary()"
   ]
  },
  {
   "cell_type": "code",
   "execution_count": 17,
   "metadata": {},
   "outputs": [],
   "source": [
    "model.compile(optimizer='adam',\n",
    "             loss='sparse_categorical_crossentropy',\n",
    "             metrics=['acc'])"
   ]
  },
  {
   "cell_type": "code",
   "execution_count": 18,
   "metadata": {},
   "outputs": [
    {
     "name": "stdout",
     "output_type": "stream",
     "text": [
      "Train on 60000 samples, validate on 10000 samples\n",
      "Epoch 1/30\n",
      "60000/60000 [==============================] - 19s 315us/sample - loss: 0.8139 - acc: 0.7406 - val_loss: 0.5549 - val_acc: 0.8115\n",
      "Epoch 2/30\n",
      "60000/60000 [==============================] - 18s 306us/sample - loss: 0.4804 - acc: 0.8317 - val_loss: 0.4628 - val_acc: 0.8362\n",
      "Epoch 3/30\n",
      "60000/60000 [==============================] - 18s 302us/sample - loss: 0.4206 - acc: 0.8527 - val_loss: 0.4084 - val_acc: 0.8566\n",
      "Epoch 4/30\n",
      "60000/60000 [==============================] - 18s 303us/sample - loss: 0.3869 - acc: 0.8652 - val_loss: 0.4254 - val_acc: 0.8527\n",
      "Epoch 5/30\n",
      "60000/60000 [==============================] - 18s 307us/sample - loss: 0.3628 - acc: 0.8721 - val_loss: 0.3696 - val_acc: 0.8719\n",
      "Epoch 6/30\n",
      "60000/60000 [==============================] - 18s 307us/sample - loss: 0.3419 - acc: 0.8795 - val_loss: 0.3653 - val_acc: 0.8751\n",
      "Epoch 7/30\n",
      "60000/60000 [==============================] - 18s 306us/sample - loss: 0.3266 - acc: 0.8845 - val_loss: 0.3472 - val_acc: 0.8797\n",
      "Epoch 8/30\n",
      "60000/60000 [==============================] - 18s 306us/sample - loss: 0.3144 - acc: 0.8876 - val_loss: 0.3446 - val_acc: 0.8859\n",
      "Epoch 9/30\n",
      "60000/60000 [==============================] - 18s 308us/sample - loss: 0.3040 - acc: 0.8916 - val_loss: 0.3334 - val_acc: 0.8850\n",
      "Epoch 10/30\n",
      "60000/60000 [==============================] - 19s 312us/sample - loss: 0.2912 - acc: 0.8966 - val_loss: 0.3619 - val_acc: 0.8683\n",
      "Epoch 11/30\n",
      "60000/60000 [==============================] - 19s 313us/sample - loss: 0.2805 - acc: 0.9003 - val_loss: 0.3607 - val_acc: 0.8784\n",
      "Epoch 12/30\n",
      "60000/60000 [==============================] - 19s 308us/sample - loss: 0.2745 - acc: 0.9020 - val_loss: 0.3525 - val_acc: 0.8766\n",
      "Epoch 13/30\n",
      "60000/60000 [==============================] - 19s 310us/sample - loss: 0.2677 - acc: 0.9039 - val_loss: 0.3448 - val_acc: 0.8820\n",
      "Epoch 14/30\n",
      "60000/60000 [==============================] - 19s 309us/sample - loss: 0.2605 - acc: 0.9072 - val_loss: 0.3156 - val_acc: 0.8926\n",
      "Epoch 15/30\n",
      "60000/60000 [==============================] - 19s 310us/sample - loss: 0.2548 - acc: 0.9092 - val_loss: 0.3363 - val_acc: 0.8800\n",
      "Epoch 16/30\n",
      "60000/60000 [==============================] - 18s 307us/sample - loss: 0.2522 - acc: 0.9105 - val_loss: 0.3229 - val_acc: 0.8912\n",
      "Epoch 17/30\n",
      "60000/60000 [==============================] - 19s 310us/sample - loss: 0.2443 - acc: 0.9119 - val_loss: 0.3034 - val_acc: 0.8968\n",
      "Epoch 18/30\n",
      "60000/60000 [==============================] - 18s 306us/sample - loss: 0.2399 - acc: 0.9144 - val_loss: 0.3431 - val_acc: 0.8838\n",
      "Epoch 19/30\n",
      "60000/60000 [==============================] - 19s 310us/sample - loss: 0.2360 - acc: 0.9160 - val_loss: 0.3147 - val_acc: 0.8927\n",
      "Epoch 20/30\n",
      "60000/60000 [==============================] - 18s 307us/sample - loss: 0.2303 - acc: 0.9184 - val_loss: 0.3074 - val_acc: 0.8988\n",
      "Epoch 21/30\n",
      "60000/60000 [==============================] - 18s 306us/sample - loss: 0.2271 - acc: 0.9190 - val_loss: 0.3189 - val_acc: 0.8916\n",
      "Epoch 22/30\n",
      "60000/60000 [==============================] - 19s 318us/sample - loss: 0.2212 - acc: 0.9198 - val_loss: 0.3231 - val_acc: 0.8934\n",
      "Epoch 23/30\n",
      "60000/60000 [==============================] - 19s 320us/sample - loss: 0.2175 - acc: 0.9217 - val_loss: 0.3376 - val_acc: 0.8910\n",
      "Epoch 24/30\n",
      "60000/60000 [==============================] - 19s 321us/sample - loss: 0.2166 - acc: 0.9225 - val_loss: 0.3188 - val_acc: 0.8950\n",
      "Epoch 25/30\n",
      "60000/60000 [==============================] - 19s 321us/sample - loss: 0.2121 - acc: 0.9238 - val_loss: 0.3075 - val_acc: 0.8959\n",
      "Epoch 26/30\n",
      "60000/60000 [==============================] - 19s 321us/sample - loss: 0.2078 - acc: 0.9262 - val_loss: 0.3400 - val_acc: 0.8879\n",
      "Epoch 27/30\n",
      "60000/60000 [==============================] - 19s 321us/sample - loss: 0.2056 - acc: 0.9254 - val_loss: 0.3184 - val_acc: 0.8973\n",
      "Epoch 28/30\n",
      "60000/60000 [==============================] - 19s 323us/sample - loss: 0.2034 - acc: 0.9266 - val_loss: 0.3129 - val_acc: 0.8982\n",
      "Epoch 29/30\n",
      "60000/60000 [==============================] - 19s 317us/sample - loss: 0.1981 - acc: 0.9287 - val_loss: 0.3255 - val_acc: 0.8901\n",
      "Epoch 30/30\n",
      "60000/60000 [==============================] - 19s 322us/sample - loss: 0.1962 - acc: 0.9289 - val_loss: 0.3355 - val_acc: 0.8901\n"
     ]
    }
   ],
   "source": [
    "history = model.fit(train_images,train_labels,epochs=30,validation_data=(test_images,test_labels))"
   ]
  },
  {
   "cell_type": "code",
   "execution_count": 21,
   "metadata": {},
   "outputs": [
    {
     "data": {
      "text/plain": [
       "dict_keys(['loss', 'acc', 'val_loss', 'val_acc'])"
      ]
     },
     "execution_count": 21,
     "metadata": {},
     "output_type": "execute_result"
    }
   ],
   "source": [
    "history.history.keys()"
   ]
  },
  {
   "cell_type": "code",
   "execution_count": 24,
   "metadata": {},
   "outputs": [
    {
     "data": {
      "text/plain": [
       "[<matplotlib.lines.Line2D at 0x1afb653bdc8>]"
      ]
     },
     "execution_count": 24,
     "metadata": {},
     "output_type": "execute_result"
    },
    {
     "data": {
      "image/png": "[encoded data removed]",
      "text/plain": [
       "<Figure size 432x288 with 1 Axes>"
      ]
     },
     "metadata": {
      "needs_background": "light"
     },
     "output_type": "display_data"
    }
   ],
   "source": [
    "plt.plot(history.epoch,history.history.get('acc'),label='acc')\n",
    "plt.plot(history.epoch,history.history.get('val_acc'),label='val_acc')"
   ]
  },
  {
   "cell_type": "code",
   "execution_count": 25,
   "metadata": {},
   "outputs": [
    {
     "data": {
      "text/plain": [
       "[<matplotlib.lines.Line2D at 0x1afb6cfbdc8>]"
      ]
     },
     "execution_count": 25,
     "metadata": {},
     "output_type": "execute_result"
    },
    {
     "data": {
      "image/png": "[encoded data removed]",
      "text/plain": [
       "<Figure size 432x288 with 1 Axes>"
      ]
     },
     "metadata": {
      "needs_background": "light"
     },
     "output_type": "display_data"
    }
   ],
   "source": [
    "plt.plot(history.epoch,history.history.get('loss'),label='loss')\n",
    "plt.plot(history.epoch,history.history.get('val_loss'),label='val_loss')"
   ]
  },
  {
   "cell_type": "code",
   "execution_count": null,
   "metadata": {},
   "outputs": [],
   "source": []
  }
 ],
 "metadata": {
  "kernelspec": {
   "display_name": "Python 3",
   "language": "python",
   "name": "python3"
  },
  "language_info": {
   "codemirror_mode": {
    "name": "ipython",
    "version": 3
   },
   "file_extension": ".py",
   "mimetype": "text/x-python",
   "name": "python",
   "nbconvert_exporter": "python",
   "pygments_lexer": "ipython3",
   "version": "3.7.4"
  }
 },
 "nbformat": 4,
 "nbformat_minor": 2
}
