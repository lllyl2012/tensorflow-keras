{
 "cells": [
  {
   "cell_type": "code",
   "execution_count": 1,
   "metadata": {},
   "outputs": [],
   "source": [
    "import tensorflow as tf"
   ]
  },
  {
   "cell_type": "code",
   "execution_count": 2,
   "metadata": {},
   "outputs": [
    {
     "data": {
      "text/plain": [
       "True"
      ]
     },
     "execution_count": 2,
     "metadata": {},
     "output_type": "execute_result"
    }
   ],
   "source": [
    "tf.test.is_gpu_available()"
   ]
  },
  {
   "cell_type": "code",
   "execution_count": 3,
   "metadata": {},
   "outputs": [
    {
     "name": "stdout",
     "output_type": "stream",
     "text": [
      "version:2.0.0-rc0\n"
     ]
    }
   ],
   "source": [
    "print('version:{}'.format(tf.__version__))"
   ]
  },
  {
   "cell_type": "code",
   "execution_count": 4,
   "metadata": {},
   "outputs": [],
   "source": [
    "import matplotlib.pyplot as plt\n",
    "%matplotlib inline\n",
    "import numpy as np\n",
    "import pathlib\n",
    "import random\n",
    "import IPython.display as display"
   ]
  },
  {
   "cell_type": "code",
   "execution_count": 5,
   "metadata": {},
   "outputs": [],
   "source": [
    "data_dir = 'E:\\\\study\\\\tensorflow\\\\data\\\\2_class'"
   ]
  },
  {
   "cell_type": "code",
   "execution_count": 6,
   "metadata": {},
   "outputs": [
    {
     "data": {
      "text/plain": [
       "WindowsPath('E:/study/tensorflow/data/2_class')"
      ]
     },
     "execution_count": 6,
     "metadata": {},
     "output_type": "execute_result"
    }
   ],
   "source": [
    "data_root = pathlib.Path(data_dir)\n",
    "\n",
    "data_root"
   ]
  },
  {
   "cell_type": "code",
   "execution_count": 7,
   "metadata": {},
   "outputs": [
    {
     "name": "stdout",
     "output_type": "stream",
     "text": [
      "E:\\study\\tensorflow\\data\\2_class\\airplane\n",
      "E:\\study\\tensorflow\\data\\2_class\\lake\n"
     ]
    }
   ],
   "source": [
    "for item in data_root.iterdir():\n",
    "    print(item)"
   ]
  },
  {
   "cell_type": "code",
   "execution_count": 8,
   "metadata": {},
   "outputs": [],
   "source": [
    "all_image_path = list(data_root.glob('*/*'))"
   ]
  },
  {
   "cell_type": "code",
   "execution_count": 9,
   "metadata": {},
   "outputs": [
    {
     "data": {
      "text/plain": [
       "1400"
      ]
     },
     "execution_count": 9,
     "metadata": {},
     "output_type": "execute_result"
    }
   ],
   "source": [
    "len(all_image_path)"
   ]
  },
  {
   "cell_type": "code",
   "execution_count": 10,
   "metadata": {},
   "outputs": [
    {
     "data": {
      "text/plain": [
       "[WindowsPath('E:/study/tensorflow/data/2_class/airplane/airplane_001.jpg'),\n",
       " WindowsPath('E:/study/tensorflow/data/2_class/airplane/airplane_002.jpg'),\n",
       " WindowsPath('E:/study/tensorflow/data/2_class/airplane/airplane_003.jpg')]"
      ]
     },
     "execution_count": 10,
     "metadata": {},
     "output_type": "execute_result"
    }
   ],
   "source": [
    "all_image_path[:3]"
   ]
  },
  {
   "cell_type": "code",
   "execution_count": 11,
   "metadata": {},
   "outputs": [
    {
     "data": {
      "text/plain": [
       "[WindowsPath('E:/study/tensorflow/data/2_class/lake/lake_698.jpg'),\n",
       " WindowsPath('E:/study/tensorflow/data/2_class/lake/lake_699.jpg'),\n",
       " WindowsPath('E:/study/tensorflow/data/2_class/lake/lake_700.jpg')]"
      ]
     },
     "execution_count": 11,
     "metadata": {},
     "output_type": "execute_result"
    }
   ],
   "source": [
    "all_image_path[-3:]"
   ]
  },
  {
   "cell_type": "code",
   "execution_count": 12,
   "metadata": {},
   "outputs": [],
   "source": [
    "all_image_path = [str(path) for path in all_image_path]"
   ]
  },
  {
   "cell_type": "code",
   "execution_count": 13,
   "metadata": {},
   "outputs": [
    {
     "data": {
      "text/plain": [
       "['E:\\\\study\\\\tensorflow\\\\data\\\\2_class\\\\airplane\\\\airplane_011.jpg',\n",
       " 'E:\\\\study\\\\tensorflow\\\\data\\\\2_class\\\\airplane\\\\airplane_012.jpg']"
      ]
     },
     "execution_count": 13,
     "metadata": {},
     "output_type": "execute_result"
    }
   ],
   "source": [
    "all_image_path[10:12]"
   ]
  },
  {
   "cell_type": "code",
   "execution_count": 14,
   "metadata": {},
   "outputs": [],
   "source": [
    "random.shuffle(all_image_path)"
   ]
  },
  {
   "cell_type": "code",
   "execution_count": 15,
   "metadata": {},
   "outputs": [
    {
     "data": {
      "text/plain": [
       "['E:\\\\study\\\\tensorflow\\\\data\\\\2_class\\\\lake\\\\lake_680.jpg',\n",
       " 'E:\\\\study\\\\tensorflow\\\\data\\\\2_class\\\\airplane\\\\airplane_065.jpg',\n",
       " 'E:\\\\study\\\\tensorflow\\\\data\\\\2_class\\\\airplane\\\\airplane_341.jpg',\n",
       " 'E:\\\\study\\\\tensorflow\\\\data\\\\2_class\\\\lake\\\\lake_078.jpg',\n",
       " 'E:\\\\study\\\\tensorflow\\\\data\\\\2_class\\\\lake\\\\lake_489.jpg']"
      ]
     },
     "execution_count": 15,
     "metadata": {},
     "output_type": "execute_result"
    }
   ],
   "source": [
    "all_image_path[:5]"
   ]
  },
  {
   "cell_type": "code",
   "execution_count": 16,
   "metadata": {},
   "outputs": [],
   "source": [
    "image_count = len(all_image_path)"
   ]
  },
  {
   "cell_type": "code",
   "execution_count": 17,
   "metadata": {},
   "outputs": [
    {
     "data": {
      "text/plain": [
       "1400"
      ]
     },
     "execution_count": 17,
     "metadata": {},
     "output_type": "execute_result"
    }
   ],
   "source": [
    "image_count"
   ]
  },
  {
   "cell_type": "code",
   "execution_count": 18,
   "metadata": {},
   "outputs": [],
   "source": [
    "label_names = sorted(item.name for item in data_root.glob('*/'))"
   ]
  },
  {
   "cell_type": "code",
   "execution_count": 19,
   "metadata": {},
   "outputs": [
    {
     "data": {
      "text/plain": [
       "['airplane', 'lake']"
      ]
     },
     "execution_count": 19,
     "metadata": {},
     "output_type": "execute_result"
    }
   ],
   "source": [
    "label_names"
   ]
  },
  {
   "cell_type": "code",
   "execution_count": 20,
   "metadata": {},
   "outputs": [],
   "source": [
    "label_to_index = dict((name,index) for index,name in enumerate(label_names))"
   ]
  },
  {
   "cell_type": "code",
   "execution_count": 21,
   "metadata": {},
   "outputs": [
    {
     "data": {
      "text/plain": [
       "{'airplane': 0, 'lake': 1}"
      ]
     },
     "execution_count": 21,
     "metadata": {},
     "output_type": "execute_result"
    }
   ],
   "source": [
    "label_to_index"
   ]
  },
  {
   "cell_type": "code",
   "execution_count": 22,
   "metadata": {},
   "outputs": [
    {
     "data": {
      "text/plain": [
       "'airplane'"
      ]
     },
     "execution_count": 22,
     "metadata": {},
     "output_type": "execute_result"
    }
   ],
   "source": [
    "pathlib.Path('E:\\\\study\\\\tensorflow\\\\data\\\\2_class\\\\airplane\\\\airplane_012.jpg').parent.name"
   ]
  },
  {
   "cell_type": "code",
   "execution_count": 23,
   "metadata": {},
   "outputs": [],
   "source": [
    "all_image_label = [label_to_index[pathlib.Path(p).parent.name] for p in all_image_path]"
   ]
  },
  {
   "cell_type": "code",
   "execution_count": 24,
   "metadata": {},
   "outputs": [
    {
     "data": {
      "text/plain": [
       "[1, 0, 0, 1, 1]"
      ]
     },
     "execution_count": 24,
     "metadata": {},
     "output_type": "execute_result"
    }
   ],
   "source": [
    "all_image_label[:5]"
   ]
  },
  {
   "cell_type": "code",
   "execution_count": 25,
   "metadata": {},
   "outputs": [],
   "source": [
    "index_to_label = dict((v,k) for k,v in label_to_index.items())"
   ]
  },
  {
   "cell_type": "code",
   "execution_count": 26,
   "metadata": {},
   "outputs": [
    {
     "data": {
      "text/plain": [
       "{0: 'airplane', 1: 'lake'}"
      ]
     },
     "execution_count": 26,
     "metadata": {},
     "output_type": "execute_result"
    }
   ],
   "source": [
    "index_to_label"
   ]
  },
  {
   "cell_type": "code",
   "execution_count": 59,
   "metadata": {
    "scrolled": true
   },
   "outputs": [
    {
     "data": {
      "image/jpeg": "[encoded data removed]",
      "text/plain": [
       "<IPython.core.display.Image object>"
      ]
     },
     "metadata": {},
     "output_type": "display_data"
    },
    {
     "name": "stdout",
     "output_type": "stream",
     "text": [
      "airplane\n"
     ]
    },
    {
     "data": {
      "image/jpeg": "[encoded data removed]",
      "text/plain": [
       "<IPython.core.display.Image object>"
      ]
     },
     "metadata": {},
     "output_type": "display_data"
    },
    {
     "name": "stdout",
     "output_type": "stream",
     "text": [
      "lake\n"
     ]
    },
    {
     "data": {
      "image/jpeg": "[encoded data removed]",
      "text/plain": [
       "<IPython.core.display.Image object>"
      ]
     },
     "metadata": {},
     "output_type": "display_data"
    },
    {
     "name": "stdout",
     "output_type": "stream",
     "text": [
      "airplane\n"
     ]
    },
    {
     "data": {
      "image/jpeg": "[encoded data removed]",
      "text/plain": [
       "<IPython.core.display.Image object>"
      ]
     },
     "metadata": {},
     "output_type": "display_data"
    },
    {
     "name": "stdout",
     "output_type": "stream",
     "text": [
      "airplane\n"
     ]
    },
    {
     "data": {
      "image/jpeg": "[encoded data removed]",
      "text/plain": [
       "<IPython.core.display.Image object>"
      ]
     },
     "metadata": {},
     "output_type": "display_data"
    },
    {
     "name": "stdout",
     "output_type": "stream",
     "text": [
      "lake\n"
     ]
    },
    {
     "data": {
      "image/jpeg": "[encoded data removed]",
      "text/plain": [
       "<IPython.core.display.Image object>"
      ]
     },
     "metadata": {},
     "output_type": "display_data"
    },
    {
     "name": "stdout",
     "output_type": "stream",
     "text": [
      "airplane\n"
     ]
    },
    {
     "data": {
      "image/jpeg": "[encoded data removed]",
      "text/plain": [
       "<IPython.core.display.Image object>"
      ]
     },
     "metadata": {},
     "output_type": "display_data"
    },
    {
     "name": "stdout",
     "output_type": "stream",
     "text": [
      "lake\n"
     ]
    },
    {
     "data": {
      "image/jpeg": "[encoded data removed]",
      "text/plain": [
       "<IPython.core.display.Image object>"
      ]
     },
     "metadata": {},
     "output_type": "display_data"
    },
    {
     "name": "stdout",
     "output_type": "stream",
     "text": [
      "airplane\n"
     ]
    },
    {
     "data": {
      "image/jpeg": "[encoded data removed]",
      "text/plain": [
       "<IPython.core.display.Image object>"
      ]
     },
     "metadata": {},
     "output_type": "display_data"
    },
    {
     "name": "stdout",
     "output_type": "stream",
     "text": [
      "lake\n"
     ]
    },
    {
     "data": {
      "image/jpeg": "[encoded data removed]",
      "text/plain": [
       "<IPython.core.display.Image object>"
      ]
     },
     "metadata": {},
     "output_type": "display_data"
    },
    {
     "name": "stdout",
     "output_type": "stream",
     "text": [
      "lake\n"
     ]
    }
   ],
   "source": [
    "for n in range(10):\n",
    "    image_index = random.choice(range(len(all_image_path)))\n",
    "    display.display(display.Image(all_image_path[image_index]))\n",
    "    print(index_to_label[all_image_label[image_index]])"
   ]
  },
  {
   "cell_type": "code",
   "execution_count": 28,
   "metadata": {},
   "outputs": [],
   "source": [
    "img_path = all_image_path[10]"
   ]
  },
  {
   "cell_type": "code",
   "execution_count": 29,
   "metadata": {},
   "outputs": [],
   "source": [
    "img_raw = tf.io.read_file(img_path)"
   ]
  },
  {
   "cell_type": "code",
   "execution_count": 31,
   "metadata": {},
   "outputs": [],
   "source": [
    "img_tensor = tf.image.decode_image(img_raw)"
   ]
  },
  {
   "cell_type": "code",
   "execution_count": 32,
   "metadata": {},
   "outputs": [
    {
     "data": {
      "text/plain": [
       "TensorShape([256, 256, 3])"
      ]
     },
     "execution_count": 32,
     "metadata": {},
     "output_type": "execute_result"
    }
   ],
   "source": [
    "img_tensor.shape"
   ]
  },
  {
   "cell_type": "code",
   "execution_count": 33,
   "metadata": {},
   "outputs": [
    {
     "data": {
      "text/plain": [
       "tf.uint8"
      ]
     },
     "execution_count": 33,
     "metadata": {},
     "output_type": "execute_result"
    }
   ],
   "source": [
    "img_tensor.dtype"
   ]
  },
  {
   "cell_type": "code",
   "execution_count": 34,
   "metadata": {},
   "outputs": [],
   "source": [
    "img_tensor = tf.cast(img_tensor,tf.float32)"
   ]
  },
  {
   "cell_type": "code",
   "execution_count": 35,
   "metadata": {},
   "outputs": [],
   "source": [
    "img_tensor = img_tensor/255"
   ]
  },
  {
   "cell_type": "code",
   "execution_count": 36,
   "metadata": {},
   "outputs": [
    {
     "data": {
      "text/plain": [
       "0.7764706"
      ]
     },
     "execution_count": 36,
     "metadata": {},
     "output_type": "execute_result"
    }
   ],
   "source": [
    "img_tensor.numpy().max()"
   ]
  },
  {
   "cell_type": "code",
   "execution_count": 37,
   "metadata": {},
   "outputs": [
    {
     "data": {
      "text/plain": [
       "0.0"
      ]
     },
     "execution_count": 37,
     "metadata": {},
     "output_type": "execute_result"
    }
   ],
   "source": [
    "img_tensor.numpy().min()"
   ]
  },
  {
   "cell_type": "code",
   "execution_count": 38,
   "metadata": {},
   "outputs": [],
   "source": [
    "def load_preprosess_image(path):\n",
    "    img = tf.io.read_file(path)\n",
    "    img = tf.image.decode_jpeg(img,channels=3)#=3代表解析彩色图片\n",
    "    img = tf.image.resize(img,[256,256])\n",
    "    img = tf.cast(img,tf.float32)\n",
    "    img = img/255.0\n",
    "    return img"
   ]
  },
  {
   "cell_type": "code",
   "execution_count": 39,
   "metadata": {},
   "outputs": [],
   "source": [
    "image_path = all_image_path[110]"
   ]
  },
  {
   "cell_type": "code",
   "execution_count": 40,
   "metadata": {},
   "outputs": [
    {
     "data": {
      "text/plain": [
       "<matplotlib.image.AxesImage at 0x1f74dbca508>"
      ]
     },
     "execution_count": 40,
     "metadata": {},
     "output_type": "execute_result"
    },
    {
     "data": {
      "image/png": "[encoded data removed]",
      "text/plain": [
       "<Figure size 432x288 with 1 Axes>"
      ]
     },
     "metadata": {
      "needs_background": "light"
     },
     "output_type": "display_data"
    }
   ],
   "source": [
    "plt.imshow(load_preprosess_image(image_path))"
   ]
  },
  {
   "cell_type": "code",
   "execution_count": 41,
   "metadata": {},
   "outputs": [],
   "source": [
    "path_ds = tf.data.Dataset.from_tensor_slices(all_image_path)"
   ]
  },
  {
   "cell_type": "code",
   "execution_count": 42,
   "metadata": {},
   "outputs": [
    {
     "name": "stdout",
     "output_type": "stream",
     "text": [
      "WARNING:tensorflow:Entity <function load_preprosess_image at 0x000001F718BDA8B8> could not be transformed and will be executed as-is. Please report this to the AutoGraph team. When filing the bug, set the verbosity to 10 (on Linux, `export AUTOGRAPH_VERBOSITY=10`) and attach the full output. Cause: Bad argument number for Name: 3, expecting 4\n",
      "WARNING: Entity <function load_preprosess_image at 0x000001F718BDA8B8> could not be transformed and will be executed as-is. Please report this to the AutoGraph team. When filing the bug, set the verbosity to 10 (on Linux, `export AUTOGRAPH_VERBOSITY=10`) and attach the full output. Cause: Bad argument number for Name: 3, expecting 4\n"
     ]
    }
   ],
   "source": [
    "AUTOTUNE = tf.data.experimental.AUTOTUNE\n",
    "image_ds = path_ds.map(load_preprosess_image, num_parallel_calls=AUTOTUNE)"
   ]
  },
  {
   "cell_type": "code",
   "execution_count": 43,
   "metadata": {},
   "outputs": [],
   "source": [
    "label_ds = tf.data.Dataset.from_tensor_slices(tf.cast(all_image_label, tf.int64))"
   ]
  },
  {
   "cell_type": "code",
   "execution_count": 44,
   "metadata": {
    "scrolled": false
   },
   "outputs": [
    {
     "name": "stdout",
     "output_type": "stream",
     "text": [
      "lake\n",
      "airplane\n",
      "airplane\n",
      "lake\n",
      "lake\n",
      "lake\n",
      "lake\n",
      "lake\n",
      "lake\n",
      "airplane\n"
     ]
    }
   ],
   "source": [
    "for label in label_ds.take(10):\n",
    "    print(label_names[label.numpy()])"
   ]
  },
  {
   "cell_type": "code",
   "execution_count": 45,
   "metadata": {},
   "outputs": [
    {
     "name": "stdout",
     "output_type": "stream",
     "text": [
      "[[[0.14117648 0.20392157 0.16470589]\n",
      "  [0.12941177 0.19215687 0.15294118]\n",
      "  [0.12941177 0.18039216 0.14117648]\n",
      "  ...\n",
      "  [0.21960784 0.26666668 0.22745098]\n",
      "  [0.20784314 0.2509804  0.21960784]\n",
      "  [0.19215687 0.23529412 0.20392157]]\n",
      "\n",
      " [[0.12156863 0.18431373 0.14509805]\n",
      "  [0.12156863 0.18431373 0.14509805]\n",
      "  [0.12941177 0.18039216 0.14117648]\n",
      "  ...\n",
      "  [0.2        0.24705882 0.20784314]\n",
      "  [0.20784314 0.2509804  0.21960784]\n",
      "  [0.20784314 0.2509804  0.21960784]]\n",
      "\n",
      " [[0.11764706 0.18039216 0.14117648]\n",
      "  [0.1254902  0.1882353  0.14901961]\n",
      "  [0.13725491 0.1882353  0.14901961]\n",
      "  ...\n",
      "  [0.14509805 0.19215687 0.15294118]\n",
      "  [0.16078432 0.20392157 0.17254902]\n",
      "  [0.17254902 0.21568628 0.18431373]]\n",
      "\n",
      " ...\n",
      "\n",
      " [[0.19215687 0.23921569 0.18431373]\n",
      "  [0.18039216 0.22745098 0.17254902]\n",
      "  [0.17254902 0.21960784 0.16470589]\n",
      "  ...\n",
      "  [0.13725491 0.18431373 0.14509805]\n",
      "  [0.13725491 0.18039216 0.14901961]\n",
      "  [0.14901961 0.19215687 0.16078432]]\n",
      "\n",
      " [[0.19215687 0.23921569 0.18431373]\n",
      "  [0.18431373 0.23137255 0.1764706 ]\n",
      "  [0.18039216 0.22745098 0.17254902]\n",
      "  ...\n",
      "  [0.14901961 0.19607843 0.15686275]\n",
      "  [0.15294118 0.19607843 0.16470589]\n",
      "  [0.16078432 0.20392157 0.17254902]]\n",
      "\n",
      " [[0.2        0.24705882 0.19215687]\n",
      "  [0.19607843 0.24313726 0.1882353 ]\n",
      "  [0.18431373 0.23137255 0.1764706 ]\n",
      "  ...\n",
      "  [0.13333334 0.18039216 0.14117648]\n",
      "  [0.13725491 0.18039216 0.14901961]\n",
      "  [0.14509805 0.1882353  0.15686275]]]\n",
      "[[[0.63529414 0.63529414 0.6039216 ]\n",
      "  [0.6313726  0.6313726  0.6       ]\n",
      "  [0.627451   0.627451   0.59607846]\n",
      "  ...\n",
      "  [0.6117647  0.60784316 0.6       ]\n",
      "  [0.5882353  0.5803922  0.58431375]\n",
      "  [0.54901963 0.5411765  0.54509807]]\n",
      "\n",
      " [[0.6117647  0.6117647  0.5803922 ]\n",
      "  [0.60784316 0.60784316 0.5764706 ]\n",
      "  [0.6039216  0.6039216  0.57254905]\n",
      "  ...\n",
      "  [0.59607846 0.5921569  0.58431375]\n",
      "  [0.60784316 0.6        0.6039216 ]\n",
      "  [0.6156863  0.60784316 0.6117647 ]]\n",
      "\n",
      " [[0.59607846 0.59607846 0.5647059 ]\n",
      "  [0.5921569  0.5921569  0.56078434]\n",
      "  [0.5921569  0.5921569  0.56078434]\n",
      "  ...\n",
      "  [0.60784316 0.6039216  0.5882353 ]\n",
      "  [0.627451   0.62352943 0.6156863 ]\n",
      "  [0.6392157  0.63529414 0.627451  ]]\n",
      "\n",
      " ...\n",
      "\n",
      " [[0.5686275  0.5686275  0.5294118 ]\n",
      "  [0.6039216  0.6039216  0.5647059 ]\n",
      "  [0.6431373  0.6431373  0.6039216 ]\n",
      "  ...\n",
      "  [0.73333335 0.7372549  0.6666667 ]\n",
      "  [0.7294118  0.73333335 0.6627451 ]\n",
      "  [0.7254902  0.7294118  0.65882355]]\n",
      "\n",
      " [[0.61960787 0.61960787 0.5803922 ]\n",
      "  [0.60784316 0.60784316 0.5686275 ]\n",
      "  [0.6        0.6        0.5686275 ]\n",
      "  ...\n",
      "  [0.70980394 0.7137255  0.6431373 ]\n",
      "  [0.7176471  0.72156864 0.6509804 ]\n",
      "  [0.72156864 0.7294118  0.64705884]]\n",
      "\n",
      " [[0.5882353  0.5882353  0.54901963]\n",
      "  [0.56078434 0.56078434 0.52156866]\n",
      "  [0.5411765  0.5411765  0.50980395]\n",
      "  ...\n",
      "  [0.72156864 0.7254902  0.654902  ]\n",
      "  [0.72156864 0.7294118  0.64705884]\n",
      "  [0.7176471  0.7254902  0.6431373 ]]]\n",
      "[[[0.4745098  0.46666667 0.47058824]\n",
      "  [0.46666667 0.45882353 0.4627451 ]\n",
      "  [0.45490196 0.44705883 0.4509804 ]\n",
      "  ...\n",
      "  [0.24313726 0.23137255 0.25882354]\n",
      "  [0.2627451  0.2509804  0.28627452]\n",
      "  [0.2509804  0.23921569 0.27450982]]\n",
      "\n",
      " [[0.4745098  0.46666667 0.47058824]\n",
      "  [0.46666667 0.45882353 0.4627451 ]\n",
      "  [0.45490196 0.44705883 0.4509804 ]\n",
      "  ...\n",
      "  [0.2509804  0.23921569 0.26666668]\n",
      "  [0.26666668 0.25490198 0.2901961 ]\n",
      "  [0.25882354 0.24705882 0.28235295]]\n",
      "\n",
      " [[0.4745098  0.46666667 0.47058824]\n",
      "  [0.46666667 0.45882353 0.4627451 ]\n",
      "  [0.45490196 0.44705883 0.4509804 ]\n",
      "  ...\n",
      "  [0.2509804  0.23921569 0.26666668]\n",
      "  [0.25490198 0.24313726 0.2784314 ]\n",
      "  [0.2509804  0.23921569 0.27450982]]\n",
      "\n",
      " ...\n",
      "\n",
      " [[0.5176471  0.52156866 0.5019608 ]\n",
      "  [0.5137255  0.5176471  0.49803922]\n",
      "  [0.48235294 0.4862745  0.46666667]\n",
      "  ...\n",
      "  [0.30980393 0.2901961  0.30588236]\n",
      "  [0.23921569 0.23137255 0.23529412]\n",
      "  [0.23137255 0.22352941 0.22745098]]\n",
      "\n",
      " [[0.49803922 0.5019608  0.48235294]\n",
      "  [0.49803922 0.5019608  0.48235294]\n",
      "  [0.4745098  0.47843137 0.45882353]\n",
      "  ...\n",
      "  [0.28235295 0.2627451  0.2784314 ]\n",
      "  [0.23529412 0.22745098 0.23137255]\n",
      "  [0.23921569 0.23137255 0.23529412]]\n",
      "\n",
      " [[0.53333336 0.5372549  0.5176471 ]\n",
      "  [0.5254902  0.5294118  0.50980395]\n",
      "  [0.49411765 0.49803922 0.47843137]\n",
      "  ...\n",
      "  [0.2509804  0.23137255 0.24705882]\n",
      "  [0.21960784 0.21176471 0.21568628]\n",
      "  [0.23529412 0.22745098 0.23137255]]]\n",
      "[[[0.15294118 0.23529412 0.16078432]\n",
      "  [0.16470589 0.24705882 0.17254902]\n",
      "  [0.17254902 0.25490198 0.18039216]\n",
      "  ...\n",
      "  [0.12941177 0.20784314 0.16470589]\n",
      "  [0.13725491 0.21568628 0.17254902]\n",
      "  [0.15294118 0.23137255 0.1882353 ]]\n",
      "\n",
      " [[0.16470589 0.24705882 0.17254902]\n",
      "  [0.1764706  0.25882354 0.18431373]\n",
      "  [0.1764706  0.25882354 0.18431373]\n",
      "  ...\n",
      "  [0.13333334 0.21176471 0.16862746]\n",
      "  [0.13725491 0.21568628 0.17254902]\n",
      "  [0.14901961 0.22745098 0.18431373]]\n",
      "\n",
      " [[0.1764706  0.25882354 0.18431373]\n",
      "  [0.1882353  0.27058825 0.19607843]\n",
      "  [0.18431373 0.26666668 0.19215687]\n",
      "  ...\n",
      "  [0.13725491 0.21568628 0.16862746]\n",
      "  [0.13725491 0.21568628 0.16862746]\n",
      "  [0.14117648 0.21960784 0.17254902]]\n",
      "\n",
      " ...\n",
      "\n",
      " [[0.18431373 0.27058825 0.1882353 ]\n",
      "  [0.19607843 0.28235295 0.2       ]\n",
      "  [0.20392157 0.2901961  0.20784314]\n",
      "  ...\n",
      "  [0.22352941 0.29411766 0.20784314]\n",
      "  [0.21960784 0.2901961  0.20392157]\n",
      "  [0.22352941 0.29411766 0.20784314]]\n",
      "\n",
      " [[0.1764706  0.2627451  0.18039216]\n",
      "  [0.1882353  0.27450982 0.19215687]\n",
      "  [0.2        0.28627452 0.20392157]\n",
      "  ...\n",
      "  [0.21568628 0.28627452 0.2       ]\n",
      "  [0.21568628 0.28627452 0.2       ]\n",
      "  [0.21960784 0.2901961  0.20392157]]\n",
      "\n",
      " [[0.16862746 0.25490198 0.17254902]\n",
      "  [0.18431373 0.27058825 0.1882353 ]\n",
      "  [0.2        0.28627452 0.20392157]\n",
      "  ...\n",
      "  [0.21960784 0.2901961  0.20392157]\n",
      "  [0.21960784 0.2901961  0.20392157]\n",
      "  [0.22352941 0.29411766 0.20784314]]]\n",
      "[[[0.40392157 0.3882353  0.34117648]\n",
      "  [0.3882353  0.37254903 0.3254902 ]\n",
      "  [0.36862746 0.36078432 0.3019608 ]\n",
      "  ...\n",
      "  [0.34901962 0.36862746 0.2901961 ]\n",
      "  [0.35686275 0.3764706  0.29803923]\n",
      "  [0.36862746 0.3882353  0.30980393]]\n",
      "\n",
      " [[0.41960785 0.39607844 0.34901962]\n",
      "  [0.39607844 0.38431373 0.3254902 ]\n",
      "  [0.38039216 0.36862746 0.30980393]\n",
      "  ...\n",
      "  [0.3647059  0.38431373 0.30588236]\n",
      "  [0.36078432 0.38039216 0.3019608 ]\n",
      "  [0.36078432 0.38039216 0.3019608 ]]\n",
      "\n",
      " [[0.43529412 0.40392157 0.3529412 ]\n",
      "  [0.41568628 0.39215687 0.32941177]\n",
      "  [0.39607844 0.38431373 0.31764707]\n",
      "  ...\n",
      "  [0.3764706  0.39607844 0.31764707]\n",
      "  [0.36862746 0.3882353  0.30980393]\n",
      "  [0.35686275 0.3764706  0.29803923]]\n",
      "\n",
      " ...\n",
      "\n",
      " [[0.42745098 0.41960785 0.36078432]\n",
      "  [0.42745098 0.41960785 0.36078432]\n",
      "  [0.42745098 0.42352942 0.3529412 ]\n",
      "  ...\n",
      "  [0.3647059  0.35686275 0.29803923]\n",
      "  [0.35686275 0.34901962 0.2901961 ]\n",
      "  [0.34901962 0.34117648 0.28235295]]\n",
      "\n",
      " [[0.4117647  0.4        0.34117648]\n",
      "  [0.4117647  0.4        0.34117648]\n",
      "  [0.39607844 0.39215687 0.32156864]\n",
      "  ...\n",
      "  [0.3764706  0.36862746 0.30980393]\n",
      "  [0.38039216 0.36862746 0.30980393]\n",
      "  [0.38039216 0.36862746 0.30980393]]\n",
      "\n",
      " [[0.39607844 0.38431373 0.3254902 ]\n",
      "  [0.39215687 0.38039216 0.32156864]\n",
      "  [0.37254903 0.36862746 0.29803923]\n",
      "  ...\n",
      "  [0.38039216 0.37254903 0.3137255 ]\n",
      "  [0.39607844 0.38431373 0.3254902 ]\n",
      "  [0.4        0.3882353  0.32941177]]]\n",
      "[[[0.28627452 0.31764707 0.25882354]\n",
      "  [0.2627451  0.29411766 0.23529412]\n",
      "  [0.22745098 0.25882354 0.2       ]\n",
      "  ...\n",
      "  [0.23921569 0.27058825 0.21176471]\n",
      "  [0.2627451  0.29411766 0.23529412]\n",
      "  [0.27450982 0.30588236 0.24705882]]\n",
      "\n",
      " [[0.2627451  0.29411766 0.23529412]\n",
      "  [0.2627451  0.29411766 0.23529412]\n",
      "  [0.23137255 0.2627451  0.20392157]\n",
      "  ...\n",
      "  [0.25882354 0.2901961  0.23137255]\n",
      "  [0.2627451  0.29411766 0.23529412]\n",
      "  [0.25882354 0.2901961  0.23137255]]\n",
      "\n",
      " [[0.22745098 0.25882354 0.2       ]\n",
      "  [0.25490198 0.28627452 0.22745098]\n",
      "  [0.23137255 0.2627451  0.20392157]\n",
      "  ...\n",
      "  [0.26666668 0.30980393 0.24705882]\n",
      "  [0.23921569 0.28235295 0.21960784]\n",
      "  [0.21176471 0.25490198 0.19215687]]\n",
      "\n",
      " ...\n",
      "\n",
      " [[0.25490198 0.28627452 0.22745098]\n",
      "  [0.24313726 0.27450982 0.21568628]\n",
      "  [0.23921569 0.27058825 0.21176471]\n",
      "  ...\n",
      "  [0.2        0.28235295 0.22352941]\n",
      "  [0.14901961 0.23137255 0.17254902]\n",
      "  [0.09803922 0.18039216 0.12156863]]\n",
      "\n",
      " [[0.27450982 0.30588236 0.24705882]\n",
      "  [0.2627451  0.29411766 0.23529412]\n",
      "  [0.2509804  0.28235295 0.22352941]\n",
      "  ...\n",
      "  [0.19215687 0.27450982 0.21568628]\n",
      "  [0.15686275 0.23921569 0.17254902]\n",
      "  [0.11764706 0.2        0.13333334]]\n",
      "\n",
      " [[0.29803923 0.32941177 0.27058825]\n",
      "  [0.2901961  0.32156864 0.2627451 ]\n",
      "  [0.27450982 0.30588236 0.24705882]\n",
      "  ...\n",
      "  [0.14901961 0.23137255 0.17254902]\n",
      "  [0.13725491 0.21960784 0.15294118]\n",
      "  [0.10980392 0.19215687 0.1254902 ]]]\n",
      "[[[0.3529412  0.34509805 0.29411766]\n",
      "  [0.36862746 0.36078432 0.30980393]\n",
      "  [0.38431373 0.3764706  0.3254902 ]\n",
      "  ...\n",
      "  [0.34901962 0.34901962 0.3019608 ]\n",
      "  [0.3254902  0.3254902  0.2784314 ]\n",
      "  [0.30588236 0.30588236 0.25882354]]\n",
      "\n",
      " [[0.33333334 0.3254902  0.27450982]\n",
      "  [0.34509805 0.3372549  0.28627452]\n",
      "  [0.35686275 0.34901962 0.29803923]\n",
      "  ...\n",
      "  [0.3372549  0.3372549  0.2901961 ]\n",
      "  [0.34117648 0.34117648 0.29411766]\n",
      "  [0.34117648 0.34117648 0.29411766]]\n",
      "\n",
      " [[0.3137255  0.30588236 0.25490198]\n",
      "  [0.31764707 0.30980393 0.25882354]\n",
      "  [0.3254902  0.31764707 0.26666668]\n",
      "  ...\n",
      "  [0.33333334 0.33333334 0.28627452]\n",
      "  [0.34901962 0.34901962 0.3019608 ]\n",
      "  [0.35686275 0.35686275 0.30980393]]\n",
      "\n",
      " ...\n",
      "\n",
      " [[0.33333334 0.32156864 0.29411766]\n",
      "  [0.32156864 0.30980393 0.28235295]\n",
      "  [0.3137255  0.3019608  0.27450982]\n",
      "  ...\n",
      "  [0.36862746 0.35686275 0.29803923]\n",
      "  [0.36078432 0.3372549  0.28235295]\n",
      "  [0.34509805 0.32156864 0.26666668]]\n",
      "\n",
      " [[0.3254902  0.3137255  0.29411766]\n",
      "  [0.31764707 0.30588236 0.28627452]\n",
      "  [0.30980393 0.29803923 0.27058825]\n",
      "  ...\n",
      "  [0.36078432 0.3372549  0.28235295]\n",
      "  [0.34901962 0.3254902  0.27058825]\n",
      "  [0.33333334 0.30980393 0.25490198]]\n",
      "\n",
      " [[0.3137255  0.3019608  0.28235295]\n",
      "  [0.30588236 0.29411766 0.27450982]\n",
      "  [0.30588236 0.29411766 0.26666668]\n",
      "  ...\n",
      "  [0.34509805 0.32156864 0.26666668]\n",
      "  [0.3372549  0.3137255  0.25882354]\n",
      "  [0.32941177 0.30588236 0.2509804 ]]]\n",
      "[[[0.8509804  0.75686276 0.62352943]\n",
      "  [0.8745098  0.78039217 0.64705884]\n",
      "  [0.8901961  0.79607844 0.6627451 ]\n",
      "  ...\n",
      "  [0.83137256 0.7411765  0.6156863 ]\n",
      "  [0.8392157  0.7490196  0.62352943]\n",
      "  [0.8156863  0.7254902  0.6       ]]\n",
      "\n",
      " [[0.88235295 0.7882353  0.654902  ]\n",
      "  [0.8862745  0.7921569  0.65882355]\n",
      "  [0.88235295 0.7882353  0.654902  ]\n",
      "  ...\n",
      "  [0.8627451  0.77254903 0.64705884]\n",
      "  [0.8627451  0.77254903 0.64705884]\n",
      "  [0.8352941  0.74509805 0.61960787]]\n",
      "\n",
      " [[0.88235295 0.7882353  0.654902  ]\n",
      "  [0.8784314  0.78431374 0.6509804 ]\n",
      "  [0.8784314  0.78431374 0.6509804 ]\n",
      "  ...\n",
      "  [0.8666667  0.7764706  0.6509804 ]\n",
      "  [0.85882354 0.76862746 0.6431373 ]\n",
      "  [0.83137256 0.7411765  0.6156863 ]]\n",
      "\n",
      " ...\n",
      "\n",
      " [[0.9098039  0.8862745  0.8       ]\n",
      "  [0.8862745  0.8784314  0.79607844]\n",
      "  [0.7294118  0.73333335 0.67058825]\n",
      "  ...\n",
      "  [0.7882353  0.7137255  0.58431375]\n",
      "  [0.78039217 0.7058824  0.5764706 ]\n",
      "  [0.7647059  0.6901961  0.56078434]]\n",
      "\n",
      " [[0.83137256 0.80784315 0.7137255 ]\n",
      "  [0.80784315 0.8        0.7176471 ]\n",
      "  [0.6862745  0.6901961  0.627451  ]\n",
      "  ...\n",
      "  [0.78039217 0.7058824  0.5764706 ]\n",
      "  [0.77254903 0.70980394 0.5764706 ]\n",
      "  [0.75686276 0.69411767 0.56078434]]\n",
      "\n",
      " [[0.7607843  0.7372549  0.6431373 ]\n",
      "  [0.7254902  0.7176471  0.627451  ]\n",
      "  [0.61960787 0.62352943 0.56078434]\n",
      "  ...\n",
      "  [0.76862746 0.69411767 0.5647059 ]\n",
      "  [0.7647059  0.7019608  0.5686275 ]\n",
      "  [0.7529412  0.6901961  0.5568628 ]]]\n",
      "[[[0.20392157 0.29803923 0.20392157]\n",
      "  [0.1882353  0.28235295 0.1882353 ]\n",
      "  [0.1882353  0.28235295 0.1882353 ]\n",
      "  ...\n",
      "  [0.13333334 0.23921569 0.16470589]\n",
      "  [0.19215687 0.29803923 0.23137255]\n",
      "  [0.23921569 0.34509805 0.2784314 ]]\n",
      "\n",
      " [[0.2        0.29411766 0.2       ]\n",
      "  [0.18431373 0.2784314  0.18431373]\n",
      "  [0.1882353  0.28235295 0.1882353 ]\n",
      "  ...\n",
      "  [0.13725491 0.24313726 0.16862746]\n",
      "  [0.15686275 0.2627451  0.19607843]\n",
      "  [0.1764706  0.28235295 0.21568628]]\n",
      "\n",
      " [[0.20392157 0.29803923 0.20392157]\n",
      "  [0.19607843 0.2901961  0.19607843]\n",
      "  [0.2        0.29411766 0.2       ]\n",
      "  ...\n",
      "  [0.14901961 0.25490198 0.18039216]\n",
      "  [0.12941177 0.23529412 0.16862746]\n",
      "  [0.11764706 0.22352941 0.15686275]]\n",
      "\n",
      " ...\n",
      "\n",
      " [[0.36862746 0.4627451  0.36862746]\n",
      "  [0.2627451  0.35686275 0.2627451 ]\n",
      "  [0.22352941 0.31764707 0.22352941]\n",
      "  ...\n",
      "  [0.24705882 0.33333334 0.2509804 ]\n",
      "  [0.22745098 0.3137255  0.23137255]\n",
      "  [0.2        0.28627452 0.20392157]]\n",
      "\n",
      " [[0.34509805 0.44705883 0.34901962]\n",
      "  [0.23529412 0.3372549  0.23921569]\n",
      "  [0.21568628 0.31764707 0.21960784]\n",
      "  ...\n",
      "  [0.23529412 0.32156864 0.23137255]\n",
      "  [0.21960784 0.30588236 0.21568628]\n",
      "  [0.21176471 0.29803923 0.20784314]]\n",
      "\n",
      " [[0.26666668 0.36862746 0.27058825]\n",
      "  [0.18039216 0.28235295 0.18431373]\n",
      "  [0.2        0.3019608  0.20392157]\n",
      "  ...\n",
      "  [0.20392157 0.2901961  0.2       ]\n",
      "  [0.20392157 0.2901961  0.2       ]\n",
      "  [0.21960784 0.30588236 0.21568628]]]\n",
      "[[[0.7372549  0.7372549  0.63529414]\n",
      "  [0.7607843  0.7607843  0.65882355]\n",
      "  [0.7607843  0.7607843  0.65882355]\n",
      "  ...\n",
      "  [0.39215687 0.3529412  0.30588236]\n",
      "  [0.40392157 0.3647059  0.31764707]\n",
      "  [0.41960785 0.38039216 0.33333334]]\n",
      "\n",
      " [[0.72156864 0.72156864 0.61960787]\n",
      "  [0.7411765  0.7411765  0.6392157 ]\n",
      "  [0.7490196  0.7490196  0.64705884]\n",
      "  ...\n",
      "  [0.39215687 0.3529412  0.30588236]\n",
      "  [0.4        0.36078432 0.3137255 ]\n",
      "  [0.40784314 0.36862746 0.32156864]]\n",
      "\n",
      " [[0.73333335 0.7254902  0.627451  ]\n",
      "  [0.7411765  0.73333335 0.63529414]\n",
      "  [0.7411765  0.73333335 0.63529414]\n",
      "  ...\n",
      "  [0.39607844 0.35686275 0.30980393]\n",
      "  [0.39607844 0.35686275 0.30980393]\n",
      "  [0.39215687 0.3529412  0.30588236]]\n",
      "\n",
      " ...\n",
      "\n",
      " [[0.7254902  0.69803923 0.59607846]\n",
      "  [0.7294118  0.7019608  0.6       ]\n",
      "  [0.7411765  0.7137255  0.6117647 ]\n",
      "  ...\n",
      "  [0.7058824  0.6862745  0.6       ]\n",
      "  [0.7294118  0.7137255  0.6156863 ]\n",
      "  [0.75686276 0.7411765  0.6431373 ]]\n",
      "\n",
      " [[0.7529412  0.7254902  0.62352943]\n",
      "  [0.7490196  0.72156864 0.61960787]\n",
      "  [0.7529412  0.7254902  0.62352943]\n",
      "  ...\n",
      "  [0.7254902  0.7058824  0.61960787]\n",
      "  [0.74509805 0.7294118  0.6313726 ]\n",
      "  [0.7607843  0.74509805 0.64705884]]\n",
      "\n",
      " [[0.78039217 0.7529412  0.6509804 ]\n",
      "  [0.76862746 0.7411765  0.6392157 ]\n",
      "  [0.7647059  0.7372549  0.63529414]\n",
      "  ...\n",
      "  [0.73333335 0.7137255  0.627451  ]\n",
      "  [0.7411765  0.7254902  0.627451  ]\n",
      "  [0.7411765  0.7254902  0.627451  ]]]\n"
     ]
    }
   ],
   "source": [
    "for i in image_ds.take(10):\n",
    "    print(i.numpy())"
   ]
  },
  {
   "cell_type": "code",
   "execution_count": 46,
   "metadata": {},
   "outputs": [],
   "source": [
    "image_label_ds = tf.data.Dataset.zip((image_ds,label_ds))"
   ]
  },
  {
   "cell_type": "code",
   "execution_count": 47,
   "metadata": {},
   "outputs": [
    {
     "data": {
      "text/plain": [
       "<ZipDataset shapes: ((256, 256, 3), ()), types: (tf.float32, tf.int64)>"
      ]
     },
     "execution_count": 47,
     "metadata": {},
     "output_type": "execute_result"
    }
   ],
   "source": [
    "image_label_ds"
   ]
  },
  {
   "cell_type": "code",
   "execution_count": 48,
   "metadata": {},
   "outputs": [],
   "source": [
    "test_count = int(image_count*0.2)"
   ]
  },
  {
   "cell_type": "code",
   "execution_count": 49,
   "metadata": {},
   "outputs": [],
   "source": [
    "train_count = image_count - test_count"
   ]
  },
  {
   "cell_type": "code",
   "execution_count": 50,
   "metadata": {},
   "outputs": [
    {
     "data": {
      "text/plain": [
       "(280, 1120)"
      ]
     },
     "execution_count": 50,
     "metadata": {},
     "output_type": "execute_result"
    }
   ],
   "source": [
    "test_count,train_count"
   ]
  },
  {
   "cell_type": "code",
   "execution_count": 51,
   "metadata": {},
   "outputs": [],
   "source": [
    "train_data = image_label_ds.skip(test_count)"
   ]
  },
  {
   "cell_type": "code",
   "execution_count": 52,
   "metadata": {},
   "outputs": [],
   "source": [
    "test_data = image_label_ds.take(test_count)"
   ]
  },
  {
   "cell_type": "code",
   "execution_count": 53,
   "metadata": {},
   "outputs": [],
   "source": [
    "BATCH_SIZE = 32"
   ]
  },
  {
   "cell_type": "code",
   "execution_count": 54,
   "metadata": {},
   "outputs": [],
   "source": [
    "train_data = train_data.shuffle(buffer_size=train_count).batch(BATCH_SIZE)\n",
    "# train_data = train_data.apply(\n",
    "#   tf.data.experimental.shuffle_and_repeat(buffer_size=train_count))\n",
    "# train_data = train_data.batch(BATCH_SIZE)\n",
    "# train_data = train_data.prefetch(buffer_size=AUTOTUNE)\n",
    "# train_data"
   ]
  },
  {
   "cell_type": "code",
   "execution_count": 55,
   "metadata": {},
   "outputs": [],
   "source": [
    "test_data = test_data.batch(BATCH_SIZE)"
   ]
  },
  {
   "cell_type": "code",
   "execution_count": 58,
   "metadata": {},
   "outputs": [
    {
     "ename": "SyntaxError",
     "evalue": "keyword can't be an expression (<ipython-input-58-98d7e1d15cbf>, line 4)",
     "output_type": "error",
     "traceback": [
      "\u001b[1;36m  File \u001b[1;32m\"<ipython-input-58-98d7e1d15cbf>\"\u001b[1;36m, line \u001b[1;32m4\u001b[0m\n\u001b[1;33m    model.add(tf.keras.layers.Activation='relu')\u001b[0m\n\u001b[1;37m             ^\u001b[0m\n\u001b[1;31mSyntaxError\u001b[0m\u001b[1;31m:\u001b[0m keyword can't be an expression\n"
     ]
    }
   ],
   "source": [
    "model = tf.keras.Sequential()\n",
    "model.add(tf.keras.layers.Conv2D(64,(3,3),input_shape = (256,256,3)))\n",
    "model.add(tf.keras.layers.BatchNormalization())\n",
    "model.add(tf.keras.layers.Activation='relu')\n",
    "\n",
    "model.add(tf.keras.layers.Conv2D(64,(3,3)))\n",
    "model.add(tf.keras.layers.BatchNormalization())\n",
    "model.add(tf.keras.layers.Activation='relu')\n",
    "\n",
    "model.add(tf.keras.layers.MaxPool2D())\n",
    "model.add(tf.keras.layers.Conv2D(128,(3,3)))\n",
    "model.add(tf.keras.layers.BatchNormalization())\n",
    "model.add(tf.keras.layers.Activation='relu')\n",
    "model.add(tf.keras.layers.Conv2D(128,(3,3)))\n",
    "model.add(tf.keras.layers.BatchNormalization())\n",
    "model.add(tf.keras.layers.Activation='relu')\n",
    "\n",
    "model.add(tf.keras.layers.MaxPool2D())\n",
    "model.add(tf.keras.layers.Conv2D(256,(3,3)))\n",
    "model.add(tf.keras.layers.BatchNormalization())\n",
    "model.add(tf.keras.layers.Activation='relu')\n",
    "model.add(tf.keras.layers.Conv2D(256,(3,3)))\n",
    "model.add(tf.keras.layers.BatchNormalization())\n",
    "model.add(tf.keras.layers.Activation='relu')\n",
    "model.add(tf.keras.layers.MaxPool2D())\n",
    "model.add(tf.keras.layers.Conv2D(512,(3,3)))\n",
    "model.add(tf.keras.layers.BatchNormalization())\n",
    "model.add(tf.keras.layers.Activation='relu')\n",
    "model.add(tf.keras.layers.MaxPool2D())\n",
    "model.add(tf.keras.layers.Conv2D(512,(3,3)))\n",
    "model.add(tf.keras.layers.BatchNormalization())\n",
    "model.add(tf.keras.layers.Activation='relu')\n",
    "model.add(tf.keras.layers.MaxPool2D())\n",
    "model.add(tf.keras.layers.Conv2D(1024,(3,3)))\n",
    "model.add(tf.keras.layers.BatchNormalization())\n",
    "model.add(tf.keras.layers.Activation='relu')\n",
    "model.add(tf.keras.layers.GlobalAveragePooling2D())\n",
    "\n",
    "model.add(tf.keras.layers.Dense(1024))\n",
    "model.add(tf.keras.layers.BatchNormalization())\n",
    "model.add(tf.keras.layers.Activation='relu')\n",
    "\n",
    "model.add(tf.keras.layers.Dense(256))\n",
    "model.add(tf.keras.layers.BatchNormalization())\n",
    "model.add(tf.keras.layers.Activation='relu')\n",
    "\n",
    "model.add(tf.keras.layers.Dense(1,activation='sigmoid'))"
   ]
  },
  {
   "cell_type": "code",
   "execution_count": 57,
   "metadata": {},
   "outputs": [
    {
     "ename": "NameError",
     "evalue": "name 'model' is not defined",
     "output_type": "error",
     "traceback": [
      "\u001b[1;31m---------------------------------------------------------------------------\u001b[0m",
      "\u001b[1;31mNameError\u001b[0m                                 Traceback (most recent call last)",
      "\u001b[1;32m<ipython-input-57-5f15418b3570>\u001b[0m in \u001b[0;36m<module>\u001b[1;34m\u001b[0m\n\u001b[1;32m----> 1\u001b[1;33m \u001b[0mmodel\u001b[0m\u001b[1;33m.\u001b[0m\u001b[0msummary\u001b[0m\u001b[1;33m(\u001b[0m\u001b[1;33m)\u001b[0m\u001b[1;33m\u001b[0m\u001b[1;33m\u001b[0m\u001b[0m\n\u001b[0m",
      "\u001b[1;31mNameError\u001b[0m: name 'model' is not defined"
     ]
    }
   ],
   "source": [
    "model.summary()"
   ]
  },
  {
   "cell_type": "code",
   "execution_count": 261,
   "metadata": {},
   "outputs": [],
   "source": [
    "model.compile(optimizer='adam',\n",
    "#              loss='sparse_categorical_crossentropy',\n",
    "              loss='binary_crossentropy',\n",
    "             metrics=['acc'])"
   ]
  },
  {
   "cell_type": "code",
   "execution_count": 262,
   "metadata": {},
   "outputs": [],
   "source": [
    "steps_per_epoch = train_count//BATCH_SIZE\n",
    "validation_steps = test_count//BATCH_SIZE"
   ]
  },
  {
   "cell_type": "code",
   "execution_count": 263,
   "metadata": {},
   "outputs": [
    {
     "data": {
      "text/plain": [
       "(35, 8)"
      ]
     },
     "execution_count": 263,
     "metadata": {},
     "output_type": "execute_result"
    }
   ],
   "source": [
    "steps_per_epoch,validation_steps"
   ]
  },
  {
   "cell_type": "code",
   "execution_count": 265,
   "metadata": {},
   "outputs": [
    {
     "name": "stdout",
     "output_type": "stream",
     "text": [
      "Train for 35 steps, validate for 8 steps\n",
      "Epoch 1/30\n",
      "\r",
      " 1/35 [..............................] - ETA: 0s"
     ]
    },
    {
     "ename": "TypeError",
     "evalue": "An op outside of the function building code is being passed\na \"Graph\" tensor. It is possible to have Graph tensors\nleak out of the function building context by including a\ntf.init_scope in your function building code.\nFor example, the following function will fail:\n  @tf.function\n  def has_init_scope():\n    my_constant = tf.constant(1.)\n    with tf.init_scope():\n      added = my_constant * 2\nThe graph tensor has name: \u0002:0",
     "output_type": "error",
     "traceback": [
      "\u001b[1;31m---------------------------------------------------------------------------\u001b[0m",
      "\u001b[1;31mTypeError\u001b[0m                                 Traceback (most recent call last)",
      "\u001b[1;32m<ipython-input-265-4b286a3086ba>\u001b[0m in \u001b[0;36m<module>\u001b[1;34m\u001b[0m\n\u001b[0;32m      3\u001b[0m                     \u001b[0msteps_per_epoch\u001b[0m\u001b[1;33m=\u001b[0m\u001b[0msteps_per_epoch\u001b[0m\u001b[1;33m,\u001b[0m\u001b[1;33m\u001b[0m\u001b[1;33m\u001b[0m\u001b[0m\n\u001b[0;32m      4\u001b[0m                     \u001b[0mvalidation_data\u001b[0m\u001b[1;33m=\u001b[0m\u001b[0mtest_data\u001b[0m\u001b[1;33m,\u001b[0m\u001b[1;33m\u001b[0m\u001b[1;33m\u001b[0m\u001b[0m\n\u001b[1;32m----> 5\u001b[1;33m                    validation_steps=validation_steps)\n\u001b[0m",
      "\u001b[1;32md:\\develop\\python\\lib\\site-packages\\tensorflow_core\\python\\keras\\engine\\training.py\u001b[0m in \u001b[0;36mfit\u001b[1;34m(self, x, y, batch_size, epochs, verbose, callbacks, validation_split, validation_data, shuffle, class_weight, sample_weight, initial_epoch, steps_per_epoch, validation_steps, validation_freq, max_queue_size, workers, use_multiprocessing, **kwargs)\u001b[0m\n\u001b[0;32m    732\u001b[0m         \u001b[0mmax_queue_size\u001b[0m\u001b[1;33m=\u001b[0m\u001b[0mmax_queue_size\u001b[0m\u001b[1;33m,\u001b[0m\u001b[1;33m\u001b[0m\u001b[1;33m\u001b[0m\u001b[0m\n\u001b[0;32m    733\u001b[0m         \u001b[0mworkers\u001b[0m\u001b[1;33m=\u001b[0m\u001b[0mworkers\u001b[0m\u001b[1;33m,\u001b[0m\u001b[1;33m\u001b[0m\u001b[1;33m\u001b[0m\u001b[0m\n\u001b[1;32m--> 734\u001b[1;33m         use_multiprocessing=use_multiprocessing)\n\u001b[0m\u001b[0;32m    735\u001b[0m \u001b[1;33m\u001b[0m\u001b[0m\n\u001b[0;32m    736\u001b[0m   def evaluate(self,\n",
      "\u001b[1;32md:\\develop\\python\\lib\\site-packages\\tensorflow_core\\python\\keras\\engine\\training_v2.py\u001b[0m in \u001b[0;36mfit\u001b[1;34m(self, model, x, y, batch_size, epochs, verbose, callbacks, validation_split, validation_data, shuffle, class_weight, sample_weight, initial_epoch, steps_per_epoch, validation_steps, validation_freq, **kwargs)\u001b[0m\n\u001b[0;32m    322\u001b[0m                 \u001b[0mmode\u001b[0m\u001b[1;33m=\u001b[0m\u001b[0mModeKeys\u001b[0m\u001b[1;33m.\u001b[0m\u001b[0mTRAIN\u001b[0m\u001b[1;33m,\u001b[0m\u001b[1;33m\u001b[0m\u001b[1;33m\u001b[0m\u001b[0m\n\u001b[0;32m    323\u001b[0m                 \u001b[0mtraining_context\u001b[0m\u001b[1;33m=\u001b[0m\u001b[0mtraining_context\u001b[0m\u001b[1;33m,\u001b[0m\u001b[1;33m\u001b[0m\u001b[1;33m\u001b[0m\u001b[0m\n\u001b[1;32m--> 324\u001b[1;33m                 total_epochs=epochs)\n\u001b[0m\u001b[0;32m    325\u001b[0m             \u001b[0mcbks\u001b[0m\u001b[1;33m.\u001b[0m\u001b[0mmake_logs\u001b[0m\u001b[1;33m(\u001b[0m\u001b[0mmodel\u001b[0m\u001b[1;33m,\u001b[0m \u001b[0mepoch_logs\u001b[0m\u001b[1;33m,\u001b[0m \u001b[0mtraining_result\u001b[0m\u001b[1;33m,\u001b[0m \u001b[0mModeKeys\u001b[0m\u001b[1;33m.\u001b[0m\u001b[0mTRAIN\u001b[0m\u001b[1;33m)\u001b[0m\u001b[1;33m\u001b[0m\u001b[1;33m\u001b[0m\u001b[0m\n\u001b[0;32m    326\u001b[0m \u001b[1;33m\u001b[0m\u001b[0m\n",
      "\u001b[1;32md:\\develop\\python\\lib\\site-packages\\tensorflow_core\\python\\keras\\engine\\training_v2.py\u001b[0m in \u001b[0;36mrun_one_epoch\u001b[1;34m(model, iterator, execution_function, dataset_size, batch_size, strategy, steps_per_epoch, num_samples, mode, training_context, total_epochs)\u001b[0m\n\u001b[0;32m    121\u001b[0m         step=step, mode=mode, size=current_batch_size) as batch_logs:\n\u001b[0;32m    122\u001b[0m       \u001b[1;32mtry\u001b[0m\u001b[1;33m:\u001b[0m\u001b[1;33m\u001b[0m\u001b[1;33m\u001b[0m\u001b[0m\n\u001b[1;32m--> 123\u001b[1;33m         \u001b[0mbatch_outs\u001b[0m \u001b[1;33m=\u001b[0m \u001b[0mexecution_function\u001b[0m\u001b[1;33m(\u001b[0m\u001b[0miterator\u001b[0m\u001b[1;33m)\u001b[0m\u001b[1;33m\u001b[0m\u001b[1;33m\u001b[0m\u001b[0m\n\u001b[0m\u001b[0;32m    124\u001b[0m       \u001b[1;32mexcept\u001b[0m \u001b[1;33m(\u001b[0m\u001b[0mStopIteration\u001b[0m\u001b[1;33m,\u001b[0m \u001b[0merrors\u001b[0m\u001b[1;33m.\u001b[0m\u001b[0mOutOfRangeError\u001b[0m\u001b[1;33m)\u001b[0m\u001b[1;33m:\u001b[0m\u001b[1;33m\u001b[0m\u001b[1;33m\u001b[0m\u001b[0m\n\u001b[0;32m    125\u001b[0m         \u001b[1;31m# TODO(kaftan): File bug about tf function and errors.OutOfRangeError?\u001b[0m\u001b[1;33m\u001b[0m\u001b[1;33m\u001b[0m\u001b[1;33m\u001b[0m\u001b[0m\n",
      "\u001b[1;32md:\\develop\\python\\lib\\site-packages\\tensorflow_core\\python\\keras\\engine\\training_v2_utils.py\u001b[0m in \u001b[0;36mexecution_function\u001b[1;34m(input_fn)\u001b[0m\n\u001b[0;32m     84\u001b[0m     \u001b[1;31m# `numpy` translates Tensors to values in Eager mode.\u001b[0m\u001b[1;33m\u001b[0m\u001b[1;33m\u001b[0m\u001b[1;33m\u001b[0m\u001b[0m\n\u001b[0;32m     85\u001b[0m     return nest.map_structure(_non_none_constant_value,\n\u001b[1;32m---> 86\u001b[1;33m                               distributed_function(input_fn))\n\u001b[0m\u001b[0;32m     87\u001b[0m \u001b[1;33m\u001b[0m\u001b[0m\n\u001b[0;32m     88\u001b[0m   \u001b[1;32mreturn\u001b[0m \u001b[0mexecution_function\u001b[0m\u001b[1;33m\u001b[0m\u001b[1;33m\u001b[0m\u001b[0m\n",
      "\u001b[1;32md:\\develop\\python\\lib\\site-packages\\tensorflow_core\\python\\eager\\def_function.py\u001b[0m in \u001b[0;36m__call__\u001b[1;34m(self, *args, **kwds)\u001b[0m\n\u001b[0;32m    413\u001b[0m       \u001b[1;31m# In this case we have created variables on the first call, so we run the\u001b[0m\u001b[1;33m\u001b[0m\u001b[1;33m\u001b[0m\u001b[1;33m\u001b[0m\u001b[0m\n\u001b[0;32m    414\u001b[0m       \u001b[1;31m# defunned version which is guaranteed to never create variables.\u001b[0m\u001b[1;33m\u001b[0m\u001b[1;33m\u001b[0m\u001b[1;33m\u001b[0m\u001b[0m\n\u001b[1;32m--> 415\u001b[1;33m       \u001b[1;32mreturn\u001b[0m \u001b[0mself\u001b[0m\u001b[1;33m.\u001b[0m\u001b[0m_stateless_fn\u001b[0m\u001b[1;33m(\u001b[0m\u001b[1;33m*\u001b[0m\u001b[0margs\u001b[0m\u001b[1;33m,\u001b[0m \u001b[1;33m**\u001b[0m\u001b[0mkwds\u001b[0m\u001b[1;33m)\u001b[0m  \u001b[1;31m# pylint: disable=not-callable\u001b[0m\u001b[1;33m\u001b[0m\u001b[1;33m\u001b[0m\u001b[0m\n\u001b[0m\u001b[0;32m    416\u001b[0m     \u001b[1;32melif\u001b[0m \u001b[0mself\u001b[0m\u001b[1;33m.\u001b[0m\u001b[0m_stateful_fn\u001b[0m \u001b[1;32mis\u001b[0m \u001b[1;32mnot\u001b[0m \u001b[1;32mNone\u001b[0m\u001b[1;33m:\u001b[0m\u001b[1;33m\u001b[0m\u001b[1;33m\u001b[0m\u001b[0m\n\u001b[0;32m    417\u001b[0m       \u001b[1;31m# In this case we have not created variables on the first call. So we can\u001b[0m\u001b[1;33m\u001b[0m\u001b[1;33m\u001b[0m\u001b[1;33m\u001b[0m\u001b[0m\n",
      "\u001b[1;32md:\\develop\\python\\lib\\site-packages\\tensorflow_core\\python\\eager\\function.py\u001b[0m in \u001b[0;36m__call__\u001b[1;34m(self, *args, **kwargs)\u001b[0m\n\u001b[0;32m   1820\u001b[0m     \u001b[1;34m\"\"\"Calls a graph function specialized to the inputs.\"\"\"\u001b[0m\u001b[1;33m\u001b[0m\u001b[1;33m\u001b[0m\u001b[0m\n\u001b[0;32m   1821\u001b[0m     \u001b[0mgraph_function\u001b[0m\u001b[1;33m,\u001b[0m \u001b[0margs\u001b[0m\u001b[1;33m,\u001b[0m \u001b[0mkwargs\u001b[0m \u001b[1;33m=\u001b[0m \u001b[0mself\u001b[0m\u001b[1;33m.\u001b[0m\u001b[0m_maybe_define_function\u001b[0m\u001b[1;33m(\u001b[0m\u001b[0margs\u001b[0m\u001b[1;33m,\u001b[0m \u001b[0mkwargs\u001b[0m\u001b[1;33m)\u001b[0m\u001b[1;33m\u001b[0m\u001b[1;33m\u001b[0m\u001b[0m\n\u001b[1;32m-> 1822\u001b[1;33m     \u001b[1;32mreturn\u001b[0m \u001b[0mgraph_function\u001b[0m\u001b[1;33m.\u001b[0m\u001b[0m_filtered_call\u001b[0m\u001b[1;33m(\u001b[0m\u001b[0margs\u001b[0m\u001b[1;33m,\u001b[0m \u001b[0mkwargs\u001b[0m\u001b[1;33m)\u001b[0m  \u001b[1;31m# pylint: disable=protected-access\u001b[0m\u001b[1;33m\u001b[0m\u001b[1;33m\u001b[0m\u001b[0m\n\u001b[0m\u001b[0;32m   1823\u001b[0m \u001b[1;33m\u001b[0m\u001b[0m\n\u001b[0;32m   1824\u001b[0m   \u001b[1;33m@\u001b[0m\u001b[0mproperty\u001b[0m\u001b[1;33m\u001b[0m\u001b[1;33m\u001b[0m\u001b[0m\n",
      "\u001b[1;32md:\\develop\\python\\lib\\site-packages\\tensorflow_core\\python\\eager\\function.py\u001b[0m in \u001b[0;36m_filtered_call\u001b[1;34m(self, args, kwargs)\u001b[0m\n\u001b[0;32m   1139\u001b[0m          if isinstance(t, (ops.Tensor,\n\u001b[0;32m   1140\u001b[0m                            resource_variable_ops.BaseResourceVariable))),\n\u001b[1;32m-> 1141\u001b[1;33m         self.captured_inputs)\n\u001b[0m\u001b[0;32m   1142\u001b[0m \u001b[1;33m\u001b[0m\u001b[0m\n\u001b[0;32m   1143\u001b[0m   \u001b[1;32mdef\u001b[0m \u001b[0m_call_flat\u001b[0m\u001b[1;33m(\u001b[0m\u001b[0mself\u001b[0m\u001b[1;33m,\u001b[0m \u001b[0margs\u001b[0m\u001b[1;33m,\u001b[0m \u001b[0mcaptured_inputs\u001b[0m\u001b[1;33m,\u001b[0m \u001b[0mcancellation_manager\u001b[0m\u001b[1;33m=\u001b[0m\u001b[1;32mNone\u001b[0m\u001b[1;33m)\u001b[0m\u001b[1;33m:\u001b[0m\u001b[1;33m\u001b[0m\u001b[1;33m\u001b[0m\u001b[0m\n",
      "\u001b[1;32md:\\develop\\python\\lib\\site-packages\\tensorflow_core\\python\\eager\\function.py\u001b[0m in \u001b[0;36m_call_flat\u001b[1;34m(self, args, captured_inputs, cancellation_manager)\u001b[0m\n\u001b[0;32m   1222\u001b[0m     \u001b[1;32mif\u001b[0m \u001b[0mexecuting_eagerly\u001b[0m\u001b[1;33m:\u001b[0m\u001b[1;33m\u001b[0m\u001b[1;33m\u001b[0m\u001b[0m\n\u001b[0;32m   1223\u001b[0m       flat_outputs = forward_function.call(\n\u001b[1;32m-> 1224\u001b[1;33m           ctx, args, cancellation_manager=cancellation_manager)\n\u001b[0m\u001b[0;32m   1225\u001b[0m     \u001b[1;32melse\u001b[0m\u001b[1;33m:\u001b[0m\u001b[1;33m\u001b[0m\u001b[1;33m\u001b[0m\u001b[0m\n\u001b[0;32m   1226\u001b[0m       \u001b[0mgradient_name\u001b[0m \u001b[1;33m=\u001b[0m \u001b[0mself\u001b[0m\u001b[1;33m.\u001b[0m\u001b[0m_delayed_rewrite_functions\u001b[0m\u001b[1;33m.\u001b[0m\u001b[0mregister\u001b[0m\u001b[1;33m(\u001b[0m\u001b[1;33m)\u001b[0m\u001b[1;33m\u001b[0m\u001b[1;33m\u001b[0m\u001b[0m\n",
      "\u001b[1;32md:\\develop\\python\\lib\\site-packages\\tensorflow_core\\python\\eager\\function.py\u001b[0m in \u001b[0;36mcall\u001b[1;34m(self, ctx, args, cancellation_manager)\u001b[0m\n\u001b[0;32m    509\u001b[0m               \u001b[0minputs\u001b[0m\u001b[1;33m=\u001b[0m\u001b[0margs\u001b[0m\u001b[1;33m,\u001b[0m\u001b[1;33m\u001b[0m\u001b[1;33m\u001b[0m\u001b[0m\n\u001b[0;32m    510\u001b[0m               \u001b[0mattrs\u001b[0m\u001b[1;33m=\u001b[0m\u001b[1;33m(\u001b[0m\u001b[1;34m\"executor_type\"\u001b[0m\u001b[1;33m,\u001b[0m \u001b[0mexecutor_type\u001b[0m\u001b[1;33m,\u001b[0m \u001b[1;34m\"config_proto\"\u001b[0m\u001b[1;33m,\u001b[0m \u001b[0mconfig\u001b[0m\u001b[1;33m)\u001b[0m\u001b[1;33m,\u001b[0m\u001b[1;33m\u001b[0m\u001b[1;33m\u001b[0m\u001b[0m\n\u001b[1;32m--> 511\u001b[1;33m               ctx=ctx)\n\u001b[0m\u001b[0;32m    512\u001b[0m         \u001b[1;32melse\u001b[0m\u001b[1;33m:\u001b[0m\u001b[1;33m\u001b[0m\u001b[1;33m\u001b[0m\u001b[0m\n\u001b[0;32m    513\u001b[0m           outputs = execute.execute_with_cancellation(\n",
      "\u001b[1;32md:\\develop\\python\\lib\\site-packages\\tensorflow_core\\python\\eager\\execute.py\u001b[0m in \u001b[0;36mquick_execute\u001b[1;34m(op_name, num_outputs, inputs, attrs, ctx, name)\u001b[0m\n\u001b[0;32m     74\u001b[0m           \u001b[1;34m\"Inputs to eager execution function cannot be Keras symbolic \"\u001b[0m\u001b[1;33m\u001b[0m\u001b[1;33m\u001b[0m\u001b[0m\n\u001b[0;32m     75\u001b[0m           \"tensors, but found {}\".format(keras_symbolic_tensors))\n\u001b[1;32m---> 76\u001b[1;33m     \u001b[1;32mraise\u001b[0m \u001b[0me\u001b[0m\u001b[1;33m\u001b[0m\u001b[1;33m\u001b[0m\u001b[0m\n\u001b[0m\u001b[0;32m     77\u001b[0m   \u001b[1;31m# pylint: enable=protected-access\u001b[0m\u001b[1;33m\u001b[0m\u001b[1;33m\u001b[0m\u001b[1;33m\u001b[0m\u001b[0m\n\u001b[0;32m     78\u001b[0m   \u001b[1;32mreturn\u001b[0m \u001b[0mtensors\u001b[0m\u001b[1;33m\u001b[0m\u001b[1;33m\u001b[0m\u001b[0m\n",
      "\u001b[1;32md:\\develop\\python\\lib\\site-packages\\tensorflow_core\\python\\eager\\execute.py\u001b[0m in \u001b[0;36mquick_execute\u001b[1;34m(op_name, num_outputs, inputs, attrs, ctx, name)\u001b[0m\n\u001b[0;32m     59\u001b[0m     tensors = pywrap_tensorflow.TFE_Py_Execute(ctx._handle, device_name,\n\u001b[0;32m     60\u001b[0m                                                \u001b[0mop_name\u001b[0m\u001b[1;33m,\u001b[0m \u001b[0minputs\u001b[0m\u001b[1;33m,\u001b[0m \u001b[0mattrs\u001b[0m\u001b[1;33m,\u001b[0m\u001b[1;33m\u001b[0m\u001b[1;33m\u001b[0m\u001b[0m\n\u001b[1;32m---> 61\u001b[1;33m                                                num_outputs)\n\u001b[0m\u001b[0;32m     62\u001b[0m   \u001b[1;32mexcept\u001b[0m \u001b[0mcore\u001b[0m\u001b[1;33m.\u001b[0m\u001b[0m_NotOkStatusException\u001b[0m \u001b[1;32mas\u001b[0m \u001b[0me\u001b[0m\u001b[1;33m:\u001b[0m\u001b[1;33m\u001b[0m\u001b[1;33m\u001b[0m\u001b[0m\n\u001b[0;32m     63\u001b[0m     \u001b[1;32mif\u001b[0m \u001b[0mname\u001b[0m \u001b[1;32mis\u001b[0m \u001b[1;32mnot\u001b[0m \u001b[1;32mNone\u001b[0m\u001b[1;33m:\u001b[0m\u001b[1;33m\u001b[0m\u001b[1;33m\u001b[0m\u001b[0m\n",
      "\u001b[1;31mTypeError\u001b[0m: An op outside of the function building code is being passed\na \"Graph\" tensor. It is possible to have Graph tensors\nleak out of the function building context by including a\ntf.init_scope in your function building code.\nFor example, the following function will fail:\n  @tf.function\n  def has_init_scope():\n    my_constant = tf.constant(1.)\n    with tf.init_scope():\n      added = my_constant * 2\nThe graph tensor has name: \u0002:0"
     ]
    }
   ],
   "source": [
    "history = model.fit(train_data,\n",
    "                    epochs=30,\n",
    "                    steps_per_epoch=steps_per_epoch,\n",
    "                    validation_data=test_data,\n",
    "                   validation_steps=validation_steps)"
   ]
  },
  {
   "cell_type": "code",
   "execution_count": null,
   "metadata": {},
   "outputs": [],
   "source": [
    "history.history.keys()"
   ]
  },
  {
   "cell_type": "code",
   "execution_count": null,
   "metadata": {},
   "outputs": [],
   "source": [
    "plt.plot(history.epoch, history.history.get('acc'), label='acc')\n",
    "plt.plot(history.epoch, history.history.get('val_acc'), label='val_acc')\n",
    "plt.legend()"
   ]
  },
  {
   "cell_type": "code",
   "execution_count": null,
   "metadata": {},
   "outputs": [],
   "source": [
    "plt.plot(history.epoch, history.history.get('loss'),label='loss')\n",
    "plt.plot(history.epoch,history.history.history('val_loss'),label='val_loss')\n",
    "plt.legend()"
   ]
  },
  {
   "cell_type": "code",
   "execution_count": null,
   "metadata": {},
   "outputs": [],
   "source": []
  },
  {
   "cell_type": "code",
   "execution_count": null,
   "metadata": {},
   "outputs": [],
   "source": []
  },
  {
   "cell_type": "code",
   "execution_count": null,
   "metadata": {},
   "outputs": [],
   "source": []
  },
  {
   "cell_type": "code",
   "execution_count": null,
   "metadata": {},
   "outputs": [],
   "source": []
  },
  {
   "cell_type": "code",
   "execution_count": null,
   "metadata": {},
   "outputs": [],
   "source": []
  },
  {
   "cell_type": "code",
   "execution_count": null,
   "metadata": {},
   "outputs": [],
   "source": []
  }
 ],
 "metadata": {
  "kernelspec": {
   "display_name": "Python 3",
   "language": "python",
   "name": "python3"
  },
  "language_info": {
   "codemirror_mode": {
    "name": "ipython",
    "version": 3
   },
   "file_extension": ".py",
   "mimetype": "text/x-python",
   "name": "python",
   "nbconvert_exporter": "python",
   "pygments_lexer": "ipython3",
   "version": "3.7.4"
  }
 },
 "nbformat": 4,
 "nbformat_minor": 2
}
