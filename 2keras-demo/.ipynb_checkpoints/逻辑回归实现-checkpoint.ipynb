{
 "cells": [
  {
   "cell_type": "code",
   "execution_count": 1,
   "metadata": {
    "scrolled": true
   },
   "outputs": [
    {
     "name": "stderr",
     "output_type": "stream",
     "text": [
      "d:\\develop\\python\\lib\\site-packages\\tensorflow\\python\\framework\\dtypes.py:523: FutureWarning: Passing (type, 1) or '1type' as a synonym of type is deprecated; in a future version of numpy, it will be understood as (type, (1,)) / '(1,)type'.\n",
      "  _np_qint8 = np.dtype([(\"qint8\", np.int8, 1)])\n",
      "d:\\develop\\python\\lib\\site-packages\\tensorflow\\python\\framework\\dtypes.py:524: FutureWarning: Passing (type, 1) or '1type' as a synonym of type is deprecated; in a future version of numpy, it will be understood as (type, (1,)) / '(1,)type'.\n",
      "  _np_quint8 = np.dtype([(\"quint8\", np.uint8, 1)])\n",
      "d:\\develop\\python\\lib\\site-packages\\tensorflow\\python\\framework\\dtypes.py:525: FutureWarning: Passing (type, 1) or '1type' as a synonym of type is deprecated; in a future version of numpy, it will be understood as (type, (1,)) / '(1,)type'.\n",
      "  _np_qint16 = np.dtype([(\"qint16\", np.int16, 1)])\n",
      "d:\\develop\\python\\lib\\site-packages\\tensorflow\\python\\framework\\dtypes.py:526: FutureWarning: Passing (type, 1) or '1type' as a synonym of type is deprecated; in a future version of numpy, it will be understood as (type, (1,)) / '(1,)type'.\n",
      "  _np_quint16 = np.dtype([(\"quint16\", np.uint16, 1)])\n",
      "d:\\develop\\python\\lib\\site-packages\\tensorflow\\python\\framework\\dtypes.py:527: FutureWarning: Passing (type, 1) or '1type' as a synonym of type is deprecated; in a future version of numpy, it will be understood as (type, (1,)) / '(1,)type'.\n",
      "  _np_qint32 = np.dtype([(\"qint32\", np.int32, 1)])\n",
      "d:\\develop\\python\\lib\\site-packages\\tensorflow\\python\\framework\\dtypes.py:532: FutureWarning: Passing (type, 1) or '1type' as a synonym of type is deprecated; in a future version of numpy, it will be understood as (type, (1,)) / '(1,)type'.\n",
      "  np_resource = np.dtype([(\"resource\", np.ubyte, 1)])\n",
      "d:\\develop\\python\\lib\\site-packages\\tensorboard\\compat\\tensorflow_stub\\dtypes.py:541: FutureWarning: Passing (type, 1) or '1type' as a synonym of type is deprecated; in a future version of numpy, it will be understood as (type, (1,)) / '(1,)type'.\n",
      "  _np_qint8 = np.dtype([(\"qint8\", np.int8, 1)])\n",
      "d:\\develop\\python\\lib\\site-packages\\tensorboard\\compat\\tensorflow_stub\\dtypes.py:542: FutureWarning: Passing (type, 1) or '1type' as a synonym of type is deprecated; in a future version of numpy, it will be understood as (type, (1,)) / '(1,)type'.\n",
      "  _np_quint8 = np.dtype([(\"quint8\", np.uint8, 1)])\n",
      "d:\\develop\\python\\lib\\site-packages\\tensorboard\\compat\\tensorflow_stub\\dtypes.py:543: FutureWarning: Passing (type, 1) or '1type' as a synonym of type is deprecated; in a future version of numpy, it will be understood as (type, (1,)) / '(1,)type'.\n",
      "  _np_qint16 = np.dtype([(\"qint16\", np.int16, 1)])\n",
      "d:\\develop\\python\\lib\\site-packages\\tensorboard\\compat\\tensorflow_stub\\dtypes.py:544: FutureWarning: Passing (type, 1) or '1type' as a synonym of type is deprecated; in a future version of numpy, it will be understood as (type, (1,)) / '(1,)type'.\n",
      "  _np_quint16 = np.dtype([(\"quint16\", np.uint16, 1)])\n",
      "d:\\develop\\python\\lib\\site-packages\\tensorboard\\compat\\tensorflow_stub\\dtypes.py:545: FutureWarning: Passing (type, 1) or '1type' as a synonym of type is deprecated; in a future version of numpy, it will be understood as (type, (1,)) / '(1,)type'.\n",
      "  _np_qint32 = np.dtype([(\"qint32\", np.int32, 1)])\n",
      "d:\\develop\\python\\lib\\site-packages\\tensorboard\\compat\\tensorflow_stub\\dtypes.py:550: FutureWarning: Passing (type, 1) or '1type' as a synonym of type is deprecated; in a future version of numpy, it will be understood as (type, (1,)) / '(1,)type'.\n",
      "  np_resource = np.dtype([(\"resource\", np.ubyte, 1)])\n"
     ]
    }
   ],
   "source": [
    "import tensorflow as tf\n",
    "import pandas as pd\n",
    "import numpy as np\n",
    "import matplotlib.pyplot as plt\n",
    "%matplotlib inline"
   ]
  },
  {
   "cell_type": "code",
   "execution_count": 6,
   "metadata": {},
   "outputs": [],
   "source": [
    "data = pd.read_csv('E:\\\\study\\\\tensorflow\\\\data\\\\credit-a.csv',header=None)"
   ]
  },
  {
   "cell_type": "code",
   "execution_count": 7,
   "metadata": {},
   "outputs": [
    {
     "data": {
      "text/html": [
       "<div>\n",
       "<style scoped>\n",
       "    .dataframe tbody tr th:only-of-type {\n",
       "        vertical-align: middle;\n",
       "    }\n",
       "\n",
       "    .dataframe tbody tr th {\n",
       "        vertical-align: top;\n",
       "    }\n",
       "\n",
       "    .dataframe thead th {\n",
       "        text-align: right;\n",
       "    }\n",
       "</style>\n",
       "<table border=\"1\" class=\"dataframe\">\n",
       "  <thead>\n",
       "    <tr style=\"text-align: right;\">\n",
       "      <th></th>\n",
       "      <th>0</th>\n",
       "      <th>1</th>\n",
       "      <th>2</th>\n",
       "      <th>3</th>\n",
       "      <th>4</th>\n",
       "      <th>5</th>\n",
       "      <th>6</th>\n",
       "      <th>7</th>\n",
       "      <th>8</th>\n",
       "      <th>9</th>\n",
       "      <th>10</th>\n",
       "      <th>11</th>\n",
       "      <th>12</th>\n",
       "      <th>13</th>\n",
       "      <th>14</th>\n",
       "      <th>15</th>\n",
       "    </tr>\n",
       "  </thead>\n",
       "  <tbody>\n",
       "    <tr>\n",
       "      <td>0</td>\n",
       "      <td>0</td>\n",
       "      <td>30.83</td>\n",
       "      <td>0.000</td>\n",
       "      <td>0</td>\n",
       "      <td>0</td>\n",
       "      <td>9</td>\n",
       "      <td>0</td>\n",
       "      <td>1.25</td>\n",
       "      <td>0</td>\n",
       "      <td>0</td>\n",
       "      <td>1</td>\n",
       "      <td>1</td>\n",
       "      <td>0</td>\n",
       "      <td>202</td>\n",
       "      <td>0.0</td>\n",
       "      <td>-1</td>\n",
       "    </tr>\n",
       "    <tr>\n",
       "      <td>1</td>\n",
       "      <td>1</td>\n",
       "      <td>58.67</td>\n",
       "      <td>4.460</td>\n",
       "      <td>0</td>\n",
       "      <td>0</td>\n",
       "      <td>8</td>\n",
       "      <td>1</td>\n",
       "      <td>3.04</td>\n",
       "      <td>0</td>\n",
       "      <td>0</td>\n",
       "      <td>6</td>\n",
       "      <td>1</td>\n",
       "      <td>0</td>\n",
       "      <td>43</td>\n",
       "      <td>560.0</td>\n",
       "      <td>-1</td>\n",
       "    </tr>\n",
       "    <tr>\n",
       "      <td>2</td>\n",
       "      <td>1</td>\n",
       "      <td>24.50</td>\n",
       "      <td>0.500</td>\n",
       "      <td>0</td>\n",
       "      <td>0</td>\n",
       "      <td>8</td>\n",
       "      <td>1</td>\n",
       "      <td>1.50</td>\n",
       "      <td>0</td>\n",
       "      <td>1</td>\n",
       "      <td>0</td>\n",
       "      <td>1</td>\n",
       "      <td>0</td>\n",
       "      <td>280</td>\n",
       "      <td>824.0</td>\n",
       "      <td>-1</td>\n",
       "    </tr>\n",
       "    <tr>\n",
       "      <td>3</td>\n",
       "      <td>0</td>\n",
       "      <td>27.83</td>\n",
       "      <td>1.540</td>\n",
       "      <td>0</td>\n",
       "      <td>0</td>\n",
       "      <td>9</td>\n",
       "      <td>0</td>\n",
       "      <td>3.75</td>\n",
       "      <td>0</td>\n",
       "      <td>0</td>\n",
       "      <td>5</td>\n",
       "      <td>0</td>\n",
       "      <td>0</td>\n",
       "      <td>100</td>\n",
       "      <td>3.0</td>\n",
       "      <td>-1</td>\n",
       "    </tr>\n",
       "    <tr>\n",
       "      <td>4</td>\n",
       "      <td>0</td>\n",
       "      <td>20.17</td>\n",
       "      <td>5.625</td>\n",
       "      <td>0</td>\n",
       "      <td>0</td>\n",
       "      <td>9</td>\n",
       "      <td>0</td>\n",
       "      <td>1.71</td>\n",
       "      <td>0</td>\n",
       "      <td>1</td>\n",
       "      <td>0</td>\n",
       "      <td>1</td>\n",
       "      <td>2</td>\n",
       "      <td>120</td>\n",
       "      <td>0.0</td>\n",
       "      <td>-1</td>\n",
       "    </tr>\n",
       "  </tbody>\n",
       "</table>\n",
       "</div>"
      ],
      "text/plain": [
       "   0      1      2   3   4   5   6     7   8   9   10  11  12   13     14  15\n",
       "0   0  30.83  0.000   0   0   9   0  1.25   0   0   1   1   0  202    0.0  -1\n",
       "1   1  58.67  4.460   0   0   8   1  3.04   0   0   6   1   0   43  560.0  -1\n",
       "2   1  24.50  0.500   0   0   8   1  1.50   0   1   0   1   0  280  824.0  -1\n",
       "3   0  27.83  1.540   0   0   9   0  3.75   0   0   5   0   0  100    3.0  -1\n",
       "4   0  20.17  5.625   0   0   9   0  1.71   0   1   0   1   2  120    0.0  -1"
      ]
     },
     "execution_count": 7,
     "metadata": {},
     "output_type": "execute_result"
    }
   ],
   "source": [
    "data.head()"
   ]
  },
  {
   "cell_type": "code",
   "execution_count": 8,
   "metadata": {},
   "outputs": [
    {
     "data": {
      "text/plain": [
       " 1    357\n",
       "-1    296\n",
       "Name: 15, dtype: int64"
      ]
     },
     "execution_count": 8,
     "metadata": {},
     "output_type": "execute_result"
    }
   ],
   "source": [
    "data.iloc[:,-1].value_counts()"
   ]
  },
  {
   "cell_type": "code",
   "execution_count": 12,
   "metadata": {},
   "outputs": [],
   "source": [
    "x = data.iloc[:,:-1]\n",
    "y = data.iloc[:,-1].replace(-1,0)"
   ]
  },
  {
   "cell_type": "code",
   "execution_count": 15,
   "metadata": {},
   "outputs": [],
   "source": [
    "model = tf.keras.Sequential()"
   ]
  },
  {
   "cell_type": "code",
   "execution_count": 16,
   "metadata": {},
   "outputs": [],
   "source": [
    "model.add(tf.keras.layers.Dense(4,input_shape=(15,),activation='relu'))\n",
    "model.add(tf.keras.layers.Dense(4,activation='relu'))\n",
    "model.add(tf.keras.layers.Dense(1,activation='sigmoid'))"
   ]
  },
  {
   "cell_type": "code",
   "execution_count": 17,
   "metadata": {},
   "outputs": [
    {
     "name": "stdout",
     "output_type": "stream",
     "text": [
      "Model: \"sequential\"\n",
      "_________________________________________________________________\n",
      "Layer (type)                 Output Shape              Param #   \n",
      "=================================================================\n",
      "dense (Dense)                (None, 4)                 64        \n",
      "_________________________________________________________________\n",
      "dense_1 (Dense)              (None, 4)                 20        \n",
      "_________________________________________________________________\n",
      "dense_2 (Dense)              (None, 1)                 5         \n",
      "=================================================================\n",
      "Total params: 89\n",
      "Trainable params: 89\n",
      "Non-trainable params: 0\n",
      "_________________________________________________________________\n"
     ]
    }
   ],
   "source": [
    "model.summary()"
   ]
  },
  {
   "cell_type": "code",
   "execution_count": 18,
   "metadata": {},
   "outputs": [],
   "source": [
    "model.compile(optimizer='adam',\n",
    "             loss='binary_crossentropy',#交叉熵\n",
    "             metrics=['acc'])#acc正确率"
   ]
  },
  {
   "cell_type": "code",
   "execution_count": 19,
   "metadata": {},
   "outputs": [
    {
     "name": "stdout",
     "output_type": "stream",
     "text": [
      "Epoch 1/100\n",
      "653/653 [==============================] - 0s 191us/sample - loss: 0.9596 - acc: 0.6662\n",
      "Epoch 2/100\n",
      "653/653 [==============================] - 0s 20us/sample - loss: 0.7997 - acc: 0.6524\n",
      "Epoch 3/100\n",
      "653/653 [==============================] - 0s 21us/sample - loss: 0.7586 - acc: 0.6708\n",
      "Epoch 4/100\n",
      "653/653 [==============================] - 0s 23us/sample - loss: 0.7287 - acc: 0.6769\n",
      "Epoch 5/100\n",
      "653/653 [==============================] - 0s 21us/sample - loss: 0.7066 - acc: 0.6769\n",
      "Epoch 6/100\n",
      "653/653 [==============================] - 0s 21us/sample - loss: 0.6841 - acc: 0.6815\n",
      "Epoch 7/100\n",
      "653/653 [==============================] - 0s 21us/sample - loss: 0.6695 - acc: 0.6830\n",
      "Epoch 8/100\n",
      "653/653 [==============================] - 0s 21us/sample - loss: 0.6610 - acc: 0.6830\n",
      "Epoch 9/100\n",
      "653/653 [==============================] - 0s 21us/sample - loss: 0.6517 - acc: 0.6830\n",
      "Epoch 10/100\n",
      "653/653 [==============================] - 0s 23us/sample - loss: 0.6429 - acc: 0.6937\n",
      "Epoch 11/100\n",
      "653/653 [==============================] - 0s 21us/sample - loss: 0.6392 - acc: 0.6937\n",
      "Epoch 12/100\n",
      "653/653 [==============================] - 0s 21us/sample - loss: 0.6352 - acc: 0.6907\n",
      "Epoch 13/100\n",
      "653/653 [==============================] - 0s 21us/sample - loss: 0.6327 - acc: 0.6922\n",
      "Epoch 14/100\n",
      "653/653 [==============================] - 0s 21us/sample - loss: 0.6316 - acc: 0.6953\n",
      "Epoch 15/100\n",
      "653/653 [==============================] - 0s 23us/sample - loss: 0.6304 - acc: 0.6922\n",
      "Epoch 16/100\n",
      "653/653 [==============================] - 0s 21us/sample - loss: 0.6217 - acc: 0.6922\n",
      "Epoch 17/100\n",
      "653/653 [==============================] - 0s 23us/sample - loss: 0.6210 - acc: 0.6922\n",
      "Epoch 18/100\n",
      "653/653 [==============================] - 0s 24us/sample - loss: 0.6175 - acc: 0.6922\n",
      "Epoch 19/100\n",
      "653/653 [==============================] - 0s 21us/sample - loss: 0.6156 - acc: 0.6968\n",
      "Epoch 20/100\n",
      "653/653 [==============================] - 0s 21us/sample - loss: 0.6119 - acc: 0.6953\n",
      "Epoch 21/100\n",
      "653/653 [==============================] - 0s 23us/sample - loss: 0.6098 - acc: 0.6983\n",
      "Epoch 22/100\n",
      "653/653 [==============================] - 0s 23us/sample - loss: 0.6093 - acc: 0.6998\n",
      "Epoch 23/100\n",
      "653/653 [==============================] - 0s 23us/sample - loss: 0.6056 - acc: 0.6937\n",
      "Epoch 24/100\n",
      "653/653 [==============================] - 0s 23us/sample - loss: 0.6029 - acc: 0.6983\n",
      "Epoch 25/100\n",
      "653/653 [==============================] - 0s 23us/sample - loss: 0.6086 - acc: 0.6998\n",
      "Epoch 26/100\n",
      "653/653 [==============================] - 0s 23us/sample - loss: 0.6013 - acc: 0.7075\n",
      "Epoch 27/100\n",
      "653/653 [==============================] - 0s 23us/sample - loss: 0.5972 - acc: 0.7029\n",
      "Epoch 28/100\n",
      "653/653 [==============================] - 0s 21us/sample - loss: 0.5958 - acc: 0.7075\n",
      "Epoch 29/100\n",
      "653/653 [==============================] - 0s 23us/sample - loss: 0.5923 - acc: 0.7106\n",
      "Epoch 30/100\n",
      "653/653 [==============================] - 0s 21us/sample - loss: 0.5904 - acc: 0.7106\n",
      "Epoch 31/100\n",
      "653/653 [==============================] - 0s 21us/sample - loss: 0.5892 - acc: 0.7060\n",
      "Epoch 32/100\n",
      "653/653 [==============================] - 0s 21us/sample - loss: 0.5899 - acc: 0.7152\n",
      "Epoch 33/100\n",
      "653/653 [==============================] - 0s 23us/sample - loss: 0.5880 - acc: 0.7029\n",
      "Epoch 34/100\n",
      "653/653 [==============================] - 0s 23us/sample - loss: 0.5847 - acc: 0.7106\n",
      "Epoch 35/100\n",
      "653/653 [==============================] - 0s 21us/sample - loss: 0.5819 - acc: 0.7198\n",
      "Epoch 36/100\n",
      "653/653 [==============================] - 0s 21us/sample - loss: 0.5804 - acc: 0.7182\n",
      "Epoch 37/100\n",
      "653/653 [==============================] - 0s 20us/sample - loss: 0.5784 - acc: 0.7289\n",
      "Epoch 38/100\n",
      "653/653 [==============================] - 0s 21us/sample - loss: 0.5773 - acc: 0.7182\n",
      "Epoch 39/100\n",
      "653/653 [==============================] - 0s 21us/sample - loss: 0.5767 - acc: 0.7182\n",
      "Epoch 40/100\n",
      "653/653 [==============================] - 0s 21us/sample - loss: 0.5748 - acc: 0.7213\n",
      "Epoch 41/100\n",
      "653/653 [==============================] - 0s 23us/sample - loss: 0.5729 - acc: 0.7274\n",
      "Epoch 42/100\n",
      "653/653 [==============================] - 0s 23us/sample - loss: 0.5704 - acc: 0.7259\n",
      "Epoch 43/100\n",
      "653/653 [==============================] - 0s 21us/sample - loss: 0.5697 - acc: 0.7335\n",
      "Epoch 44/100\n",
      "653/653 [==============================] - 0s 21us/sample - loss: 0.5693 - acc: 0.7259\n",
      "Epoch 45/100\n",
      "653/653 [==============================] - 0s 21us/sample - loss: 0.5673 - acc: 0.7274\n",
      "Epoch 46/100\n",
      "653/653 [==============================] - 0s 21us/sample - loss: 0.5735 - acc: 0.7305\n",
      "Epoch 47/100\n",
      "653/653 [==============================] - 0s 21us/sample - loss: 0.5656 - acc: 0.7351\n",
      "Epoch 48/100\n",
      "653/653 [==============================] - 0s 21us/sample - loss: 0.5661 - acc: 0.7351\n",
      "Epoch 49/100\n",
      "653/653 [==============================] - 0s 20us/sample - loss: 0.5654 - acc: 0.7243\n",
      "Epoch 50/100\n",
      "653/653 [==============================] - 0s 21us/sample - loss: 0.5630 - acc: 0.7366\n",
      "Epoch 51/100\n",
      "653/653 [==============================] - 0s 21us/sample - loss: 0.5580 - acc: 0.7335\n",
      "Epoch 52/100\n",
      "653/653 [==============================] - 0s 23us/sample - loss: 0.5593 - acc: 0.7243\n",
      "Epoch 53/100\n",
      "653/653 [==============================] - 0s 21us/sample - loss: 0.5641 - acc: 0.7397\n",
      "Epoch 54/100\n",
      "653/653 [==============================] - 0s 21us/sample - loss: 0.5614 - acc: 0.7366\n",
      "Epoch 55/100\n",
      "653/653 [==============================] - 0s 21us/sample - loss: 0.5566 - acc: 0.7351\n",
      "Epoch 56/100\n",
      "653/653 [==============================] - 0s 21us/sample - loss: 0.5539 - acc: 0.7351\n",
      "Epoch 57/100\n",
      "653/653 [==============================] - 0s 21us/sample - loss: 0.5548 - acc: 0.7335\n",
      "Epoch 58/100\n",
      "653/653 [==============================] - 0s 21us/sample - loss: 0.5493 - acc: 0.7381\n",
      "Epoch 59/100\n",
      "653/653 [==============================] - 0s 23us/sample - loss: 0.5500 - acc: 0.7366\n",
      "Epoch 60/100\n",
      "653/653 [==============================] - 0s 23us/sample - loss: 0.5490 - acc: 0.7427\n",
      "Epoch 61/100\n",
      "653/653 [==============================] - 0s 21us/sample - loss: 0.5489 - acc: 0.7397\n",
      "Epoch 62/100\n",
      "653/653 [==============================] - 0s 23us/sample - loss: 0.5497 - acc: 0.7351\n",
      "Epoch 63/100\n",
      "653/653 [==============================] - 0s 23us/sample - loss: 0.5469 - acc: 0.7458\n",
      "Epoch 64/100\n",
      "653/653 [==============================] - 0s 21us/sample - loss: 0.5439 - acc: 0.7381\n",
      "Epoch 65/100\n",
      "653/653 [==============================] - 0s 20us/sample - loss: 0.5436 - acc: 0.7412\n",
      "Epoch 66/100\n",
      "653/653 [==============================] - 0s 21us/sample - loss: 0.5424 - acc: 0.7458\n",
      "Epoch 67/100\n",
      "653/653 [==============================] - 0s 20us/sample - loss: 0.5456 - acc: 0.7351\n",
      "Epoch 68/100\n",
      "653/653 [==============================] - 0s 23us/sample - loss: 0.5403 - acc: 0.7412\n",
      "Epoch 69/100\n",
      "653/653 [==============================] - 0s 20us/sample - loss: 0.5415 - acc: 0.7397\n",
      "Epoch 70/100\n",
      "653/653 [==============================] - 0s 21us/sample - loss: 0.5401 - acc: 0.7443\n",
      "Epoch 71/100\n",
      "653/653 [==============================] - 0s 20us/sample - loss: 0.5392 - acc: 0.7397\n",
      "Epoch 72/100\n",
      "653/653 [==============================] - 0s 20us/sample - loss: 0.5376 - acc: 0.7489\n",
      "Epoch 73/100\n",
      "653/653 [==============================] - 0s 21us/sample - loss: 0.5352 - acc: 0.7519\n",
      "Epoch 74/100\n",
      "653/653 [==============================] - 0s 21us/sample - loss: 0.5417 - acc: 0.7381\n",
      "Epoch 75/100\n",
      "653/653 [==============================] - 0s 21us/sample - loss: 0.5354 - acc: 0.7381\n",
      "Epoch 76/100\n",
      "653/653 [==============================] - 0s 23us/sample - loss: 0.5402 - acc: 0.7412\n",
      "Epoch 77/100\n",
      "653/653 [==============================] - 0s 20us/sample - loss: 0.5367 - acc: 0.7443\n",
      "Epoch 78/100\n",
      "653/653 [==============================] - 0s 23us/sample - loss: 0.5329 - acc: 0.7458\n",
      "Epoch 79/100\n",
      "653/653 [==============================] - 0s 23us/sample - loss: 0.5324 - acc: 0.7412\n",
      "Epoch 80/100\n",
      "653/653 [==============================] - 0s 21us/sample - loss: 0.5452 - acc: 0.7366\n",
      "Epoch 81/100\n",
      "653/653 [==============================] - 0s 23us/sample - loss: 0.5304 - acc: 0.7489\n",
      "Epoch 82/100\n",
      "653/653 [==============================] - 0s 24us/sample - loss: 0.5289 - acc: 0.7504\n",
      "Epoch 83/100\n"
     ]
    },
    {
     "name": "stdout",
     "output_type": "stream",
     "text": [
      "653/653 [==============================] - 0s 21us/sample - loss: 0.5285 - acc: 0.7534\n",
      "Epoch 84/100\n",
      "653/653 [==============================] - 0s 23us/sample - loss: 0.5254 - acc: 0.7489\n",
      "Epoch 85/100\n",
      "653/653 [==============================] - 0s 23us/sample - loss: 0.5301 - acc: 0.7489\n",
      "Epoch 86/100\n",
      "653/653 [==============================] - 0s 23us/sample - loss: 0.5284 - acc: 0.7443\n",
      "Epoch 87/100\n",
      "653/653 [==============================] - 0s 21us/sample - loss: 0.5255 - acc: 0.7534\n",
      "Epoch 88/100\n",
      "653/653 [==============================] - 0s 23us/sample - loss: 0.5233 - acc: 0.7534\n",
      "Epoch 89/100\n",
      "653/653 [==============================] - 0s 21us/sample - loss: 0.5257 - acc: 0.7489\n",
      "Epoch 90/100\n",
      "653/653 [==============================] - 0s 22us/sample - loss: 0.5353 - acc: 0.7443\n",
      "Epoch 91/100\n",
      "653/653 [==============================] - 0s 21us/sample - loss: 0.5232 - acc: 0.7596\n",
      "Epoch 92/100\n",
      "653/653 [==============================] - 0s 21us/sample - loss: 0.5226 - acc: 0.7519\n",
      "Epoch 93/100\n",
      "653/653 [==============================] - 0s 24us/sample - loss: 0.5243 - acc: 0.7534\n",
      "Epoch 94/100\n",
      "653/653 [==============================] - 0s 21us/sample - loss: 0.5207 - acc: 0.7580\n",
      "Epoch 95/100\n",
      "653/653 [==============================] - 0s 21us/sample - loss: 0.5226 - acc: 0.7489\n",
      "Epoch 96/100\n",
      "653/653 [==============================] - 0s 21us/sample - loss: 0.5260 - acc: 0.7534\n",
      "Epoch 97/100\n",
      "653/653 [==============================] - 0s 21us/sample - loss: 0.5164 - acc: 0.7657\n",
      "Epoch 98/100\n",
      "653/653 [==============================] - 0s 21us/sample - loss: 0.5265 - acc: 0.7519\n",
      "Epoch 99/100\n",
      "653/653 [==============================] - 0s 23us/sample - loss: 0.5173 - acc: 0.7580\n",
      "Epoch 100/100\n",
      "653/653 [==============================] - 0s 21us/sample - loss: 0.5209 - acc: 0.7580\n"
     ]
    }
   ],
   "source": [
    "history = model.fit(x,y,epochs=100)"
   ]
  },
  {
   "cell_type": "code",
   "execution_count": 20,
   "metadata": {},
   "outputs": [
    {
     "data": {
      "text/plain": [
       "dict_keys(['loss', 'acc'])"
      ]
     },
     "execution_count": 20,
     "metadata": {},
     "output_type": "execute_result"
    }
   ],
   "source": [
    "history.history.keys()"
   ]
  },
  {
   "cell_type": "code",
   "execution_count": 21,
   "metadata": {},
   "outputs": [
    {
     "data": {
      "text/plain": [
       "[<matplotlib.lines.Line2D at 0x237feabde48>]"
      ]
     },
     "execution_count": 21,
     "metadata": {},
     "output_type": "execute_result"
    },
    {
     "data": {
      "image/png": "[encoded data removed]",
      "text/plain": [
       "<Figure size 432x288 with 1 Axes>"
      ]
     },
     "metadata": {
      "needs_background": "light"
     },
     "output_type": "display_data"
    }
   ],
   "source": [
    "plt.plot(history.epoch, history.history.get('loss'))"
   ]
  },
  {
   "cell_type": "code",
   "execution_count": 22,
   "metadata": {},
   "outputs": [
    {
     "data": {
      "text/plain": [
       "[<matplotlib.lines.Line2D at 0x237fed2df88>]"
      ]
     },
     "execution_count": 22,
     "metadata": {},
     "output_type": "execute_result"
    },
    {
     "data": {
      "image/png": "[encoded data removed]",
      "text/plain": [
       "<Figure size 432x288 with 1 Axes>"
      ]
     },
     "metadata": {
      "needs_background": "light"
     },
     "output_type": "display_data"
    }
   ],
   "source": [
    "plt.plot(history.epoch, history.history.get('acc'))"
   ]
  },
  {
   "cell_type": "code",
   "execution_count": null,
   "metadata": {},
   "outputs": [],
   "source": []
  }
 ],
 "metadata": {
  "kernelspec": {
   "display_name": "Python 3",
   "language": "python",
   "name": "python3"
  },
  "language_info": {
   "codemirror_mode": {
    "name": "ipython",
    "version": 3
   },
   "file_extension": ".py",
   "mimetype": "text/x-python",
   "name": "python",
   "nbconvert_exporter": "python",
   "pygments_lexer": "ipython3",
   "version": "3.7.4"
  }
 },
 "nbformat": 4,
 "nbformat_minor": 2
}
