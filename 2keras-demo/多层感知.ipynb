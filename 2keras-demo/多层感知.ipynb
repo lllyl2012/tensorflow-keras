{
 "cells": [
  {
   "cell_type": "code",
   "execution_count": 1,
   "metadata": {},
   "outputs": [
    {
     "name": "stderr",
     "output_type": "stream",
     "text": [
      "d:\\develop\\python\\lib\\site-packages\\tensorflow\\python\\framework\\dtypes.py:523: FutureWarning: Passing (type, 1) or '1type' as a synonym of type is deprecated; in a future version of numpy, it will be understood as (type, (1,)) / '(1,)type'.\n",
      "  _np_qint8 = np.dtype([(\"qint8\", np.int8, 1)])\n",
      "d:\\develop\\python\\lib\\site-packages\\tensorflow\\python\\framework\\dtypes.py:524: FutureWarning: Passing (type, 1) or '1type' as a synonym of type is deprecated; in a future version of numpy, it will be understood as (type, (1,)) / '(1,)type'.\n",
      "  _np_quint8 = np.dtype([(\"quint8\", np.uint8, 1)])\n",
      "d:\\develop\\python\\lib\\site-packages\\tensorflow\\python\\framework\\dtypes.py:525: FutureWarning: Passing (type, 1) or '1type' as a synonym of type is deprecated; in a future version of numpy, it will be understood as (type, (1,)) / '(1,)type'.\n",
      "  _np_qint16 = np.dtype([(\"qint16\", np.int16, 1)])\n",
      "d:\\develop\\python\\lib\\site-packages\\tensorflow\\python\\framework\\dtypes.py:526: FutureWarning: Passing (type, 1) or '1type' as a synonym of type is deprecated; in a future version of numpy, it will be understood as (type, (1,)) / '(1,)type'.\n",
      "  _np_quint16 = np.dtype([(\"quint16\", np.uint16, 1)])\n",
      "d:\\develop\\python\\lib\\site-packages\\tensorflow\\python\\framework\\dtypes.py:527: FutureWarning: Passing (type, 1) or '1type' as a synonym of type is deprecated; in a future version of numpy, it will be understood as (type, (1,)) / '(1,)type'.\n",
      "  _np_qint32 = np.dtype([(\"qint32\", np.int32, 1)])\n",
      "d:\\develop\\python\\lib\\site-packages\\tensorflow\\python\\framework\\dtypes.py:532: FutureWarning: Passing (type, 1) or '1type' as a synonym of type is deprecated; in a future version of numpy, it will be understood as (type, (1,)) / '(1,)type'.\n",
      "  np_resource = np.dtype([(\"resource\", np.ubyte, 1)])\n",
      "d:\\develop\\python\\lib\\site-packages\\tensorboard\\compat\\tensorflow_stub\\dtypes.py:541: FutureWarning: Passing (type, 1) or '1type' as a synonym of type is deprecated; in a future version of numpy, it will be understood as (type, (1,)) / '(1,)type'.\n",
      "  _np_qint8 = np.dtype([(\"qint8\", np.int8, 1)])\n",
      "d:\\develop\\python\\lib\\site-packages\\tensorboard\\compat\\tensorflow_stub\\dtypes.py:542: FutureWarning: Passing (type, 1) or '1type' as a synonym of type is deprecated; in a future version of numpy, it will be understood as (type, (1,)) / '(1,)type'.\n",
      "  _np_quint8 = np.dtype([(\"quint8\", np.uint8, 1)])\n",
      "d:\\develop\\python\\lib\\site-packages\\tensorboard\\compat\\tensorflow_stub\\dtypes.py:543: FutureWarning: Passing (type, 1) or '1type' as a synonym of type is deprecated; in a future version of numpy, it will be understood as (type, (1,)) / '(1,)type'.\n",
      "  _np_qint16 = np.dtype([(\"qint16\", np.int16, 1)])\n",
      "d:\\develop\\python\\lib\\site-packages\\tensorboard\\compat\\tensorflow_stub\\dtypes.py:544: FutureWarning: Passing (type, 1) or '1type' as a synonym of type is deprecated; in a future version of numpy, it will be understood as (type, (1,)) / '(1,)type'.\n",
      "  _np_quint16 = np.dtype([(\"quint16\", np.uint16, 1)])\n",
      "d:\\develop\\python\\lib\\site-packages\\tensorboard\\compat\\tensorflow_stub\\dtypes.py:545: FutureWarning: Passing (type, 1) or '1type' as a synonym of type is deprecated; in a future version of numpy, it will be understood as (type, (1,)) / '(1,)type'.\n",
      "  _np_qint32 = np.dtype([(\"qint32\", np.int32, 1)])\n",
      "d:\\develop\\python\\lib\\site-packages\\tensorboard\\compat\\tensorflow_stub\\dtypes.py:550: FutureWarning: Passing (type, 1) or '1type' as a synonym of type is deprecated; in a future version of numpy, it will be understood as (type, (1,)) / '(1,)type'.\n",
      "  np_resource = np.dtype([(\"resource\", np.ubyte, 1)])\n"
     ]
    }
   ],
   "source": [
    "import tensorflow as tf\n",
    "import numpy as np\n",
    "import pandas as pd\n",
    "import matplotlib.pyplot as plt\n",
    "%matplotlib inline"
   ]
  },
  {
   "cell_type": "code",
   "execution_count": 2,
   "metadata": {},
   "outputs": [],
   "source": [
    "data = pd.read_csv('E:\\\\study\\\\tensorflow\\\\data\\\\Advertising.csv')"
   ]
  },
  {
   "cell_type": "code",
   "execution_count": 3,
   "metadata": {},
   "outputs": [
    {
     "data": {
      "text/html": [
       "<div>\n",
       "<style scoped>\n",
       "    .dataframe tbody tr th:only-of-type {\n",
       "        vertical-align: middle;\n",
       "    }\n",
       "\n",
       "    .dataframe tbody tr th {\n",
       "        vertical-align: top;\n",
       "    }\n",
       "\n",
       "    .dataframe thead th {\n",
       "        text-align: right;\n",
       "    }\n",
       "</style>\n",
       "<table border=\"1\" class=\"dataframe\">\n",
       "  <thead>\n",
       "    <tr style=\"text-align: right;\">\n",
       "      <th></th>\n",
       "      <th>Unnamed: 0</th>\n",
       "      <th>TV</th>\n",
       "      <th>radio</th>\n",
       "      <th>newspaper</th>\n",
       "      <th>sales</th>\n",
       "    </tr>\n",
       "  </thead>\n",
       "  <tbody>\n",
       "    <tr>\n",
       "      <td>0</td>\n",
       "      <td>1</td>\n",
       "      <td>230.1</td>\n",
       "      <td>37.8</td>\n",
       "      <td>69.2</td>\n",
       "      <td>22.1</td>\n",
       "    </tr>\n",
       "    <tr>\n",
       "      <td>1</td>\n",
       "      <td>2</td>\n",
       "      <td>44.5</td>\n",
       "      <td>39.3</td>\n",
       "      <td>45.1</td>\n",
       "      <td>10.4</td>\n",
       "    </tr>\n",
       "    <tr>\n",
       "      <td>2</td>\n",
       "      <td>3</td>\n",
       "      <td>17.2</td>\n",
       "      <td>45.9</td>\n",
       "      <td>69.3</td>\n",
       "      <td>9.3</td>\n",
       "    </tr>\n",
       "    <tr>\n",
       "      <td>3</td>\n",
       "      <td>4</td>\n",
       "      <td>151.5</td>\n",
       "      <td>41.3</td>\n",
       "      <td>58.5</td>\n",
       "      <td>18.5</td>\n",
       "    </tr>\n",
       "    <tr>\n",
       "      <td>4</td>\n",
       "      <td>5</td>\n",
       "      <td>180.8</td>\n",
       "      <td>10.8</td>\n",
       "      <td>58.4</td>\n",
       "      <td>12.9</td>\n",
       "    </tr>\n",
       "  </tbody>\n",
       "</table>\n",
       "</div>"
      ],
      "text/plain": [
       "   Unnamed: 0     TV  radio  newspaper  sales\n",
       "0           1  230.1   37.8       69.2   22.1\n",
       "1           2   44.5   39.3       45.1   10.4\n",
       "2           3   17.2   45.9       69.3    9.3\n",
       "3           4  151.5   41.3       58.5   18.5\n",
       "4           5  180.8   10.8       58.4   12.9"
      ]
     },
     "execution_count": 3,
     "metadata": {},
     "output_type": "execute_result"
    }
   ],
   "source": [
    "data.head()"
   ]
  },
  {
   "cell_type": "code",
   "execution_count": 4,
   "metadata": {},
   "outputs": [
    {
     "data": {
      "text/plain": [
       "<matplotlib.collections.PathCollection at 0x201aaf87488>"
      ]
     },
     "execution_count": 4,
     "metadata": {},
     "output_type": "execute_result"
    },
    {
     "data": {
      "image/png": "[encoded data removed]",
      "text/plain": [
       "<Figure size 432x288 with 1 Axes>"
      ]
     },
     "metadata": {
      "needs_background": "light"
     },
     "output_type": "display_data"
    }
   ],
   "source": [
    "plt.scatter(data.TV,data.sales)"
   ]
  },
  {
   "cell_type": "code",
   "execution_count": 6,
   "metadata": {},
   "outputs": [
    {
     "data": {
      "text/plain": [
       "<matplotlib.collections.PathCollection at 0x201aaf79fc8>"
      ]
     },
     "execution_count": 6,
     "metadata": {},
     "output_type": "execute_result"
    },
    {
     "data": {
      "image/png": "[encoded data removed]",
      "text/plain": [
       "<Figure size 432x288 with 1 Axes>"
      ]
     },
     "metadata": {
      "needs_background": "light"
     },
     "output_type": "display_data"
    }
   ],
   "source": [
    "plt.scatter(data.newspaper,data.sales)"
   ]
  },
  {
   "cell_type": "code",
   "execution_count": 7,
   "metadata": {},
   "outputs": [],
   "source": [
    "x = data.iloc[:,1:-1]\n",
    "y = data.iloc[:,-1]"
   ]
  },
  {
   "cell_type": "code",
   "execution_count": 14,
   "metadata": {},
   "outputs": [],
   "source": [
    "model = tf.keras.Sequential([tf.keras.layers.Dense(10,input_shape=(3,),activation='relu'),\n",
    "                            tf.keras.layers.Dense(1)])"
   ]
  },
  {
   "cell_type": "code",
   "execution_count": 15,
   "metadata": {},
   "outputs": [
    {
     "name": "stdout",
     "output_type": "stream",
     "text": [
      "Model: \"sequential\"\n",
      "_________________________________________________________________\n",
      "Layer (type)                 Output Shape              Param #   \n",
      "=================================================================\n",
      "dense (Dense)                (None, 10)                40        \n",
      "_________________________________________________________________\n",
      "dense_1 (Dense)              (None, 1)                 11        \n",
      "=================================================================\n",
      "Total params: 51\n",
      "Trainable params: 51\n",
      "Non-trainable params: 0\n",
      "_________________________________________________________________\n"
     ]
    }
   ],
   "source": [
    "model.summary()"
   ]
  },
  {
   "cell_type": "code",
   "execution_count": 17,
   "metadata": {},
   "outputs": [],
   "source": [
    "model.compile(optimizer='adam',loss='mse')"
   ]
  },
  {
   "cell_type": "code",
   "execution_count": 18,
   "metadata": {},
   "outputs": [
    {
     "name": "stdout",
     "output_type": "stream",
     "text": [
      "Epoch 1/100\n",
      "200/200 [==============================] - 0s 420us/sample - loss: 267.9858\n",
      "Epoch 2/100\n",
      "200/200 [==============================] - 0s 25us/sample - loss: 227.6207\n",
      "Epoch 3/100\n",
      "200/200 [==============================] - 0s 20us/sample - loss: 203.6095\n",
      "Epoch 4/100\n",
      "200/200 [==============================] - 0s 25us/sample - loss: 186.3211\n",
      "Epoch 5/100\n",
      "200/200 [==============================] - 0s 20us/sample - loss: 172.3403\n",
      "Epoch 6/100\n",
      "200/200 [==============================] - 0s 25us/sample - loss: 161.5165\n",
      "Epoch 7/100\n",
      "200/200 [==============================] - 0s 25us/sample - loss: 149.5088\n",
      "Epoch 8/100\n",
      "200/200 [==============================] - 0s 25us/sample - loss: 138.4178\n",
      "Epoch 9/100\n",
      "200/200 [==============================] - 0s 25us/sample - loss: 127.6164\n",
      "Epoch 10/100\n",
      "200/200 [==============================] - 0s 25us/sample - loss: 117.9856\n",
      "Epoch 11/100\n",
      "200/200 [==============================] - 0s 20us/sample - loss: 108.5217\n",
      "Epoch 12/100\n",
      "200/200 [==============================] - 0s 25us/sample - loss: 99.6643\n",
      "Epoch 13/100\n",
      "200/200 [==============================] - 0s 25us/sample - loss: 91.8157\n",
      "Epoch 14/100\n",
      "200/200 [==============================] - 0s 25us/sample - loss: 84.8044\n",
      "Epoch 15/100\n",
      "200/200 [==============================] - 0s 25us/sample - loss: 78.3243\n",
      "Epoch 16/100\n",
      "200/200 [==============================] - 0s 25us/sample - loss: 71.6431\n",
      "Epoch 17/100\n",
      "200/200 [==============================] - 0s 25us/sample - loss: 65.7028\n",
      "Epoch 18/100\n",
      "200/200 [==============================] - 0s 25us/sample - loss: 60.2353\n",
      "Epoch 19/100\n",
      "200/200 [==============================] - 0s 25us/sample - loss: 54.8617\n",
      "Epoch 20/100\n",
      "200/200 [==============================] - 0s 25us/sample - loss: 50.7290\n",
      "Epoch 21/100\n",
      "200/200 [==============================] - 0s 20us/sample - loss: 46.3192\n",
      "Epoch 22/100\n",
      "200/200 [==============================] - 0s 20us/sample - loss: 42.8039\n",
      "Epoch 23/100\n",
      "200/200 [==============================] - 0s 25us/sample - loss: 39.1164\n",
      "Epoch 24/100\n",
      "200/200 [==============================] - 0s 25us/sample - loss: 36.1803\n",
      "Epoch 25/100\n",
      "200/200 [==============================] - 0s 25us/sample - loss: 33.5518\n",
      "Epoch 26/100\n",
      "200/200 [==============================] - 0s 25us/sample - loss: 30.9888\n",
      "Epoch 27/100\n",
      "200/200 [==============================] - 0s 25us/sample - loss: 28.4045\n",
      "Epoch 28/100\n",
      "200/200 [==============================] - 0s 25us/sample - loss: 26.0698\n",
      "Epoch 29/100\n",
      "200/200 [==============================] - 0s 25us/sample - loss: 24.1733\n",
      "Epoch 30/100\n",
      "200/200 [==============================] - 0s 20us/sample - loss: 22.4215\n",
      "Epoch 31/100\n",
      "200/200 [==============================] - 0s 25us/sample - loss: 20.9395\n",
      "Epoch 32/100\n",
      "200/200 [==============================] - 0s 30us/sample - loss: 19.6806\n",
      "Epoch 33/100\n",
      "200/200 [==============================] - 0s 25us/sample - loss: 18.4513\n",
      "Epoch 34/100\n",
      "200/200 [==============================] - 0s 30us/sample - loss: 17.5587\n",
      "Epoch 35/100\n",
      "200/200 [==============================] - 0s 25us/sample - loss: 16.6468\n",
      "Epoch 36/100\n",
      "200/200 [==============================] - 0s 25us/sample - loss: 15.8689\n",
      "Epoch 37/100\n",
      "200/200 [==============================] - 0s 25us/sample - loss: 15.1116\n",
      "Epoch 38/100\n",
      "200/200 [==============================] - 0s 25us/sample - loss: 14.4766\n",
      "Epoch 39/100\n",
      "200/200 [==============================] - 0s 25us/sample - loss: 13.7917\n",
      "Epoch 40/100\n",
      "200/200 [==============================] - 0s 20us/sample - loss: 13.1917\n",
      "Epoch 41/100\n",
      "200/200 [==============================] - 0s 25us/sample - loss: 12.6101\n",
      "Epoch 42/100\n",
      "200/200 [==============================] - 0s 25us/sample - loss: 11.9783\n",
      "Epoch 43/100\n",
      "200/200 [==============================] - 0s 25us/sample - loss: 11.3746\n",
      "Epoch 44/100\n",
      "200/200 [==============================] - 0s 25us/sample - loss: 10.7934\n",
      "Epoch 45/100\n",
      "200/200 [==============================] - 0s 20us/sample - loss: 10.2806\n",
      "Epoch 46/100\n",
      "200/200 [==============================] - 0s 20us/sample - loss: 9.7096\n",
      "Epoch 47/100\n",
      "200/200 [==============================] - 0s 25us/sample - loss: 9.2557\n",
      "Epoch 48/100\n",
      "200/200 [==============================] - 0s 25us/sample - loss: 8.8960\n",
      "Epoch 49/100\n",
      "200/200 [==============================] - 0s 25us/sample - loss: 8.6169\n",
      "Epoch 50/100\n",
      "200/200 [==============================] - 0s 25us/sample - loss: 8.3094\n",
      "Epoch 51/100\n",
      "200/200 [==============================] - 0s 25us/sample - loss: 8.0054\n",
      "Epoch 52/100\n",
      "200/200 [==============================] - 0s 25us/sample - loss: 7.7867\n",
      "Epoch 53/100\n",
      "200/200 [==============================] - 0s 20us/sample - loss: 7.5374\n",
      "Epoch 54/100\n",
      "200/200 [==============================] - 0s 25us/sample - loss: 7.3876\n",
      "Epoch 55/100\n",
      "200/200 [==============================] - 0s 25us/sample - loss: 7.2072\n",
      "Epoch 56/100\n",
      "200/200 [==============================] - 0s 25us/sample - loss: 7.0510\n",
      "Epoch 57/100\n",
      "200/200 [==============================] - 0s 25us/sample - loss: 6.9196\n",
      "Epoch 58/100\n",
      "200/200 [==============================] - 0s 30us/sample - loss: 6.7989\n",
      "Epoch 59/100\n",
      "200/200 [==============================] - 0s 20us/sample - loss: 6.6731\n",
      "Epoch 60/100\n",
      "200/200 [==============================] - 0s 25us/sample - loss: 6.5695\n",
      "Epoch 61/100\n",
      "200/200 [==============================] - 0s 25us/sample - loss: 6.4691\n",
      "Epoch 62/100\n",
      "200/200 [==============================] - 0s 20us/sample - loss: 6.3640\n",
      "Epoch 63/100\n",
      "200/200 [==============================] - 0s 25us/sample - loss: 6.2702\n",
      "Epoch 64/100\n",
      "200/200 [==============================] - 0s 20us/sample - loss: 6.1881\n",
      "Epoch 65/100\n",
      "200/200 [==============================] - 0s 20us/sample - loss: 6.1047\n",
      "Epoch 66/100\n",
      "200/200 [==============================] - 0s 25us/sample - loss: 6.0318\n",
      "Epoch 67/100\n",
      "200/200 [==============================] - 0s 20us/sample - loss: 5.9638\n",
      "Epoch 68/100\n",
      "200/200 [==============================] - 0s 20us/sample - loss: 5.8932\n",
      "Epoch 69/100\n",
      "200/200 [==============================] - 0s 20us/sample - loss: 5.8339\n",
      "Epoch 70/100\n",
      "200/200 [==============================] - 0s 25us/sample - loss: 5.7735\n",
      "Epoch 71/100\n",
      "200/200 [==============================] - 0s 25us/sample - loss: 5.7200\n",
      "Epoch 72/100\n",
      "200/200 [==============================] - 0s 25us/sample - loss: 5.6943\n",
      "Epoch 73/100\n",
      "200/200 [==============================] - 0s 30us/sample - loss: 5.6145\n",
      "Epoch 74/100\n",
      "200/200 [==============================] - 0s 20us/sample - loss: 5.5544\n",
      "Epoch 75/100\n",
      "200/200 [==============================] - 0s 20us/sample - loss: 5.5174\n",
      "Epoch 76/100\n",
      "200/200 [==============================] - 0s 25us/sample - loss: 5.4639\n",
      "Epoch 77/100\n",
      "200/200 [==============================] - 0s 30us/sample - loss: 5.4288\n",
      "Epoch 78/100\n",
      "200/200 [==============================] - 0s 30us/sample - loss: 5.3732\n",
      "Epoch 79/100\n",
      "200/200 [==============================] - 0s 25us/sample - loss: 5.3308\n",
      "Epoch 80/100\n",
      "200/200 [==============================] - 0s 25us/sample - loss: 5.2887\n",
      "Epoch 81/100\n",
      "200/200 [==============================] - 0s 20us/sample - loss: 5.2550\n",
      "Epoch 82/100\n",
      "200/200 [==============================] - 0s 25us/sample - loss: 5.2131\n",
      "Epoch 83/100\n",
      "200/200 [==============================] - 0s 20us/sample - loss: 5.1860\n",
      "Epoch 84/100\n",
      "200/200 [==============================] - 0s 20us/sample - loss: 5.1651\n",
      "Epoch 85/100\n",
      "200/200 [==============================] - 0s 25us/sample - loss: 5.1521\n",
      "Epoch 86/100\n",
      "200/200 [==============================] - 0s 25us/sample - loss: 5.1066\n",
      "Epoch 87/100\n",
      "200/200 [==============================] - 0s 25us/sample - loss: 5.0599\n",
      "Epoch 88/100\n",
      "200/200 [==============================] - 0s 20us/sample - loss: 5.0522\n",
      "Epoch 89/100\n",
      "200/200 [==============================] - 0s 25us/sample - loss: 5.0019\n",
      "Epoch 90/100\n",
      "200/200 [==============================] - 0s 25us/sample - loss: 4.9997\n",
      "Epoch 91/100\n",
      "200/200 [==============================] - 0s 25us/sample - loss: 4.9511\n",
      "Epoch 92/100\n",
      "200/200 [==============================] - 0s 25us/sample - loss: 4.9171\n",
      "Epoch 93/100\n",
      "200/200 [==============================] - 0s 25us/sample - loss: 4.8624\n",
      "Epoch 94/100\n",
      "200/200 [==============================] - 0s 25us/sample - loss: 4.8359\n",
      "Epoch 95/100\n"
     ]
    },
    {
     "name": "stdout",
     "output_type": "stream",
     "text": [
      "200/200 [==============================] - 0s 20us/sample - loss: 4.8286\n",
      "Epoch 96/100\n",
      "200/200 [==============================] - 0s 25us/sample - loss: 4.8103\n",
      "Epoch 97/100\n",
      "200/200 [==============================] - 0s 25us/sample - loss: 4.7910\n",
      "Epoch 98/100\n",
      "200/200 [==============================] - 0s 20us/sample - loss: 4.8223\n",
      "Epoch 99/100\n",
      "200/200 [==============================] - 0s 20us/sample - loss: 4.7547\n",
      "Epoch 100/100\n",
      "200/200 [==============================] - 0s 25us/sample - loss: 4.7051\n"
     ]
    },
    {
     "data": {
      "text/plain": [
       "<tensorflow.python.keras.callbacks.History at 0x201acf12848>"
      ]
     },
     "execution_count": 18,
     "metadata": {},
     "output_type": "execute_result"
    }
   ],
   "source": [
    "model.fit(x,y,epochs=100)"
   ]
  },
  {
   "cell_type": "code",
   "execution_count": 19,
   "metadata": {},
   "outputs": [],
   "source": [
    "test = data.iloc[0:10,1:-1]"
   ]
  },
  {
   "cell_type": "code",
   "execution_count": 20,
   "metadata": {},
   "outputs": [
    {
     "data": {
      "text/plain": [
       "array([[21.68779  ],\n",
       "       [11.788963 ],\n",
       "       [ 6.4660554],\n",
       "       [20.68922  ],\n",
       "       [12.926961 ],\n",
       "       [ 3.9330916],\n",
       "       [12.804267 ],\n",
       "       [10.999858 ],\n",
       "       [ 1.3793592],\n",
       "       [11.2255125]], dtype=float32)"
      ]
     },
     "execution_count": 20,
     "metadata": {},
     "output_type": "execute_result"
    }
   ],
   "source": [
    "model.predict(test)"
   ]
  },
  {
   "cell_type": "code",
   "execution_count": 21,
   "metadata": {},
   "outputs": [
    {
     "data": {
      "text/plain": [
       "0    22.1\n",
       "1    10.4\n",
       "2     9.3\n",
       "3    18.5\n",
       "4    12.9\n",
       "5     7.2\n",
       "6    11.8\n",
       "7    13.2\n",
       "8     4.8\n",
       "9    10.6\n",
       "Name: sales, dtype: float64"
      ]
     },
     "execution_count": 21,
     "metadata": {},
     "output_type": "execute_result"
    }
   ],
   "source": [
    "data.iloc[0:10,-1]"
   ]
  },
  {
   "cell_type": "code",
   "execution_count": null,
   "metadata": {},
   "outputs": [],
   "source": []
  }
 ],
 "metadata": {
  "kernelspec": {
   "display_name": "Python 3",
   "language": "python",
   "name": "python3"
  },
  "language_info": {
   "codemirror_mode": {
    "name": "ipython",
    "version": 3
   },
   "file_extension": ".py",
   "mimetype": "text/x-python",
   "name": "python",
   "nbconvert_exporter": "python",
   "pygments_lexer": "ipython3",
   "version": "3.7.4"
  }
 },
 "nbformat": 4,
 "nbformat_minor": 2
}
